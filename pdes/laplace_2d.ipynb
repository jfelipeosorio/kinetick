{
 "cells": [
  {
   "cell_type": "markdown",
   "metadata": {},
   "source": [
    "Tools"
   ]
  },
  {
   "cell_type": "code",
   "execution_count": 26,
   "metadata": {},
   "outputs": [],
   "source": [
    "import sys  \n",
    "sys.path.append('/home/josorior/kinetick/source')"
   ]
  },
  {
   "cell_type": "code",
   "execution_count": 27,
   "metadata": {},
   "outputs": [],
   "source": [
    "# Standard tool packages\n",
    "import jax\n",
    "jax.config.update(\"jax_enable_x64\", True)\n",
    "from jax import grad, jacfwd, hessian\n",
    "import jax.numpy as jnp\n",
    "import matplotlib.pyplot as plt\n",
    "from jaxopt import GaussNewton\n",
    "from tqdm import tqdm\n",
    "# My tools\n",
    "from models import *\n",
    "from mykernels import get_gaussianRBF\n",
    "# Settings\n",
    "#plt.style.use('seaborn-v0_8')\n",
    "plt.rcParams[\"figure.figsize\"] = (5, 5)"
   ]
  },
  {
   "cell_type": "markdown",
   "metadata": {},
   "source": [
    "## PDE"
   ]
  },
  {
   "cell_type": "markdown",
   "metadata": {},
   "source": [
    "The Poisson equation in 2d is given by\n",
    "$$\n",
    "\\begin{align*}\n",
    "\n",
    "\\partial_t \\rho (x) &= g(x) & \\text{for } x \\in \\Omega = (0,1)^2 \\\\\n",
    "\\rho(x) &= 0, & \\text{for } x \\in \\partial\\Omega\n",
    "\\end{align*}\n",
    "$$\n",
    "whose analytical solution is known to be\n",
    "$$\n",
    "\\rho(x) = \\text{write me please}\n",
    "$$\n",
    "\n",
    "We will use the kernel method in closed form since the PDE operator is linear.\n"
   ]
  },
  {
   "cell_type": "markdown",
   "metadata": {},
   "source": [
    "## Kernel solution"
   ]
  },
  {
   "cell_type": "markdown",
   "metadata": {},
   "source": [
    "Choose a kernel"
   ]
  },
  {
   "cell_type": "code",
   "execution_count": 28,
   "metadata": {},
   "outputs": [],
   "source": [
    "k = get_gaussianRBF(0.2)"
   ]
  },
  {
   "cell_type": "markdown",
   "metadata": {},
   "source": [
    "First we choose collocation pointsets $\\Omega^*\\subset\\Omega$ and $\\Omega^*\\subset\\partial\\Omega$"
   ]
  },
  {
   "cell_type": "code",
   "execution_count": 29,
   "metadata": {},
   "outputs": [],
   "source": [
    "# \\Omega\n",
    "M_int = int(jnp.sqrt(500))\n",
    "x_1 = jnp.linspace(0,1,M_int)[1:]\n",
    "x_2 = x_1\n",
    "X_1, X_2 = jnp.meshgrid(x_1, x_2)\n",
    "pairs_int = jnp.vstack([X_1.ravel(),X_2.ravel()]).T\n",
    "M_int = pairs_int.shape[0]\n",
    "# \\partial\\Omega\n",
    "M_bdry = int(25*4)\n",
    "bottom = jnp.vstack((jnp.linspace(0,1,M_bdry//4), jnp.tile(0,M_bdry//4))).T\n",
    "top = jnp.vstack((jnp.linspace(0,1,M_bdry//4), jnp.tile(1,M_bdry//4))).T\n",
    "left = jnp.vstack((jnp.tile(0,M_bdry//4),jnp.linspace(0,1,M_bdry//4))).T[1:-1]\n",
    "right = jnp.vstack((jnp.tile(1,M_bdry//4),jnp.linspace(0,1,M_bdry//4))).T[1:-1]\n",
    "pairs_bdry = jnp.vstack((left,bottom,right,top))\n",
    "M_bdry = pairs_bdry.shape[0]"
   ]
  },
  {
   "cell_type": "markdown",
   "metadata": {},
   "source": [
    "Build the kernel matrix $K(\\phi,\\phi)$ where $\\phi = [\\phi_\\Omega, \\phi_{\\partial\\Omega}]$ and\n",
    "$$\n",
    "\\phi_\\Omega \\left(\\square\\right) = \\delta_{x}\\circ \\Delta \\left(\\square\\right) \\qquad \\text{for } x\\in \\Omega\n",
    "$$\n",
    "$$\n",
    "\\phi_{\\partial\\Omega} \\left(\\square\\right) = \\delta_x\\left(\\square\\right) \\qquad \\text{for } x\\in \\partial \\Omega\n",
    "$$\n",
    "Thus, the matrix has the form\n",
    "$$\n",
    "K(\\phi,\\phi) = \n",
    "\\begin{pmatrix}\n",
    "\\phi_{\\Omega}\\left(\\phi_{\\Omega}\\left(K(x,y)\\right)\\right) & \\phi_{\\partial\\Omega}\\left(\\phi_{\\Omega}\\left(K(x,y)\\right)\\right) \\\\\n",
    "\\phi_{\\Omega}\\left(\\phi_{\\partial\\Omega}\\left(K(x,y)\\right)\\right) & \\phi_{\\partial\\Omega}\\left(\\phi_{\\partial\\Omega}\\left(K(x,y)\\right)\\right) \\\\\n",
    "\\end{pmatrix}\n",
    "$$\n",
    "where for instance the block $\\phi_{\\Omega}\\left(\\phi_{\\partial\\Omega}\\left(K(x,y)\\right)\\right)$ is evaluated as:\n",
    "\n",
    "1. Apply $\\phi_{\\partial\\Omega}$ to the function $K(x,y)$ as a function of $x$ only. \n",
    "\n",
    "2. Apply $\\phi_\\Omega$ to $\\phi_{\\partial\\Omega}\\left(K(x,y)\\right)$ as a function of $y$ only.\n",
    "\n",
    "Let's compute the blocks."
   ]
  },
  {
   "cell_type": "markdown",
   "metadata": {},
   "source": [
    "$$\\phi_{\\Omega}\\left(\\phi_{\\Omega}\\left(K(x,y)\\right)\\right)$$"
   ]
  },
  {
   "cell_type": "code",
   "execution_count": 30,
   "metadata": {},
   "outputs": [],
   "source": [
    "def vectorize_kfunc(k):\n",
    "    return jax.vmap(jax.vmap(k, in_axes=(None,0)), in_axes=(0,None))\n",
    "\n",
    "def op_k_apply(k,L_op,R_op):\n",
    "    return R_op(L_op(k,0),1)\n",
    "\n",
    "def make_block(k,L_op,R_op):\n",
    "    return vectorize_kfunc(op_k_apply(k,L_op,R_op))\n",
    "\n",
    "# Define f\n",
    "def f(x):\n",
    "    return (jnp.sum(x**2))\n",
    "\n",
    "vec_f = vmap(f)\n",
    "\n",
    "# Operators\n",
    "def laplacian_k(k,index):\n",
    "    def lapk(*args):\n",
    "        return jnp.trace(jax.hessian(k,index)(*args))\n",
    "    return lapk\n",
    "\n",
    "def eval_k(k,index):\n",
    "    return k"
   ]
  },
  {
   "cell_type": "code",
   "execution_count": 31,
   "metadata": {},
   "outputs": [],
   "source": [
    "b11 = make_block(k,laplacian_k,laplacian_k)(pairs_int,pairs_int)\n",
    "b21 = make_block(k,laplacian_k,eval_k)(pairs_bdry,pairs_int)\n",
    "b12 = b21.T\n",
    "b22 = make_block(k,eval_k,eval_k)(pairs_bdry,pairs_bdry)\n",
    "\n",
    "k_pp = jnp.block([[b11,b12],\n",
    "                [b21,b22]])"
   ]
  },
  {
   "cell_type": "code",
   "execution_count": 32,
   "metadata": {},
   "outputs": [],
   "source": [
    "# # loss function\n",
    "# n1 = 1e-8\n",
    "# n2 = 1e-8\n",
    "# f_vals = jnp.block([vec_f(pairs_int),jnp.zeros(M_bdry)])\n",
    "# B = jnp.block([[jnp.zeros((M_int,M_int)), jnp.zeros((M_int,M_bdry))],\n",
    "#               [jnp.zeros((M_bdry,M_int)), jnp.eye(M_bdry)]])\n",
    "# A = jnp.block([[jnp.eye(M_int), jnp.zeros((M_int,M_bdry))],\n",
    "#               [jnp.zeros((M_bdry,M_int)), jnp.zeros((M_bdry,M_bdry))]])\n",
    "# def loss(z):\n",
    "#     return z.T @ jnp.linalg.solve(k_pp,z) + n1/(M_int)*jnp.sum((A@z - f_vals)**2) + n2/(M_bdry)*jnp.sum((B @ z)**2)"
   ]
  },
  {
   "cell_type": "code",
   "execution_count": 33,
   "metadata": {},
   "outputs": [],
   "source": [
    "# def run_jaxopt(solver,x0):\n",
    "#     state = solver.init_state(x0)\n",
    "#     sol = x0\n",
    "#     values,errors = [state.value],[state.error]\n",
    "#     update = lambda sol,state:solver.update(sol,state)\n",
    "#     jitted_update = jax.jit(update)\n",
    "#     for iter_num in tqdm(range(solver.maxiter)):\n",
    "#         sol,state = jitted_update(sol,state)\n",
    "#         values.append(state.value)\n",
    "#         errors.append(state.error)\n",
    "#         if solver.verbose > 0:\n",
    "#             print(\"Gradient Norm: \",state.error)\n",
    "#             print(\"Loss Value: \",state.value)\n",
    "#         if state.error<=solver.tol:\n",
    "#             break\n",
    "#     convergence_data = {\n",
    "#         \"values\":jnp.array(values),\n",
    "#         \"gradnorms\":jnp.array(errors),\n",
    "#         # \"stepsizes\":jnp.array(stepsizes)\n",
    "#     }\n",
    "#     return sol,convergence_data,state"
   ]
  },
  {
   "cell_type": "code",
   "execution_count": 34,
   "metadata": {},
   "outputs": [],
   "source": [
    "# z0 = jax.random.uniform(key = jax.random.PRNGKey(1), shape=(M_int+M_bdry,), minval=0, maxval=1)\n",
    "# solver = GaussNewton(residual_fun=loss, maxiter=1000, tol=1e-8)\n",
    "# sol,convergence_data,state = run_jaxopt(solver,z0)"
   ]
  },
  {
   "cell_type": "code",
   "execution_count": 35,
   "metadata": {},
   "outputs": [],
   "source": [
    "# convergence_data['values']"
   ]
  },
  {
   "cell_type": "code",
   "execution_count": 36,
   "metadata": {},
   "outputs": [],
   "source": [
    "# plt.loglog(convergence_data['values'])"
   ]
  },
  {
   "cell_type": "code",
   "execution_count": 37,
   "metadata": {},
   "outputs": [],
   "source": [
    "# z0 = jax.random.uniform(key = jax.random.PRNGKey(1), shape=(M_int+M_bdry,), minval=0, maxval=1)\n",
    "# solver = GaussNewton(residual_fun=loss, maxiter=1000, tol=1e-8)\n",
    "# res = solver.run(z0)\n",
    "# z_star = res.params"
   ]
  },
  {
   "cell_type": "code",
   "execution_count": 38,
   "metadata": {},
   "outputs": [],
   "source": [
    "z_star = jnp.concatenate([vec_f(pairs_int),jnp.zeros(M_bdry)])"
   ]
  },
  {
   "cell_type": "code",
   "execution_count": 39,
   "metadata": {},
   "outputs": [],
   "source": [
    "beta = jnp.linalg.solve(k_pp + 1e-8*jnp.diag(jnp.diag(k_pp)),z_star)\n",
    "def rho_star(x):\n",
    "    b1 = vmap(vmap(laplacian_k(k,1),in_axes=(None,0)),in_axes=(0,None))(x,pairs_int)\n",
    "    b2 = vmap(vmap(eval_k(k,1),in_axes=(None,0)),in_axes=(0,None))(x,pairs_bdry)\n",
    "    return jnp.block([[b1,b2]]) @ beta"
   ]
  },
  {
   "cell_type": "code",
   "execution_count": 40,
   "metadata": {},
   "outputs": [],
   "source": [
    "N = 10000\n",
    "pairs_fine = jax.random.uniform(key = jax.random.PRNGKey(4),shape = (N,2))\n",
    "pred = rho_star(pairs_fine)"
   ]
  },
  {
   "cell_type": "markdown",
   "metadata": {},
   "source": [
    "$$\n",
    "\\partial_{xx} u + \\partial_{yy} u = x^2 + y ^2 \n",
    "$$\n",
    "$$\n",
    "u(x,y) = \\frac{1}{3*4}x^4 + \\frac{1}{3*4}y^4\n",
    "$$"
   ]
  },
  {
   "cell_type": "code",
   "execution_count": 41,
   "metadata": {},
   "outputs": [
    {
     "data": {
      "image/png": "[encoded data removed]",
      "text/plain": [
       "<Figure size 500x500 with 2 Axes>"
      ]
     },
     "metadata": {},
     "output_type": "display_data"
    }
   ],
   "source": [
    "plt.tricontourf(pairs_fine[:,0],pairs_fine[:,1],pred)\n",
    "plt.colorbar()\n",
    "plt.show()"
   ]
  },
  {
   "cell_type": "code",
   "execution_count": null,
   "metadata": {},
   "outputs": [],
   "source": []
  }
 ],
 "metadata": {
  "kernelspec": {
   "display_name": "myjaxenv",
   "language": "python",
   "name": "python3"
  },
  "language_info": {
   "codemirror_mode": {
    "name": "ipython",
    "version": 3
   },
   "file_extension": ".py",
   "mimetype": "text/x-python",
   "name": "python",
   "nbconvert_exporter": "python",
   "pygments_lexer": "ipython3",
   "version": "3.12.4"
  }
 },
 "nbformat": 4,
 "nbformat_minor": 2
}
