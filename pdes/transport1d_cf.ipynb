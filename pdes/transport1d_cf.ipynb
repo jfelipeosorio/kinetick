{
 "cells": [
  {
   "attachments": {},
   "cell_type": "markdown",
   "metadata": {},
   "source": [
    "# Transport equation 1D\n",
    "***\n",
    "Created by: Juan Felipe Osorio Ramirez\n",
    "\n",
    "Department of Applied Mathematics, UW\n",
    "***"
   ]
  },
  {
   "attachments": {},
   "cell_type": "markdown",
   "metadata": {},
   "source": [
    "$u_t + c u_x = 0$ with initial condition $u(0,x)= g(x)= e^{-x^2}$.\n",
    "\n",
    "The analytical solution is given by $u(t,x) = g(x-ct)$."
   ]
  },
  {
   "attachments": {},
   "cell_type": "markdown",
   "metadata": {},
   "source": [
    "## Libraries"
   ]
  },
  {
   "cell_type": "code",
   "execution_count": 2,
   "metadata": {},
   "outputs": [],
   "source": [
    "import sys\n",
    "sys.path.append('/Users/josorior/Documents/UW/research/kinetick/kinetick/source')"
   ]
  },
  {
   "cell_type": "code",
   "execution_count": 3,
   "metadata": {},
   "outputs": [],
   "source": [
    "import jax.numpy as np\n",
    "from jax import grad, jit\n",
    "from jax.scipy.optimize import minimize\n",
    "\n",
    "import numpy as np\n",
    "import matplotlib.pyplot as plt \n",
    "#from sklearn.preprocessing import MinMaxScaler\n",
    "from sklearn.kernel_ridge import KernelRidge\n",
    "from parameter_learning import *\n",
    "from plotlib import *\n",
    "from models import * \n",
    "from interpolation import *\n",
    "from kernels import *\n",
    "from integrate import trap\n",
    "from sklearn.metrics import mean_squared_error\n",
    "\n",
    "import jax.numpy as jnp\n",
    "from jax import grad, jit\n",
    "from jax.config import config; \n",
    "config.update(\"jax_enable_x64\", True)\n",
    "\n",
    "from functools import partial # for jit to make codes faster"
   ]
  },
  {
   "attachments": {},
   "cell_type": "markdown",
   "metadata": {},
   "source": [
    "## Utils"
   ]
  },
  {
   "cell_type": "code",
   "execution_count": 4,
   "metadata": {},
   "outputs": [],
   "source": [
    "def Kphiphi_assembly(Xomega, Xboundary , h, c, k = 'Gaussian', k_param = 1.):\n",
    "\n",
    "  # Set kernel to use\n",
    "  if k == 'Gaussian':\n",
    "    kernel = Gaussian\n",
    "\n",
    "  # Size of the square matrix\n",
    "  Momega = len(Xomega)\n",
    "  Mboundary = len(Xboundary)\n",
    "  M = Momega + Mboundary\n",
    "\n",
    "  # Initialize K(phi,phi)\n",
    "  Theta = jnp.zeros((M,M))\n",
    "\n",
    "  # Block 1,1 \n",
    "  val1 = K(kernel, Xomega, Xomega, k_param)\n",
    "  val2 = K_dot(kernel, Xomega, Xomega, k_param, 0)\n",
    "  val3 = K_dot(kernel, Xomega, Xomega, k_param, 1)\n",
    "  # val3 = val2\n",
    "  val4 = K_ddot(kernel, Xomega, Xomega, k_param, 0, 1)\n",
    "  val = val1 + h*c*val2 + h*c*(val3 + h*c*val4)\n",
    "  Theta = Theta.at[:Momega, :Momega].set(val)\n",
    "\n",
    "  # Block 1,2\n",
    "  val1 = K(kernel, Xomega, Xboundary, k_param)\n",
    "  val2 = K_dot(kernel, Xomega, Xboundary, k_param, 0)\n",
    "  val = val1 + h*c*val2\n",
    "  Theta = Theta.at[:Momega, Momega:].set(val)\n",
    "  Theta = Theta.at[Momega:, :Momega].set(jnp.transpose(val)) # Block 2,1\n",
    "\n",
    "  # Block 2,2\n",
    "  val = K(kernel, Xboundary , Xboundary, k_param)\n",
    "  Theta = Theta.at[Momega:, Momega:].set(val)\n",
    "\n",
    "  return Theta"
   ]
  },
  {
   "cell_type": "code",
   "execution_count": 5,
   "metadata": {},
   "outputs": [],
   "source": [
    "def Kphi_assembly(Xtest, Xomega, Xboundary , h, c, k = 'Gaussian', k_param = 1.):\n",
    "\n",
    "  # Set kernel to use\n",
    "  if k == 'Gaussian':\n",
    "    kernel = Gaussian\n",
    "\n",
    "  # Size of the square matrix\n",
    "  Momega = len(Xomega)\n",
    "  Mboundary = len(Xboundary)\n",
    "  Mtest = len(Xtest)\n",
    "  M = Momega + Mboundary\n",
    "\n",
    "  # Initialize K(phi,phi)\n",
    "  Theta = jnp.zeros((M,Mtest))\n",
    "\n",
    "  # Block 1\n",
    "  val1 = K(kernel, Xomega, Xtest, k_param)\n",
    "  val2 = K_dot(kernel, Xomega, Xtest, k_param, 0)\n",
    "  val = val1 + h*c*val2\n",
    "  Theta = Theta.at[:Momega, :].set(val)\n",
    "\n",
    "  # Block 2\n",
    "  val = K(kernel, Xboundary , Xtest, k_param)\n",
    "  Theta = Theta.at[Momega:, :].set(val)\n",
    "\n",
    "\n",
    "  return Theta"
   ]
  },
  {
   "attachments": {},
   "cell_type": "markdown",
   "metadata": {},
   "source": [
    "## How far can we go ?"
   ]
  },
  {
   "cell_type": "code",
   "execution_count": 5,
   "metadata": {},
   "outputs": [],
   "source": [
    "# X_full\n",
    "Xfull = np.linspace(-5,5,102)\n",
    "# X_{\\partial\\Omega}\n",
    "Xboundary = Xfull[[0,-1]]\n",
    "# X_\\Omega\n",
    "Xomega = Xfull[1:-1]\n",
    "# u(X_\\Omega,0)\n",
    "u0 = transport_u0(Xomega)\n",
    "# kparam\n",
    "k_param = 0.5\n",
    "# Wave speed\n",
    "c = 1\n",
    "# Time step\n",
    "h = 0.01"
   ]
  },
  {
   "attachments": {},
   "cell_type": "markdown",
   "metadata": {},
   "source": [
    "Build `Kphiphi`"
   ]
  },
  {
   "cell_type": "code",
   "execution_count": 6,
   "metadata": {},
   "outputs": [],
   "source": [
    "Kphiphi = Kphiphi_assembly(Xomega, Xboundary, h, c, k = 'Gaussian', k_param = k_param)"
   ]
  },
  {
   "attachments": {},
   "cell_type": "markdown",
   "metadata": {},
   "source": [
    "Build `y_prev`"
   ]
  },
  {
   "cell_type": "code",
   "execution_count": 7,
   "metadata": {},
   "outputs": [],
   "source": [
    "y_prev = jnp.concatenate((u0,np.zeros((len(Xboundary)),)))"
   ]
  },
  {
   "attachments": {},
   "cell_type": "markdown",
   "metadata": {},
   "source": [
    "Compute $K(\\varphi,\\varphi)^{-1}y_{\\text{prev}}$"
   ]
  },
  {
   "cell_type": "code",
   "execution_count": 8,
   "metadata": {},
   "outputs": [],
   "source": [
    "R = jnp.diag(jnp.diag(Kphiphi))\n",
    "sol = jnp.linalg.solve(Kphiphi + 1e-6*R,y_prev)"
   ]
  },
  {
   "attachments": {},
   "cell_type": "markdown",
   "metadata": {},
   "source": [
    "Get `K(Xtest,Xfull)`"
   ]
  },
  {
   "cell_type": "code",
   "execution_count": 9,
   "metadata": {},
   "outputs": [],
   "source": [
    "Kphi = Kphi_assembly(Xfull, Xomega, Xboundary , h, c, k = 'Gaussian', k_param = k_param)"
   ]
  },
  {
   "cell_type": "code",
   "execution_count": 10,
   "metadata": {},
   "outputs": [],
   "source": [
    "u_next = np.dot(Kphi.T,sol)"
   ]
  },
  {
   "cell_type": "code",
   "execution_count": 11,
   "metadata": {},
   "outputs": [
    {
     "data": {
      "image/png": "[encoded data removed]",
      "text/plain": [
       "<Figure size 432x288 with 1 Axes>"
      ]
     },
     "metadata": {
      "needs_background": "light"
     },
     "output_type": "display_data"
    }
   ],
   "source": [
    "# Initial condition\n",
    "plt.plot(Xfull,transport_u0(Xfull),'.-',label='init')\n",
    "# True next\n",
    "plt.plot(Xfull,transport_sol(Xfull,h,c),'.-',label='true_next')\n",
    "# Predicted next\n",
    "plt.plot(Xfull,u_next,'.-',label='pred_next')\n",
    "# Plot settings\n",
    "nmse = mean_squared_error(u_next,transport_sol(Xfull,h,c))/mean_squared_error(0*transport_sol(Xfull,h,c),transport_sol(Xfull,h,c))\n",
    "plt.title('t = {} | Normalized MSE:{}'.format(h, round(nmse,7)))\n",
    "plt.legend()\n",
    "plt.show()"
   ]
  },
  {
   "attachments": {},
   "cell_type": "markdown",
   "metadata": {},
   "source": [
    "## Let's take small steps "
   ]
  },
  {
   "attachments": {},
   "cell_type": "markdown",
   "metadata": {},
   "source": [
    "Say we want to get to `t=0.2` by taking `h = 0.01`"
   ]
  },
  {
   "cell_type": "markdown",
   "metadata": {},
   "source": [
    "$u_{next} = K(X_{test}, \\phi) K(\\phi,\\phi)^{-1}u_{prev}$"
   ]
  },
  {
   "cell_type": "code",
   "execution_count": 12,
   "metadata": {},
   "outputs": [],
   "source": [
    "t = 1\n",
    "steps = int(t//h)\n",
    "# Initialize at the initial condition\n",
    "# do the time step ! \n",
    "uprev = u0\n",
    "for _ in range(steps):\n",
    "    y_prev = jnp.concatenate((uprev,np.zeros((len(Xboundary)),)))\n",
    "    sol = jnp.linalg.solve(Kphiphi + 1e-6*R,y_prev)\n",
    "    u_next = np.dot(Kphi.T,sol)\n",
    "    # update\n",
    "    uprev = u_next[1:-1]"
   ]
  },
  {
   "cell_type": "code",
   "execution_count": 13,
   "metadata": {},
   "outputs": [
    {
     "data": {
      "image/png": "[encoded data removed]",
      "text/plain": [
       "<Figure size 432x288 with 1 Axes>"
      ]
     },
     "metadata": {
      "needs_background": "light"
     },
     "output_type": "display_data"
    }
   ],
   "source": [
    "# Numerical vs. Analytical\n",
    "# Initial condition\n",
    "plt.plot(Xfull,transport_u0(Xfull),'.-',label='init')\n",
    "# True next\n",
    "plt.plot(Xfull,transport_sol(Xfull,t,c),'.-',label='true_next')\n",
    "# Predicted next\n",
    "plt.plot(Xfull,u_next,'.-',label='pred_next')\n",
    "# Plot settings\n",
    "nmse = mean_squared_error(u_next,transport_sol(Xfull,t,c))/mean_squared_error(0*transport_sol(Xfull,t,c),transport_sol(Xfull,t,c))\n",
    "plt.title('t = {} | Normalized MSE:{}'.format(t, round(nmse,7)))\n",
    "plt.legend()\n",
    "plt.show()"
   ]
  },
  {
   "attachments": {},
   "cell_type": "markdown",
   "metadata": {},
   "source": [
    "## Convergence"
   ]
  },
  {
   "cell_type": "markdown",
   "metadata": {},
   "source": [
    "### Experiment 1"
   ]
  },
  {
   "cell_type": "markdown",
   "metadata": {},
   "source": [
    "- $h = $ `1e-2`.\n",
    "- $t = 1$.\n",
    "- Collocation points increasing from $2^{2}$ to $2^{10}$"
   ]
  },
  {
   "cell_type": "code",
   "execution_count": 11,
   "metadata": {},
   "outputs": [
    {
     "name": "stdout",
     "output_type": "stream",
     "text": [
      "1.0573592831442922\n",
      "0.2275876491580878\n",
      "0.00029216548987698413\n",
      "0.00021622005563197162\n",
      "0.00021600305555595912\n",
      "0.00021589221722458288\n",
      "0.0002158361988289447\n",
      "0.00021580803794253565\n"
     ]
    }
   ],
   "source": [
    "# Experiment 1- L2-norms\n",
    "L2_norms = []\n",
    "xrange = 2**np.arange(2,10)\n",
    "for n in range(2,10):\n",
    "    # X_full\n",
    "    Xfull = np.linspace(-5,5,2**n+2)\n",
    "    # Delta\n",
    "    delta = Xfull[1]-Xfull[0]\n",
    "    # X_{\\partial\\Omega}\n",
    "    Xboundary = Xfull[[0,-1]]\n",
    "    # X_\\Omega\n",
    "    Xomega = Xfull[1:-1]\n",
    "    # u(X_\\Omega,0)\n",
    "    u0 = transport_u0(Xomega)\n",
    "    # Kernel parameter\n",
    "    k_param = 0.5\n",
    "    # Wave speed\n",
    "    c = 1\n",
    "    # Time step\n",
    "    h = 0.01\n",
    "    # Final t\n",
    "    t = 1\n",
    "    # No. of steps\n",
    "    steps = int(t//h)\n",
    "    # Compute Kphiphi\n",
    "    Kphiphi = Kphiphi_assembly(Xomega, Xboundary, h, c, k = 'Gaussian', k_param = k_param)\n",
    "    # Regularizer for Kphiphi\n",
    "    R = jnp.diag(jnp.diag(Kphiphi))\n",
    "    # Comput Kphi againts Xfull which will be the test set\n",
    "    Kphi = Kphi_assembly(Xfull, Xomega, Xboundary , h, c, k = 'Gaussian', k_param = k_param)\n",
    "\n",
    "    uprev = u0\n",
    "    for _ in range(steps):\n",
    "        y_prev = jnp.concatenate((uprev,np.zeros((len(Xboundary)),)))\n",
    "        sol = jnp.linalg.solve(Kphiphi + 1e-6*R, y_prev)\n",
    "        u_next = np.dot(Kphi.T,sol)\n",
    "        # update\n",
    "        uprev = u_next[1:-1]\n",
    "\n",
    "\n",
    "    # u_true\n",
    "    u_true = transport_sol(Xfull , t, c)\n",
    "    # Difference\n",
    "    f = np.abs(u_next - u_true)**2\n",
    "    # Append L2 norm per iteration\n",
    "    L2_norms.append(trap(f,delta))\n",
    "    # Print L2 norm per iteration\n",
    "    print(trap(f,delta))"
   ]
  },
  {
   "cell_type": "code",
   "execution_count": 12,
   "metadata": {},
   "outputs": [
    {
     "data": {
      "image/png": "[encoded data removed]",
      "text/plain": [
       "<Figure size 432x288 with 1 Axes>"
      ]
     },
     "metadata": {
      "needs_background": "light"
     },
     "output_type": "display_data"
    }
   ],
   "source": [
    "# Experiment 1 - Convergence plot\n",
    "plt.loglog(xrange,L2_norms,label = 'L2-norm')\n",
    "plt.xlabel('no. of collocation points')\n",
    "plt.ylabel('Error')\n",
    "plt.legend()\n",
    "plt.title('Convergence of the method (loglog)')\n",
    "plt.show()"
   ]
  },
  {
   "cell_type": "markdown",
   "metadata": {},
   "source": [
    "### Experiment 2"
   ]
  },
  {
   "cell_type": "markdown",
   "metadata": {},
   "source": [
    "- $h = $ `1e-4`.\n",
    "- $t = 1$.\n",
    "- Collocation points increasing from $2^{2}$ to $2^{10}$"
   ]
  },
  {
   "cell_type": "code",
   "execution_count": 14,
   "metadata": {},
   "outputs": [
    {
     "name": "stdout",
     "output_type": "stream",
     "text": [
      "1.0446653912816535\n",
      "0.2305926348398889\n",
      "8.734817544926631e-05\n",
      "1.0809363995860762e-05\n",
      "2.9234110886661785e-06\n",
      "8.183475183295823e-07\n",
      "2.5247951712741995e-07\n",
      "9.476885225583828e-08\n"
     ]
    }
   ],
   "source": [
    "# Experiment 2 - L2-norms\n",
    "L2_norms = []\n",
    "xrange = 2**np.arange(2,10)\n",
    "for n in range(2,10):\n",
    "    # X_full\n",
    "    Xfull = np.linspace(-5,5,2**n+2)\n",
    "    # Delta\n",
    "    delta = Xfull[1]-Xfull[0]\n",
    "    # X_{\\partial\\Omega}\n",
    "    Xboundary = Xfull[[0,-1]]\n",
    "    # X_\\Omega\n",
    "    Xomega = Xfull[1:-1]\n",
    "    # u(X_\\Omega,0)\n",
    "    u0 = transport_u0(Xomega)\n",
    "    # Kernel parameter\n",
    "    k_param = 0.5\n",
    "    # Wave speed\n",
    "    c = 1\n",
    "    # Time step\n",
    "    h = 1e-4\n",
    "    # Final t\n",
    "    t = 1\n",
    "    # No. of steps\n",
    "    steps = int(t//h)\n",
    "    # Compute Kphiphi\n",
    "    Kphiphi = Kphiphi_assembly(Xomega, Xboundary, h, c, k = 'Gaussian', k_param = k_param)\n",
    "    # Regularizer for Kphiphi\n",
    "    R = jnp.diag(jnp.diag(Kphiphi))\n",
    "    # Comput Kphi againts Xfull which will be the test set\n",
    "    Kphi = Kphi_assembly(Xfull, Xomega, Xboundary , h, c, k = 'Gaussian', k_param = k_param)\n",
    "\n",
    "    uprev = u0\n",
    "    for _ in range(steps):\n",
    "        y_prev = jnp.concatenate((uprev,np.zeros((len(Xboundary)),)))\n",
    "        sol = jnp.linalg.solve(Kphiphi + 1e-6*R, y_prev)\n",
    "        u_next = np.dot(Kphi.T,sol)\n",
    "        # update\n",
    "        uprev = u_next[1:-1]\n",
    "\n",
    "\n",
    "    # u_true\n",
    "    u_true = transport_sol(Xfull, t, c)\n",
    "    # Difference\n",
    "    f = np.abs(u_next - u_true)**2\n",
    "    # Append L2 norm per iteration\n",
    "    L2_norms.append(trap(f,delta))\n",
    "    # Print L2 norm per iteration\n",
    "    print(trap(f,delta))"
   ]
  },
  {
   "cell_type": "code",
   "execution_count": 15,
   "metadata": {},
   "outputs": [
    {
     "data": {
      "image/png": "[encoded data removed]",
      "text/plain": [
       "<Figure size 432x288 with 1 Axes>"
      ]
     },
     "metadata": {
      "needs_background": "light"
     },
     "output_type": "display_data"
    }
   ],
   "source": [
    "# Experiment 2 - Convergence plot\n",
    "plt.loglog(xrange,L2_norms,label = 'L2-norm')\n",
    "plt.xlabel('no. of collocation points')\n",
    "plt.ylabel('Error')\n",
    "plt.legend()\n",
    "plt.title('Convergence of the method (loglog)')\n",
    "plt.show()"
   ]
  }
 ],
 "metadata": {
  "kernelspec": {
   "display_name": "base",
   "language": "python",
   "name": "python3"
  },
  "language_info": {
   "codemirror_mode": {
    "name": "ipython",
    "version": 3
   },
   "file_extension": ".py",
   "mimetype": "text/x-python",
   "name": "python",
   "nbconvert_exporter": "python",
   "pygments_lexer": "ipython3",
   "version": "3.9.12"
  },
  "orig_nbformat": 4
 },
 "nbformat": 4,
 "nbformat_minor": 2
}
