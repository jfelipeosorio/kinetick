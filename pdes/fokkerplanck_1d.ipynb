{
 "cells": [
  {
   "cell_type": "markdown",
   "metadata": {},
   "source": [
    "Tools"
   ]
  },
  {
   "cell_type": "code",
   "execution_count": 1,
   "metadata": {},
   "outputs": [],
   "source": [
    "import sys  \n",
    "# sys.path.append('/home/josorior/kinetick/source')\n",
    "sys.path.append('/home/juanfelipe/Desktop/research/kinetick/source')"
   ]
  },
  {
   "cell_type": "code",
   "execution_count": 2,
   "metadata": {},
   "outputs": [],
   "source": [
    "# Standard tool packages\n",
    "import jax\n",
    "jax.config.update(\"jax_enable_x64\", True)\n",
    "from jax import grad, jacfwd, hessian\n",
    "from jax import vmap\n",
    "import jax.numpy as jnp\n",
    "from jax.numpy import logical_and\n",
    "import matplotlib.pyplot as plt\n",
    "from matplotlib.ticker import StrMethodFormatter\n",
    "from tqdm import tqdm\n",
    "from sklearn.metrics import mean_squared_error\n",
    "# My tools\n",
    "from models import *\n",
    "from mykernels import get_gaussianRBF, get_matern_5_2\n",
    "# Settings\n",
    "#plt.style.use('seaborn-v0_8')\n",
    "plt.rcParams[\"figure.figsize\"] = (5, 5)"
   ]
  },
  {
   "cell_type": "markdown",
   "metadata": {},
   "source": [
    "## PDE"
   ]
  },
  {
   "cell_type": "markdown",
   "metadata": {},
   "source": [
    "Let $M(x) = \\exp\\left(-0.5(x_1^2 + x_2^2)\\right)$. The Fokker-Planck equation in 2d is given by\n",
    "$$\n",
    "\\begin{align*}\n",
    "\n",
    "\\partial_t \\rho (t,x) &= \\text{div}\\left(M(x)\\nabla\\left(\\frac{\\rho(t,x)}{M(x)}\\right)\\right) & \\text{for } t >0, x \\in \\Omega = (-3,3)^2 \\\\\n",
    "\\rho(0,x) &= \\rho^0(x), &\\text{for } x \\in \\Omega \\\\\n",
    "\\nabla\\left(\\frac{\\rho(t,x)}{M(x)} \\right)\\cdot \\mathbf{n} &= 0, & \\text{for } t >0, x \\in \\partial\\Omega = (-3,3)^2\n",
    "\\end{align*}\n",
    "$$\n",
    "whose analytical solution is known to be\n",
    "$$\n",
    "\\rho(t, x)=\\frac{1}{2 \\pi\\left(1-e^{-2 t}\\right)} e^{-\\frac{x_1^2+x_2^2}{2\\left(1-e^{-2 t}\\right)}}.\n",
    "$$\n",
    "\n",
    "We will use the kernel method in closed form since the PDE operator is linear.\n"
   ]
  },
  {
   "cell_type": "markdown",
   "metadata": {},
   "source": [
    "- Can we alternate the direction of diffusion ?\n",
    "- Change to [-5,5] domain"
   ]
  },
  {
   "cell_type": "markdown",
   "metadata": {},
   "source": [
    "## Kernel solution"
   ]
  },
  {
   "cell_type": "markdown",
   "metadata": {},
   "source": [
    "Choose a kernel"
   ]
  },
  {
   "cell_type": "code",
   "execution_count": 3,
   "metadata": {},
   "outputs": [],
   "source": [
    "#k = get_gaussianRBF(0.1)\n",
    "k = get_matern_5_2(0.5)"
   ]
  },
  {
   "cell_type": "markdown",
   "metadata": {},
   "source": [
    "First we choose collocation pointsets $\\Omega^*\\subset\\Omega$ and $\\Omega^*\\subset\\partial\\Omega$"
   ]
  },
  {
   "cell_type": "code",
   "execution_count": 4,
   "metadata": {},
   "outputs": [],
   "source": [
    "# \\Omega\n",
    "M_int = 52\n",
    "pts_int = jnp.linspace(-5,5,M_int)[1:-1].reshape(-1,1)\n",
    "M_int = pts_int.shape[0]\n",
    "\n",
    "# \\partial\\Omega\n",
    "pts_bdry = jnp.array([-5.,5.]).reshape(-1,1)\n",
    "M_bdry = pts_bdry.shape[0]"
   ]
  },
  {
   "cell_type": "markdown",
   "metadata": {},
   "source": [
    "Build the kernel matrix $K(\\phi,\\phi)$ where $\\phi = [\\phi_\\Omega, \\phi_{\\partial\\Omega}]$ and\n",
    "$$\n",
    "\\phi_\\Omega \\left(\\square\\right) = \\delta_{x}\\left(\\square\\right) - h\\left(\\delta_{x} \\circ \\text{div}\\left(M(x)\\nabla\\left(\\frac{\\square}{M(x)}\\right)\\right)\\right) \\qquad \\text{for } x\\in \\Omega\n",
    "$$\n",
    "$$\n",
    "\\phi_{\\partial\\Omega} \\left(\\square\\right) = \\delta_{x} \\circ \\nabla\\left(\\frac{\\square}{M(x)}\\right) \\cdot \\mathbf{n} = \\qquad \\text{for } x\\in \\partial \\Omega\n",
    "$$\n",
    "Thus, the matrix has the form\n",
    "$$\n",
    "K(\\phi,\\phi) = \n",
    "\\begin{pmatrix}\n",
    "\\phi_{\\Omega}\\left(\\phi_{\\Omega}\\left(K(x,y)\\right)\\right) & \\phi_{\\partial\\Omega}\\left(\\phi_{\\Omega}\\left(K(x,y)\\right)\\right) \\\\\n",
    "\\phi_{\\Omega}\\left(\\phi_{\\partial\\Omega}\\left(K(x,y)\\right)\\right) & \\phi_{\\partial\\Omega}\\left(\\phi_{\\partial\\Omega}\\left(K(x,y)\\right)\\right) \\\\\n",
    "\\end{pmatrix}\n",
    "$$\n",
    "where for instance the block $\\phi_{\\Omega}\\left(\\phi_{\\partial\\Omega}\\left(K(x,y)\\right)\\right)$ is evaluated as:\n",
    "\n",
    "1. Apply $\\phi_{\\partial\\Omega}$ to the function $K(x,y)$ as a function of $x$ only. \n",
    "\n",
    "2. Apply $\\phi_\\Omega$ to $\\phi_{\\partial\\Omega}\\left(K(x,y)\\right)$ as a function of $y$ only.\n",
    "\n",
    "Let's compute the blocks."
   ]
  },
  {
   "cell_type": "markdown",
   "metadata": {},
   "source": [
    "$$\\phi_{\\Omega}\\left(\\phi_{\\Omega}\\left(K(x,y)\\right)\\right)$$"
   ]
  },
  {
   "cell_type": "code",
   "execution_count": 5,
   "metadata": {},
   "outputs": [],
   "source": [
    "def get_M(index):\n",
    "    @jit\n",
    "    def M(x,y):\n",
    "        first = jnp.exp(-(jnp.sum(x**2))/ 2.)\n",
    "        secnd = jnp.exp(-(jnp.sum(y**2))/ 2.) \n",
    "        return jnp.where(index == 0, first, secnd)\n",
    "    return M\n",
    "  \n",
    "def n_aux(z):\n",
    "    # return jnp.where(z == -5., jnp.array([-1.]), jnp.array([1.]))\n",
    "    return jnp.array([1.])\n",
    "    \n",
    "def get_n(index):\n",
    "    @jit\n",
    "    def n(x,y):\n",
    "        first = n_aux(x)\n",
    "        secnd = n_aux(y)\n",
    "        return jnp.where(index == 0, first, secnd)\n",
    "    return n\n",
    "\n",
    "def get_fp_sol(d):\n",
    "    def fp(t,x):\n",
    "        K = 2*(1-jnp.exp(-2*t))\n",
    "        return (1/(K*jnp.pi)**(d/2)) * jnp.exp(-(jnp.sum(x**2))/K)\n",
    "    return fp\n",
    "\n",
    "fp_sol = get_fp_sol(d=1)\n",
    "\n",
    "fp_sol = vmap(fp_sol,in_axes=(None,0))"
   ]
  },
  {
   "cell_type": "code",
   "execution_count": 6,
   "metadata": {},
   "outputs": [],
   "source": [
    "def vectorize_kfunc(k):\n",
    "    return vmap(vmap(k, in_axes=(None,0)), in_axes=(0,None))\n",
    "\n",
    "def op_k_apply(k,L_op,R_op):\n",
    "    return R_op(L_op(k,0),1)\n",
    "\n",
    "def make_block(k,L_op,R_op):\n",
    "    return vectorize_kfunc(op_k_apply(k,L_op,R_op))"
   ]
  },
  {
   "cell_type": "code",
   "execution_count": 7,
   "metadata": {},
   "outputs": [],
   "source": [
    "def get_div(f,g):\n",
    "    def f_op_g(x,y):\n",
    "        return f(x,y) / g(x,y)\n",
    "    return f_op_g\n",
    "\n",
    "def get_mult(f,g):\n",
    "    def f_op_g(x,y):\n",
    "        return f(x,y) * g(x,y)\n",
    "    return f_op_g\n",
    "\n",
    "def get_sum(f,g):\n",
    "    def f_op_g(x,y):\n",
    "        return f(x,y) + g(x,y)\n",
    "    return f_op_g\n",
    "\n",
    "def get_subs(f,g):\n",
    "    def f_op_g(x,y):\n",
    "        return f(x,y) - g(x,y)\n",
    "    return f_op_g\n",
    "\n",
    "def get_const(h):\n",
    "    def constant(*args):\n",
    "        return h\n",
    "    return constant\n",
    "\n",
    "def get_dot(f,g):\n",
    "    def dot_f(x,y):\n",
    "        return jnp.dot(f(x,y),g(x,y))\n",
    "    return dot_f"
   ]
  },
  {
   "cell_type": "code",
   "execution_count": 8,
   "metadata": {},
   "outputs": [],
   "source": [
    "def eval_k(k,index):\n",
    "    return k\n",
    "\n",
    "def get_grad(k,index):\n",
    "    return grad(k,index)\n",
    "\n",
    "def divergence_k(k,index):\n",
    "    def divk(*args):\n",
    "        return jnp.trace(jacfwd(k,index)(*args))\n",
    "    return divk\n",
    "\n",
    "\n",
    "h = 1e-3\n",
    "def phi_omega(k,index):\n",
    "    return get_subs(eval_k(k,index),\n",
    "                   get_mult(get_const(h),\n",
    "                            divergence_k(get_mult(get_M(index),get_grad(get_div(k,get_M(index)),index)),index)))\n",
    "\n",
    "def phi_pomega(k,index):\n",
    "    return get_dot(get_n(index),get_grad(get_div(k,get_M(index)),index))\n"
   ]
  },
  {
   "cell_type": "markdown",
   "metadata": {},
   "source": [
    "## One step forward"
   ]
  },
  {
   "cell_type": "markdown",
   "metadata": {},
   "source": [
    "Build $K(\\phi,\\phi)$"
   ]
  },
  {
   "cell_type": "code",
   "execution_count": 10,
   "metadata": {},
   "outputs": [
    {
     "name": "stdout",
     "output_type": "stream",
     "text": [
      "Cond. number: 308127206450961.2\n"
     ]
    }
   ],
   "source": [
    "b11 = make_block(k,phi_omega,phi_omega)(pts_int,pts_int)\n",
    "b12 = make_block(k,phi_omega,phi_pomega)(pts_int,pts_bdry)\n",
    "b21 = b12.T\n",
    "b22 = make_block(k,phi_pomega,phi_pomega)(pts_bdry,pts_bdry)\n",
    "\n",
    "k_pp = jnp.block([[b11,b12],\n",
    "                  [b21,b22]])\n",
    "# k_pp = k_pp + 1e-8*jnp.diag(jnp.diag(k_pp))\n",
    "print('Cond. number:', jnp.linalg.cond(k_pp))"
   ]
  },
  {
   "cell_type": "code",
   "execution_count": 11,
   "metadata": {},
   "outputs": [
    {
     "data": {
      "text/plain": [
       "Array([[ 2.28015515e+12, -9.73145873e-07],\n",
       "       [-9.73145873e-07,  2.28015515e+12]], dtype=float64)"
      ]
     },
     "execution_count": 11,
     "metadata": {},
     "output_type": "execute_result"
    }
   ],
   "source": [
    "k_pp[-2:,-2:]"
   ]
  },
  {
   "cell_type": "markdown",
   "metadata": {},
   "source": [
    "Cholesky factorize this ! "
   ]
  },
  {
   "cell_type": "markdown",
   "metadata": {},
   "source": [
    "Build $\\beta = K(\\phi,\\phi)z$"
   ]
  },
  {
   "cell_type": "code",
   "execution_count": 12,
   "metadata": {},
   "outputs": [],
   "source": [
    "# beta\n",
    "z_star = jnp.concatenate([fp_sol(0.1,pts_int),jnp.zeros(M_bdry)])\n",
    "\n",
    "beta = jnp.linalg.solve(k_pp,z_star)"
   ]
  },
  {
   "cell_type": "markdown",
   "metadata": {},
   "source": [
    "Build $\\hat \\rho(x) = K(x,\\phi)^\\top\\beta$"
   ]
  },
  {
   "cell_type": "code",
   "execution_count": 13,
   "metadata": {},
   "outputs": [],
   "source": [
    "@jit\n",
    "def rho_star(x):\n",
    "    b1 = vmap(vmap(phi_omega(k,1),in_axes=(None,0)),in_axes=(0,None))(x,pts_int)\n",
    "    b2 = vmap(vmap(phi_pomega(k,1),in_axes=(None,0)),in_axes=(0,None))(x,pts_bdry)\n",
    "    return jnp.block([[b1,b2]]) @ beta\n",
    "\n",
    "# Build K(X,phi)\n",
    "b1 = vmap(vmap(phi_omega(k,1),in_axes=(None,0)),in_axes=(0,None))(pts_int,pts_int)\n",
    "b2 = vmap(vmap(phi_pomega(k,1),in_axes=(None,0)),in_axes=(0,None))(pts_int,pts_bdry)\n",
    "k_p = jnp.block([[b1,b2]])"
   ]
  },
  {
   "cell_type": "markdown",
   "metadata": {},
   "source": [
    "Compute $\\hat \\rho (X)$ and $\\rho (X)$"
   ]
  },
  {
   "cell_type": "code",
   "execution_count": 14,
   "metadata": {},
   "outputs": [],
   "source": [
    "pred = rho_star(pts_int)\n",
    "true = fp_sol(0.1+h,pts_int)"
   ]
  },
  {
   "cell_type": "code",
   "execution_count": 15,
   "metadata": {},
   "outputs": [
    {
     "name": "stdout",
     "output_type": "stream",
     "text": [
      "NMSE: 0.0\n"
     ]
    },
    {
     "data": {
      "image/png": "[encoded data removed]",
      "text/plain": [
       "<Figure size 900x200 with 3 Axes>"
      ]
     },
     "metadata": {},
     "output_type": "display_data"
    }
   ],
   "source": [
    "fig, axs = plt.subplots(figsize = (9,2), nrows = 1, ncols = 3, sharex = True, sharey = False)\n",
    "fig.subplots_adjust(hspace=0.2, wspace=0.1)\n",
    "# True\n",
    "axs0 = axs[0].plot(pts_int,true)\n",
    "axs[0].title.set_text('true')\n",
    "# Pred\n",
    "axs1 = axs[1].plot(pts_int,pred)\n",
    "axs[1].title.set_text('pred')\n",
    "# Error\n",
    "axs2 = axs[2].plot(pts_int,jnp.abs(pred-true))\n",
    "axs[2].title.set_text('error')\n",
    "# Plot settings\n",
    "# for i in range(3):\n",
    "#     axs[i].set_yticklabels([])\n",
    "#     axs[i].set_xticklabels([])\n",
    "#     axs[i].set_yticks([])\n",
    "#     axs[i].set_xticks([])\n",
    "nmse = mean_squared_error(pred,true)/mean_squared_error(0*pred,true)\n",
    "print(\"NMSE:\", round(nmse,8))\n",
    "plt.show()"
   ]
  },
  {
   "cell_type": "markdown",
   "metadata": {},
   "source": [
    "## Multiple steps"
   ]
  },
  {
   "cell_type": "code",
   "execution_count": 16,
   "metadata": {},
   "outputs": [
    {
     "name": "stdout",
     "output_type": "stream",
     "text": [
      "final time: 0.2\n"
     ]
    },
    {
     "name": "stderr",
     "output_type": "stream",
     "text": [
      "100%|██████████| 100/100 [00:00<00:00, 522.45it/s]\n"
     ]
    }
   ],
   "source": [
    "T = 0.2\n",
    "rho_0 = fp_sol(0.1,pts_int)\n",
    "steps = int((T-0.1)//h)\n",
    "previous = rho_0\n",
    "print('final time:', 0.1 + steps*h)\n",
    "for _ in tqdm(range(steps)):\n",
    "    z_star = jnp.concatenate([previous,jnp.zeros(M_bdry)])\n",
    "    beta = jnp.linalg.solve(k_pp,z_star)\n",
    "    pred = jnp.dot(k_p, beta)\n",
    "    #update\n",
    "    previous = pred"
   ]
  },
  {
   "cell_type": "code",
   "execution_count": 17,
   "metadata": {},
   "outputs": [
    {
     "data": {
      "image/png": "[encoded data removed]",
      "text/plain": [
       "<Figure size 900x200 with 2 Axes>"
      ]
     },
     "metadata": {},
     "output_type": "display_data"
    },
    {
     "ename": "",
     "evalue": "",
     "output_type": "error",
     "traceback": [
      "\u001b[1;31mThe Kernel crashed while executing code in the the current cell or a previous cell. Please review the code in the cell(s) to identify a possible cause of the failure. Click <a href='https://aka.ms/vscodeJupyterKernelCrash'>here</a> for more info. View Jupyter <a href='command:jupyter.viewOutput'>log</a> for further details."
     ]
    }
   ],
   "source": [
    "fig, axs = plt.subplots(figsize = (9,2), nrows = 1, ncols = 2, sharex = True, sharey = False)\n",
    "fig.subplots_adjust(hspace=0.2, wspace=0.1)\n",
    "# fig.suptitle('t=0.1 | true at t= {} | pred at t={}'.format(final_t,final_t))\n",
    "# Error\n",
    "axs0 = axs[0].plot(pts_int,jnp.abs(fp_sol(0.1 + steps*h,pts_int) - pred))\n",
    "axs[0].title.set_text('Error')\n",
    "# Init\n",
    "axs2 = axs[1].plot(pts_int,rho_0,'.-', label = 'init')\n",
    "# True next\n",
    "axs1 = axs[1].plot(pts_int,fp_sol(0.1 + steps*h,pts_int),'.-', label = 'true')\n",
    "# Predicted next\n",
    "axs[1].plot(pts_int,pred,'.-', label = 'pred')\n",
    "# legend\n",
    "axs[1].legend()\n",
    "axs[1].set_title('pred vs. true')\n",
    "# Plot settings\n",
    "# for i in range(3):\n",
    "#     axs[i].set_yticklabels([])\n",
    "#     axs[i].set_xticklabels([])\n",
    "#     axs[i].set_yticks([])\n",
    "#     axs[i].set_xticks([])\n",
    "#nmse = mean_squared_error(u_next,fp_1d_sol(final_t, Xfull))/mean_squared_error(0*fp_1d_sol(final_t, Xfull),fp_1d_sol(final_t, Xfull))\n",
    "plt.show()"
   ]
  },
  {
   "cell_type": "markdown",
   "metadata": {},
   "source": [
    "## Convergence plots"
   ]
  },
  {
   "cell_type": "code",
   "execution_count": 123,
   "metadata": {},
   "outputs": [],
   "source": [
    "def get_error(h):\n",
    "    def phi_omega(k,index):\n",
    "        return get_subs(eval_k(k,index),\n",
    "                   get_mult(get_const(h),\n",
    "                            divergence_k(get_mult(get_M(index),get_grad(get_div(k,get_M(index)),index)),index)))\n",
    "    b11 = make_block(k,phi_omega,phi_omega)(pts_int,pts_int)\n",
    "    b21 = make_block(k,phi_omega,phi_pomega)(pts_bdry,pts_int)\n",
    "    b12 = b21.T\n",
    "    b22 = make_block(k,phi_pomega,phi_pomega)(pts_bdry,pts_bdry)\n",
    "\n",
    "    k_pp = jnp.block([[b11,b12],\n",
    "                    [b21,b22]])\n",
    "    \n",
    "    # beta\n",
    "    z_star = jnp.concatenate([fp_sol(0.1,pts_int),jnp.zeros(pts_bdry.shape[0])])\n",
    "\n",
    "    beta = jnp.linalg.solve(k_pp,z_star)\n",
    "    \n",
    "    def rho_star(x):\n",
    "        b1 = vmap(vmap(phi_omega(k,1),in_axes=(None,0)),in_axes=(0,None))(x,pts_int)\n",
    "        b2 = vmap(vmap(phi_pomega(k,1),in_axes=(None,0)),in_axes=(0,None))(x,pts_bdry)\n",
    "        return jnp.block([[b1,b2]]) @ beta\n",
    "    \n",
    "    pred = rho_star(pts_int)\n",
    "    true = fp_sol(0.1+h,pts_int)\n",
    "\n",
    "    return mean_squared_error(pred,true)/mean_squared_error(0*pred,true)"
   ]
  },
  {
   "cell_type": "markdown",
   "metadata": {},
   "source": [
    "As $h$ gets smaller do we get better results ?"
   ]
  },
  {
   "cell_type": "code",
   "execution_count": 124,
   "metadata": {},
   "outputs": [],
   "source": [
    "h_s = jnp.flip(jnp.power(10,jnp.arange(-8,-1,1,dtype='float64')))"
   ]
  },
  {
   "cell_type": "code",
   "execution_count": 125,
   "metadata": {},
   "outputs": [
    {
     "name": "stderr",
     "output_type": "stream",
     "text": [
      "100%|██████████| 7/7 [00:31<00:00,  4.50s/it]\n"
     ]
    }
   ],
   "source": [
    "errors = []\n",
    "for h in tqdm(h_s):\n",
    "    errors.append(get_error(h))"
   ]
  },
  {
   "cell_type": "code",
   "execution_count": 19,
   "metadata": {},
   "outputs": [
    {
     "data": {
      "text/plain": [
       "[0.30544573339468284,\n",
       " 0.0006554829326562041,\n",
       " 2.0250771547637012e-06,\n",
       " 1.6935364383600667e-08,\n",
       " 1.6618381625763765e-10,\n",
       " 1.6586831217740648e-12,\n",
       " 1.6583685979928043e-14]"
      ]
     },
     "execution_count": 19,
     "metadata": {},
     "output_type": "execute_result"
    }
   ],
   "source": [
    "errors"
   ]
  },
  {
   "cell_type": "code",
   "execution_count": 126,
   "metadata": {},
   "outputs": [
    {
     "data": {
      "image/png": "[encoded data removed]",
      "text/plain": [
       "<Figure size 500x500 with 1 Axes>"
      ]
     },
     "metadata": {},
     "output_type": "display_data"
    }
   ],
   "source": [
    "plt.loglog(h_s,errors,label ='kernel method')\n",
    "plt.loglog(h_s,h_s, label='slope 1')\n",
    "plt.xlabel('h')\n",
    "plt.ylabel('nmse')\n",
    "plt.legend()\n",
    "plt.show()"
   ]
  },
  {
   "cell_type": "code",
   "execution_count": 127,
   "metadata": {},
   "outputs": [],
   "source": [
    "slope, ycut = jnp.polyfit(jnp.array(h_s),jnp.array(errors), deg=1)"
   ]
  },
  {
   "cell_type": "code",
   "execution_count": 128,
   "metadata": {},
   "outputs": [
    {
     "data": {
      "text/plain": [
       "Array(0.20048199, dtype=float64)"
      ]
     },
     "execution_count": 128,
     "metadata": {},
     "output_type": "execute_result"
    }
   ],
   "source": [
    "slope"
   ]
  },
  {
   "cell_type": "markdown",
   "metadata": {},
   "source": [
    "## Convergence plot"
   ]
  },
  {
   "cell_type": "code",
   "execution_count": 129,
   "metadata": {},
   "outputs": [
    {
     "name": "stderr",
     "output_type": "stream",
     "text": [
      "  0%|          | 0/19 [00:00<?, ?it/s]"
     ]
    },
    {
     "name": "stdout",
     "output_type": "stream",
     "text": [
      "final time: 0.2\n"
     ]
    },
    {
     "name": "stderr",
     "output_type": "stream",
     "text": [
      "100%|██████████| 10/10 [00:00<00:00, 717.11it/s]\n",
      "  5%|▌         | 1/19 [00:04<01:29,  4.95s/it]"
     ]
    },
    {
     "name": "stdout",
     "output_type": "stream",
     "text": [
      "100\n",
      "final time: 0.2\n"
     ]
    },
    {
     "name": "stderr",
     "output_type": "stream",
     "text": [
      "100%|██████████| 10/10 [00:00<00:00, 30.15it/s]\n",
      " 11%|█         | 2/19 [00:19<03:02, 10.72s/it]"
     ]
    },
    {
     "name": "stdout",
     "output_type": "stream",
     "text": [
      "200\n",
      "final time: 0.2\n"
     ]
    },
    {
     "name": "stderr",
     "output_type": "stream",
     "text": [
      "100%|██████████| 10/10 [00:00<00:00, 34.63it/s]\n",
      " 16%|█▌        | 3/19 [00:34<03:19, 12.44s/it]"
     ]
    },
    {
     "name": "stdout",
     "output_type": "stream",
     "text": [
      "300\n",
      "final time: 0.2\n"
     ]
    },
    {
     "name": "stderr",
     "output_type": "stream",
     "text": [
      "100%|██████████| 10/10 [00:00<00:00, 33.16it/s]\n",
      " 21%|██        | 4/19 [00:49<03:20, 13.39s/it]"
     ]
    },
    {
     "name": "stdout",
     "output_type": "stream",
     "text": [
      "400\n",
      "final time: 0.2\n"
     ]
    },
    {
     "name": "stderr",
     "output_type": "stream",
     "text": [
      "100%|██████████| 10/10 [00:00<00:00, 29.09it/s]\n",
      " 26%|██▋       | 5/19 [01:04<03:17, 14.11s/it]"
     ]
    },
    {
     "name": "stdout",
     "output_type": "stream",
     "text": [
      "500\n",
      "final time: 0.2\n"
     ]
    },
    {
     "name": "stderr",
     "output_type": "stream",
     "text": [
      "100%|██████████| 10/10 [00:00<00:00, 27.34it/s]\n",
      " 32%|███▏      | 6/19 [01:20<03:12, 14.79s/it]"
     ]
    },
    {
     "name": "stdout",
     "output_type": "stream",
     "text": [
      "600\n",
      "final time: 0.2\n"
     ]
    },
    {
     "name": "stderr",
     "output_type": "stream",
     "text": [
      "100%|██████████| 10/10 [00:00<00:00, 27.03it/s]\n",
      " 37%|███▋      | 7/19 [01:36<03:03, 15.30s/it]"
     ]
    },
    {
     "name": "stdout",
     "output_type": "stream",
     "text": [
      "700\n",
      "final time: 0.2\n"
     ]
    },
    {
     "name": "stderr",
     "output_type": "stream",
     "text": [
      "100%|██████████| 10/10 [00:00<00:00, 26.70it/s]\n",
      " 42%|████▏     | 8/19 [01:53<02:53, 15.78s/it]"
     ]
    },
    {
     "name": "stdout",
     "output_type": "stream",
     "text": [
      "800\n",
      "final time: 0.2\n"
     ]
    },
    {
     "name": "stderr",
     "output_type": "stream",
     "text": [
      "100%|██████████| 10/10 [00:00<00:00, 23.99it/s]\n",
      " 47%|████▋     | 9/19 [02:10<02:39, 15.95s/it]"
     ]
    },
    {
     "name": "stdout",
     "output_type": "stream",
     "text": [
      "900\n",
      "final time: 0.2\n"
     ]
    },
    {
     "name": "stderr",
     "output_type": "stream",
     "text": [
      "100%|██████████| 10/10 [00:00<00:00, 24.54it/s]\n",
      " 53%|█████▎    | 10/19 [02:26<02:24, 16.11s/it]"
     ]
    },
    {
     "name": "stdout",
     "output_type": "stream",
     "text": [
      "1000\n",
      "final time: 0.2\n"
     ]
    },
    {
     "name": "stderr",
     "output_type": "stream",
     "text": [
      "100%|██████████| 10/10 [00:00<00:00, 23.98it/s]\n",
      " 58%|█████▊    | 11/19 [02:43<02:09, 16.25s/it]"
     ]
    },
    {
     "name": "stdout",
     "output_type": "stream",
     "text": [
      "1100\n",
      "final time: 0.2\n"
     ]
    },
    {
     "name": "stderr",
     "output_type": "stream",
     "text": [
      "100%|██████████| 10/10 [00:00<00:00, 23.40it/s]\n",
      " 63%|██████▎   | 12/19 [03:00<01:55, 16.57s/it]"
     ]
    },
    {
     "name": "stdout",
     "output_type": "stream",
     "text": [
      "1200\n",
      "final time: 0.2\n"
     ]
    },
    {
     "name": "stderr",
     "output_type": "stream",
     "text": [
      "100%|██████████| 10/10 [00:00<00:00, 23.00it/s]\n",
      " 68%|██████▊   | 13/19 [03:17<01:40, 16.82s/it]"
     ]
    },
    {
     "name": "stdout",
     "output_type": "stream",
     "text": [
      "1300\n",
      "final time: 0.2\n"
     ]
    },
    {
     "name": "stderr",
     "output_type": "stream",
     "text": [
      "100%|██████████| 10/10 [00:00<00:00, 22.55it/s]\n",
      " 74%|███████▎  | 14/19 [03:34<01:24, 16.84s/it]"
     ]
    },
    {
     "name": "stdout",
     "output_type": "stream",
     "text": [
      "1400\n",
      "final time: 0.2\n"
     ]
    },
    {
     "name": "stderr",
     "output_type": "stream",
     "text": [
      "100%|██████████| 10/10 [00:00<00:00, 21.83it/s]\n",
      " 79%|███████▉  | 15/19 [03:53<01:09, 17.32s/it]"
     ]
    },
    {
     "name": "stdout",
     "output_type": "stream",
     "text": [
      "1500\n",
      "final time: 0.2\n"
     ]
    },
    {
     "name": "stderr",
     "output_type": "stream",
     "text": [
      "100%|██████████| 10/10 [00:00<00:00, 21.27it/s]\n",
      " 84%|████████▍ | 16/19 [04:11<00:52, 17.51s/it]"
     ]
    },
    {
     "name": "stdout",
     "output_type": "stream",
     "text": [
      "1600\n",
      "final time: 0.2\n"
     ]
    },
    {
     "name": "stderr",
     "output_type": "stream",
     "text": [
      "100%|██████████| 10/10 [00:00<00:00, 20.91it/s]\n",
      " 89%|████████▉ | 17/19 [04:29<00:35, 17.75s/it]"
     ]
    },
    {
     "name": "stdout",
     "output_type": "stream",
     "text": [
      "1700\n",
      "final time: 0.2\n"
     ]
    },
    {
     "name": "stderr",
     "output_type": "stream",
     "text": [
      "100%|██████████| 10/10 [00:00<00:00, 18.55it/s]\n",
      " 95%|█████████▍| 18/19 [04:47<00:17, 17.87s/it]"
     ]
    },
    {
     "name": "stdout",
     "output_type": "stream",
     "text": [
      "1800\n",
      "final time: 0.2\n"
     ]
    },
    {
     "name": "stderr",
     "output_type": "stream",
     "text": [
      "100%|██████████| 10/10 [00:00<00:00, 18.95it/s]\n",
      "100%|██████████| 19/19 [05:05<00:00, 16.09s/it]"
     ]
    },
    {
     "name": "stdout",
     "output_type": "stream",
     "text": [
      "1900\n"
     ]
    },
    {
     "name": "stderr",
     "output_type": "stream",
     "text": [
      "\n"
     ]
    }
   ],
   "source": [
    "norms = []\n",
    "for n in tqdm(jnp.arange(100,2000,100)):\n",
    "    # \\Omega\n",
    "    pts_int = jnp.linspace(-5,5,n)[1:-1].reshape(-1,1)\n",
    "    M_int = pts_int.shape[0]\n",
    "\n",
    "    # \\partial\\Omega\n",
    "    pts_bdry = jnp.array([-5.,5.]).reshape(-1,1)\n",
    "    M_bdry = pts_bdry.shape[0]\n",
    "\n",
    "    h = 1e-2\n",
    "    def phi_omega(k,index):\n",
    "        return get_subs(eval_k(k,index),\n",
    "                   get_mult(get_const(h),\n",
    "                            divergence_k(get_mult(get_M(index),get_grad(get_div(k,get_M(index)),index)),index)))\n",
    "    \n",
    "    b11 = make_block(k,phi_omega,phi_omega)(pts_int,pts_int)\n",
    "    b21 = make_block(k,phi_omega,phi_pomega)(pts_bdry,pts_int)\n",
    "    b12 = b21.T\n",
    "    b22 = make_block(k,phi_pomega,phi_pomega)(pts_bdry,pts_bdry)\n",
    "\n",
    "    k_pp = jnp.block([[b11,b12],[b21,b22]])\n",
    "\n",
    "    # Build K(X,phi)\n",
    "    b1 = vmap(vmap(phi_omega(k,1),in_axes=(None,0)),in_axes=(0,None))(pts_int,pts_int)\n",
    "    b2 = vmap(vmap(phi_pomega(k,1),in_axes=(None,0)),in_axes=(0,None))(pts_int,pts_bdry)\n",
    "    k_p = jnp.block([[b1,b2]])\n",
    "\n",
    "    # beta\n",
    "    T = 0.2\n",
    "    previous = fp_sol(0.1,pts_int)\n",
    "    steps = int((T-0.1)//h)\n",
    "    print('final time:', 0.1 + steps*h)\n",
    "    for _ in tqdm(range(steps)):\n",
    "        z_star = jnp.concatenate([previous,jnp.zeros(pts_bdry.shape[0])])\n",
    "        beta = jnp.linalg.solve(k_pp,z_star)\n",
    "        pred = k_p @ beta\n",
    "        #update\n",
    "        previous = pred.copy()\n",
    "    \n",
    "    true = fp_sol(T,pts_int)\n",
    "    print(n)\n",
    "    norms.append(mean_squared_error(pred,true)/mean_squared_error(0*pred,true))"
   ]
  },
  {
   "cell_type": "code",
   "execution_count": 130,
   "metadata": {},
   "outputs": [
    {
     "data": {
      "image/png": "[encoded data removed]",
      "text/plain": [
       "<Figure size 500x500 with 1 Axes>"
      ]
     },
     "metadata": {},
     "output_type": "display_data"
    }
   ],
   "source": [
    "Ns = [n for n in jnp.arange(100,2000,100)]\n",
    "plt.plot(Ns,norms)\n",
    "plt.xlabel('number of collocation points')\n",
    "plt.ylabel('normalized error')\n",
    "plt.title('Error plot at t = 0.2')\n",
    "plt.show()"
   ]
  },
  {
   "cell_type": "code",
   "execution_count": 131,
   "metadata": {},
   "outputs": [
    {
     "data": {
      "text/plain": [
       "[0.1238073655215066,\n",
       " 0.12394624756097476,\n",
       " 0.12394624756097575,\n",
       " 66577.11857381434,\n",
       " 7.525508614690207e+18,\n",
       " 6.401471882806593e+30,\n",
       " 7593950423861.072,\n",
       " 45696550136.734764,\n",
       " 17110055730.343988,\n",
       " 1820472.647719719,\n",
       " 2.8169732174002764e+27,\n",
       " 1.5235678972256727e+19,\n",
       " 5.440457683065251e+31,\n",
       " 4.1345670984142706e+24,\n",
       " 1.811226853677118e+27,\n",
       " 4.143783656933834e+42,\n",
       " 1.489047133603226e+46,\n",
       " 2.0024732510346997e+44,\n",
       " 7.423425084801125e+37]"
      ]
     },
     "execution_count": 131,
     "metadata": {},
     "output_type": "execute_result"
    }
   ],
   "source": [
    "norms"
   ]
  },
  {
   "cell_type": "markdown",
   "metadata": {},
   "source": [
    "- The kernel matrix is ill-conditioned, and every iteration of the time-stepping when we solve for the linear system\n",
    "$$\n",
    "\\beta = K(\\phi,\\phi)^{-1} z\n",
    "$$\n",
    "will lead to very different results.\n",
    "- Experiments show convergence of the method but since we have such an ill-conditioned matrix, we might want to switched to the method of lines approach now.\n"
   ]
  },
  {
   "cell_type": "code",
   "execution_count": null,
   "metadata": {},
   "outputs": [],
   "source": []
  }
 ],
 "metadata": {
  "kernelspec": {
   "display_name": "myjaxenv",
   "language": "python",
   "name": "python3"
  },
  "language_info": {
   "codemirror_mode": {
    "name": "ipython",
    "version": 3
   },
   "file_extension": ".py",
   "mimetype": "text/x-python",
   "name": "python",
   "nbconvert_exporter": "python",
   "pygments_lexer": "ipython3",
   "version": "3.11.3"
  }
 },
 "nbformat": 4,
 "nbformat_minor": 2
}
