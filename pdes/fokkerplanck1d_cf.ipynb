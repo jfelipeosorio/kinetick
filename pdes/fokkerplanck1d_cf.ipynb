{
 "cells": [
  {
   "attachments": {},
   "cell_type": "markdown",
   "metadata": {},
   "source": [
    "# Fokker-Planck 1D\n",
    "***\n",
    "Created by: Juan Felipe Osorio Ramirez\n",
    "\n",
    "Department of Applied Mathematics, UW\n",
    "***"
   ]
  },
  {
   "attachments": {},
   "cell_type": "markdown",
   "metadata": {},
   "source": [
    "> $\\partial_t u = \\partial_{x}\\left(M\\partial_{x}\\left(\\frac{u}{M}\\right)\\right)$, $t > 0$, $x \\in [-5,5]$.\n",
    "\n",
    "> $u(0, x)=u^0(x), \\quad x \\in [-5, 5]$\n",
    "\n",
    "> $\\left(\\frac{u}{M}\\right)_x(t, -5)=\\left(\\frac{u}{M}\\right)_x(t, 5)=0, \\quad t \\geq 0 .$\n"
   ]
  },
  {
   "attachments": {},
   "cell_type": "markdown",
   "metadata": {},
   "source": [
    "## Libraries"
   ]
  },
  {
   "cell_type": "code",
   "execution_count": 1,
   "metadata": {},
   "outputs": [],
   "source": [
    "import sys\n",
    "#sys.path.append('/Users/josorior/Documents/UW/research/kinetick/kinetick/source')\n",
    "sys.path.append('/home/juanfelipe/Desktop/research/kinetick/source')"
   ]
  },
  {
   "cell_type": "code",
   "execution_count": 2,
   "metadata": {},
   "outputs": [],
   "source": [
    "import jax.numpy as np\n",
    "from jax import grad, jit\n",
    "from jax.scipy.optimize import minimize\n",
    "\n",
    "import numpy as np\n",
    "import matplotlib.pyplot as plt \n",
    "#from sklearn.preprocessing import MinMaxScaler\n",
    "from sklearn.kernel_ridge import KernelRidge\n",
    "from parameter_learning import *\n",
    "from plotlib import *\n",
    "from models import * \n",
    "from interpolation import *\n",
    "from kernels import *\n",
    "from integrate import trap\n",
    "from sklearn.metrics import mean_squared_error\n",
    "\n",
    "import jax.numpy as jnp\n",
    "from jax import grad, jit\n",
    "from jax.config import config; \n",
    "from numpy.linalg import norm\n",
    "config.update(\"jax_enable_x64\", True)\n",
    "\n",
    "from functools import partial # for jit to make codes faster"
   ]
  },
  {
   "cell_type": "markdown",
   "metadata": {},
   "source": [
    "## Test of `JAX` functionality"
   ]
  },
  {
   "cell_type": "code",
   "execution_count": 3,
   "metadata": {},
   "outputs": [],
   "source": [
    "T = 2.\n",
    "T_ = 3.\n",
    "kernel = Gaussian\n",
    "params = 1"
   ]
  },
  {
   "cell_type": "markdown",
   "metadata": {},
   "source": [
    "$\\partial_{x}\\left(\\frac{K(x,y)}{M(x)}\\right)|_{x=x_m,y=x_{m'}}$"
   ]
  },
  {
   "cell_type": "code",
   "execution_count": 4,
   "metadata": {},
   "outputs": [
    {
     "data": {
      "text/plain": [
       "Array(13.44506721, dtype=float64, weak_type=True)"
      ]
     },
     "execution_count": 4,
     "metadata": {},
     "output_type": "execute_result"
    }
   ],
   "source": [
    "partial_KoverMx(T,T_,kernel,params)"
   ]
  },
  {
   "cell_type": "markdown",
   "metadata": {},
   "source": [
    "$M(x)\\partial_{x}\\left(\\frac{K(x,y)}{M(x)}\\right)|_{x=x_m,y=x_{m'}}$"
   ]
  },
  {
   "cell_type": "code",
   "execution_count": 5,
   "metadata": {},
   "outputs": [
    {
     "data": {
      "text/plain": [
       "Array(1.81959198, dtype=float64, weak_type=True)"
      ]
     },
     "execution_count": 5,
     "metadata": {},
     "output_type": "execute_result"
    }
   ],
   "source": [
    "MtimesPartialx(T,T_,kernel,params)"
   ]
  },
  {
   "cell_type": "markdown",
   "metadata": {},
   "source": [
    "$\\partial_x\\left(M(x)\\partial_{x}\\left(\\frac{K(x,y)}{M(x)}\\right)\\right)|_{x=x_m,y=x_{m'}}$"
   ]
  },
  {
   "cell_type": "code",
   "execution_count": 6,
   "metadata": {},
   "outputs": [],
   "source": [
    "T = jnp.array([2.,7.])\n",
    "T_ = jnp.array([4.,3.,2.])"
   ]
  },
  {
   "cell_type": "code",
   "execution_count": 7,
   "metadata": {},
   "outputs": [
    {
     "data": {
      "text/plain": [
       "Array([[ 1.08268227e+00,  1.81959198e+00, -4.44089210e-16],\n",
       "       [-1.33307958e-01, -4.02555153e-03, -3.72665317e-05]],      dtype=float64)"
      ]
     },
     "execution_count": 7,
     "metadata": {},
     "output_type": "execute_result"
    }
   ],
   "source": [
    "partial_MtimesPartialx(T,T_,kernel,params)"
   ]
  },
  {
   "cell_type": "code",
   "execution_count": 8,
   "metadata": {},
   "outputs": [
    {
     "data": {
      "text/plain": [
       "Array(1.08268227, dtype=float64, weak_type=True)"
      ]
     },
     "execution_count": 8,
     "metadata": {},
     "output_type": "execute_result"
    }
   ],
   "source": [
    "t = 2.\n",
    "t_ = 4.\n",
    "partial_MtimesPartialx_(t,t_,kernel,params)"
   ]
  },
  {
   "cell_type": "code",
   "execution_count": 9,
   "metadata": {},
   "outputs": [],
   "source": [
    "T = 8.\n",
    "T_ = 1.\n",
    "kernel = Gaussian\n",
    "params = 1"
   ]
  },
  {
   "cell_type": "markdown",
   "metadata": {},
   "source": [
    "$\\partial_{y}\\left(\\frac{K(x,y)}{M(y)}\\right)|_{x=x_m,y=x_{m'}}$"
   ]
  },
  {
   "cell_type": "code",
   "execution_count": 10,
   "metadata": {},
   "outputs": [
    {
     "data": {
      "text/plain": [
       "Array(3.02010764e-10, dtype=float64, weak_type=True)"
      ]
     },
     "execution_count": 10,
     "metadata": {},
     "output_type": "execute_result"
    }
   ],
   "source": [
    "partial_KoverMy(T,T_,kernel,params)"
   ]
  },
  {
   "cell_type": "markdown",
   "metadata": {},
   "source": [
    "$M(y)\\partial_{y}\\left(\\frac{K(x,y)}{M(y)}\\right)|_{x=x_m,y=x_{m'}}$"
   ]
  },
  {
   "cell_type": "code",
   "execution_count": 11,
   "metadata": {},
   "outputs": [
    {
     "data": {
      "text/plain": [
       "Array(1.83178788e-10, dtype=float64, weak_type=True)"
      ]
     },
     "execution_count": 11,
     "metadata": {},
     "output_type": "execute_result"
    }
   ],
   "source": [
    "MtimesPartialy(T,T_,kernel,params)"
   ]
  },
  {
   "cell_type": "markdown",
   "metadata": {},
   "source": [
    "$\\partial_y\\left(M(y)\\partial_{y}\\left(\\frac{K(x,y)}{M(y)}\\right)\\right)|_{x=x_m,y=x_{m'}}$"
   ]
  },
  {
   "cell_type": "code",
   "execution_count": 12,
   "metadata": {},
   "outputs": [],
   "source": [
    "T = jnp.array([2.,7.])\n",
    "T_ = jnp.array([4.,3.,2.])"
   ]
  },
  {
   "cell_type": "code",
   "execution_count": 13,
   "metadata": {},
   "outputs": [
    {
     "data": {
      "text/plain": [
       "Array([[-5.41341133e-01, -1.21306132e+00, -4.44089210e-16],\n",
       "       [ 2.33288927e-01,  9.39295358e-03,  1.30432861e-04]],      dtype=float64)"
      ]
     },
     "execution_count": 13,
     "metadata": {},
     "output_type": "execute_result"
    }
   ],
   "source": [
    "partial_MtimesPartialy(T,T_,kernel,params)"
   ]
  },
  {
   "cell_type": "markdown",
   "metadata": {},
   "source": [
    "Let's compute the biggest term"
   ]
  },
  {
   "cell_type": "code",
   "execution_count": 14,
   "metadata": {},
   "outputs": [],
   "source": [
    "t = 2.\n",
    "t_ = 3.\n",
    "kernel = Gaussian\n",
    "params = 1"
   ]
  },
  {
   "cell_type": "code",
   "execution_count": 15,
   "metadata": {},
   "outputs": [
    {
     "data": {
      "text/plain": [
       "Array(6.0653066, dtype=float64, weak_type=True)"
      ]
     },
     "execution_count": 15,
     "metadata": {},
     "output_type": "execute_result"
    }
   ],
   "source": [
    "partialy_partialx_MtimesPartialx_overMy_timesM(t,t_,kernel,params)"
   ]
  },
  {
   "cell_type": "code",
   "execution_count": 16,
   "metadata": {},
   "outputs": [],
   "source": [
    "T = jnp.array([2.,7.])\n",
    "T_ = jnp.array([4.,3.,2.])\n",
    "kernel = Gaussian\n",
    "params = 1"
   ]
  },
  {
   "cell_type": "code",
   "execution_count": 17,
   "metadata": {},
   "outputs": [
    {
     "data": {
      "text/plain": [
       "Array([[-4.06005850e+00,  3.55271368e-15,  6.00000000e+00],\n",
       "       [-2.66615917e+00, -1.15734607e-01, -1.43103482e-03]],      dtype=float64)"
      ]
     },
     "execution_count": 17,
     "metadata": {},
     "output_type": "execute_result"
    }
   ],
   "source": [
    "big_term(T,T_,kernel,params)"
   ]
  },
  {
   "attachments": {},
   "cell_type": "markdown",
   "metadata": {},
   "source": [
    "## Utils"
   ]
  },
  {
   "cell_type": "code",
   "execution_count": 3,
   "metadata": {},
   "outputs": [],
   "source": [
    "def Kphiphi_assembly(Xomega, Xboundary , h, k = 'Gaussian', k_param = 1.):\n",
    "\n",
    "  # Set kernel to use\n",
    "  if k == 'Gaussian':\n",
    "    kernel = Gaussian\n",
    "  if k == 'Matern52':\n",
    "    kernel = Matern_Kernel_52_1D\n",
    "\n",
    "  # Size of the square matrix\n",
    "  Momega = len(Xomega)\n",
    "  Mboundary = len(Xboundary)\n",
    "  M = Momega + Mboundary\n",
    "\n",
    "  # Initialize K(phi,phi)\n",
    "  Theta = jnp.zeros((M,M))\n",
    "\n",
    "  # Block 1,1 \n",
    "  val1 = K(kernel, Xomega, Xomega, k_param) # K(X,X)\n",
    "  val2 = partial_MtimesPartialx(Xomega, Xomega, kernel, k_param)\n",
    "  val3 = partial_MtimesPartialy(Xomega, Xomega, kernel, k_param)\n",
    "  val4 = big_term(Xomega, Xomega, kernel, k_param)\n",
    "  val = val1 - h*val2 - h*val3 + (h**2)*val4  \n",
    "  Theta = Theta.at[:Momega, :Momega].set(val)\n",
    "\n",
    "  # Block 1,2\n",
    "  val1 = MtimesPartialx_(Xomega, Xboundary, kernel, k_param)\n",
    "  val2 = big_term(Xomega, Xboundary, kernel, k_param)\n",
    "  val = val1 - h*val2\n",
    "  Theta = Theta.at[:Momega, Momega:].set(val)\n",
    "  Theta = Theta.at[Momega:, :Momega].set(jnp.transpose(val)) # Block 2,1\n",
    "\n",
    "  # Block 2,2\n",
    "  val = partial_partial(Xboundary, Xboundary, kernel, k_param)\n",
    "  Theta = Theta.at[Momega:, Momega:].set(val)\n",
    "\n",
    "  return Theta"
   ]
  },
  {
   "cell_type": "code",
   "execution_count": 4,
   "metadata": {},
   "outputs": [],
   "source": [
    "def Kphi_assembly(Xtest, Xomega, Xboundary , h, k = 'Gaussian', k_param = 1.):\n",
    "\n",
    "  # Set kernel to use\n",
    "  if k == 'Gaussian':\n",
    "    kernel = Gaussian\n",
    "  if k == 'Matern52':\n",
    "    kernel = Matern_Kernel_52_1D\n",
    "\n",
    "  # Size of the square matrix\n",
    "  Momega = len(Xomega)\n",
    "  Mboundary = len(Xboundary)\n",
    "  Mtest = len(Xtest)\n",
    "  M = Momega + Mboundary\n",
    "\n",
    "  # Initialize K(phi,phi)\n",
    "  Theta = jnp.zeros((M,Mtest))\n",
    "\n",
    "  # Block 1\n",
    "  val1 = K(kernel, Xomega, Xtest, k_param)\n",
    "  val2 = partial_MtimesPartialx(Xomega, Xtest, kernel, k_param)\n",
    "  val = val1 - h*val2\n",
    "  Theta = Theta.at[:Momega, :].set(val)\n",
    "\n",
    "  # Block 2\n",
    "  val = partial_KoverMx_(Xboundary , Xtest, kernel, k_param)\n",
    "  Theta = Theta.at[Momega:, :].set(val)\n",
    "\n",
    "\n",
    "  return Theta"
   ]
  },
  {
   "attachments": {},
   "cell_type": "markdown",
   "metadata": {},
   "source": [
    "## How far can we go ?"
   ]
  },
  {
   "cell_type": "code",
   "execution_count": 5,
   "metadata": {},
   "outputs": [],
   "source": [
    "# X_full\n",
    "Xfull = np.linspace(-5,5,102)\n",
    "# X_{\\partial\\Omega}\n",
    "Xboundary = Xfull[[0,-1]]\n",
    "# X_\\Omega\n",
    "Xomega = Xfull[1:-1]\n",
    "# u(X_\\Omega,0)\n",
    "u0 = fp_1d_u0(Xomega)\n",
    "# kernel\n",
    "kernel = 'Matern52'\n",
    "# Kernel lenght-scale\n",
    "k_param = 0.5\n",
    "# Time step\n",
    "h = 1e-5\n",
    "# Final time - We add 0.1 since that is the initial condition\n",
    "final_t = h + 0.1 \n",
    "# nugget\n",
    "nugget = 1e-8"
   ]
  },
  {
   "attachments": {},
   "cell_type": "markdown",
   "metadata": {},
   "source": [
    "Build `Kphiphi`"
   ]
  },
  {
   "cell_type": "code",
   "execution_count": 6,
   "metadata": {},
   "outputs": [],
   "source": [
    "Kphiphi = Kphiphi_assembly(Xomega, Xboundary, h, k = kernel, k_param = k_param)"
   ]
  },
  {
   "attachments": {},
   "cell_type": "markdown",
   "metadata": {},
   "source": [
    "Build `y_prev`"
   ]
  },
  {
   "cell_type": "code",
   "execution_count": 7,
   "metadata": {},
   "outputs": [],
   "source": [
    "y_prev = jnp.concatenate((u0,np.zeros((len(Xboundary)),)))"
   ]
  },
  {
   "attachments": {},
   "cell_type": "markdown",
   "metadata": {},
   "source": [
    "Compute $K(\\varphi,\\varphi)^{-1}y_{\\text{prev}}$"
   ]
  },
  {
   "cell_type": "code",
   "execution_count": 9,
   "metadata": {},
   "outputs": [],
   "source": [
    "R = jnp.diag(jnp.diag(Kphiphi))\n",
    "#sol = jnp.linalg.solve(Kphiphi + nugget*R,y_prev)\n",
    "sol = jnp.linalg.solve(Kphiphi,y_prev)"
   ]
  },
  {
   "attachments": {},
   "cell_type": "markdown",
   "metadata": {},
   "source": [
    "Get `K(Xtest,Xfull)`"
   ]
  },
  {
   "cell_type": "code",
   "execution_count": 10,
   "metadata": {},
   "outputs": [],
   "source": [
    "Kphi = Kphi_assembly(Xfull, Xomega, Xboundary, h, k = kernel, k_param = k_param)"
   ]
  },
  {
   "cell_type": "code",
   "execution_count": 11,
   "metadata": {},
   "outputs": [],
   "source": [
    "u_next = np.dot(Kphi.T,sol)"
   ]
  },
  {
   "cell_type": "code",
   "execution_count": 12,
   "metadata": {},
   "outputs": [
    {
     "data": {
      "image/png": "[encoded data removed]",
      "text/plain": [
       "<Figure size 640x480 with 1 Axes>"
      ]
     },
     "metadata": {},
     "output_type": "display_data"
    }
   ],
   "source": [
    "# Initial condition\n",
    "plt.plot(Xfull,fp_1d_u0(Xfull),'.-',label='init')\n",
    "# True next\n",
    "plt.plot(Xfull,fp_1d_sol(final_t, Xfull),'.-',label='true_next')\n",
    "# Predicted next\n",
    "plt.plot(Xfull,u_next,'.-',label='pred_next')\n",
    "# Plot settings \n",
    "nmse = mean_squared_error(u_next,fp_1d_sol(final_t, Xfull))/mean_squared_error(0*fp_1d_sol(final_t, Xfull),fp_1d_sol(final_t, Xfull))\n",
    "plt.title('t = {} | Normalized MSE:{}'.format(h, round(nmse,7)))\n",
    "plt.legend()\n",
    "plt.show()"
   ]
  },
  {
   "attachments": {},
   "cell_type": "markdown",
   "metadata": {},
   "source": [
    "## Let's take small steps "
   ]
  },
  {
   "cell_type": "code",
   "execution_count": 13,
   "metadata": {},
   "outputs": [],
   "source": [
    "final_t = 1\n",
    "masses = []\n",
    "steps = int((final_t-0.1)//h)\n",
    "delta = Xfull[1]-Xfull[0]\n",
    "# Initialize at the initial condition\n",
    "uprev = u0\n",
    "for _ in range(steps):\n",
    "    y_prev = jnp.concatenate((uprev,np.zeros((len(Xboundary)),)))\n",
    "    #sol = jnp.linalg.solve(Kphiphi + nugget*R,y_prev)\n",
    "    sol = jnp.linalg.solve(Kphiphi, y_prev)\n",
    "    u_next = np.dot(Kphi.T,sol)\n",
    "    mass = trap(u_next,delta)\n",
    "    masses.append(mass)\n",
    "    # update\n",
    "    uprev = u_next[1:-1]"
   ]
  },
  {
   "cell_type": "code",
   "execution_count": 29,
   "metadata": {},
   "outputs": [
    {
     "data": {
      "image/png": "[encoded data removed]",
      "text/plain": [
       "<Figure size 640x480 with 1 Axes>"
      ]
     },
     "metadata": {},
     "output_type": "display_data"
    }
   ],
   "source": [
    "plt.figure()\n",
    "# Initial condition\n",
    "plt.plot(Xfull,fp_1d_u0(Xfull),'.-',label='init')\n",
    "# True next\n",
    "plt.plot(Xfull,fp_1d_sol(final_t, Xfull),'.-',label='true_next')\n",
    "# Predicted next\n",
    "plt.plot(Xfull,u_next,'.-',label='pred_next')\n",
    "# Plot settings\n",
    "nmse = mean_squared_error(u_next,fp_1d_sol(final_t, Xfull))/mean_squared_error(0*fp_1d_sol(final_t, Xfull),fp_1d_sol(final_t, Xfull))\n",
    "plt.title('final_t = {}, $\\Delta t = ${} | Normalized MSE:{}'.format(final_t, h, round(nmse,7)))\n",
    "plt.legend()\n",
    "plt.show()"
   ]
  },
  {
   "cell_type": "markdown",
   "metadata": {},
   "source": [
    "### Mass conservation"
   ]
  },
  {
   "cell_type": "code",
   "execution_count": 34,
   "metadata": {},
   "outputs": [
    {
     "data": {
      "text/plain": [
       "0.9994979003992877"
      ]
     },
     "execution_count": 34,
     "metadata": {},
     "output_type": "execute_result"
    }
   ],
   "source": [
    "masses[-1]"
   ]
  },
  {
   "cell_type": "code",
   "execution_count": 38,
   "metadata": {},
   "outputs": [
    {
     "name": "stderr",
     "output_type": "stream",
     "text": [
      "No artists with labels found to put in legend.  Note that artists whose label start with an underscore are ignored when legend() is called with no argument.\n"
     ]
    },
    {
     "data": {
      "image/png": "[encoded data removed]",
      "text/plain": [
       "<Figure size 640x480 with 1 Axes>"
      ]
     },
     "metadata": {},
     "output_type": "display_data"
    }
   ],
   "source": [
    "t_s = np.arange(0.1, 1., h)[1:]\n",
    "plt.figure()\n",
    "# masses per time\n",
    "plt.plot(t_s,masses,'.-',)\n",
    "plt.ylim([0,2])\n",
    "plt.title('final_t = {}, $\\Delta t = ${} '.format(final_t, h))\n",
    "plt.legend()\n",
    "plt.show()"
   ]
  },
  {
   "attachments": {},
   "cell_type": "markdown",
   "metadata": {},
   "source": [
    "## Convergence"
   ]
  },
  {
   "cell_type": "code",
   "execution_count": 12,
   "metadata": {},
   "outputs": [],
   "source": [
    "nugget = 0."
   ]
  },
  {
   "cell_type": "markdown",
   "metadata": {},
   "source": [
    "### Experiment 1"
   ]
  },
  {
   "cell_type": "markdown",
   "metadata": {},
   "source": [
    "- $h = $`1e-1`\n",
    "- `final_t`$ = 2$\n",
    "- Collocation points increasing from $2^2$ to $2^{10}$"
   ]
  },
  {
   "cell_type": "code",
   "execution_count": 39,
   "metadata": {},
   "outputs": [
    {
     "name": "stdout",
     "output_type": "stream",
     "text": [
      "0.4812827580479058\n",
      "0.550226989439276\n",
      "0.5506152465663238\n",
      "0.5384685923663963\n",
      "0.38953233359789957\n",
      "0.15241971794389583\n",
      "0.03995390366014418\n",
      "0.015421108324598252\n"
     ]
    }
   ],
   "source": [
    "# Experiment 1.1 - L2-norms\n",
    "L2_norms_1 = []\n",
    "xrange = 2**np.arange(2,10)\n",
    "for n in range(2,10):\n",
    "    # X_full\n",
    "    Xfull = np.linspace(-5,5,2**n+2)\n",
    "    # Delta\n",
    "    delta = Xfull[1]-Xfull[0]\n",
    "    # X_{\\partial\\Omega}\n",
    "    Xboundary = Xfull[[0,-1]]\n",
    "    # X_\\Omega\n",
    "    Xomega = Xfull[1:-1]\n",
    "    # u(X_\\Omega,0)\n",
    "    u0 = fp_1d_u0(Xomega)\n",
    "    # Kernel lenght-scale\n",
    "    k_param = 0.5\n",
    "    # Time step\n",
    "    h = 1e-1\n",
    "    # Final t\n",
    "    final_t = 1\n",
    "    # No. of steps\n",
    "    steps = int((final_t-0.1)//h)\n",
    "    # Compute Kphiphi\n",
    "    Kphiphi = Kphiphi_assembly(Xomega, Xboundary, h, k = kernel, k_param = k_param)\n",
    "    # Regularizer for Kphiphi\n",
    "    R = jnp.diag(jnp.diag(Kphiphi))\n",
    "    # Compute Kphi againts Xfull which will be the test set\n",
    "    Kphi = Kphi_assembly(Xfull, Xomega, Xboundary, h, k = kernel, k_param = k_param)\n",
    "    \n",
    "    uprev = u0\n",
    "    for _ in range(steps):\n",
    "        y_prev = jnp.concatenate((uprev,np.zeros((len(Xboundary)),)))\n",
    "        sol = jnp.linalg.solve(Kphiphi + nugget*R, y_prev)\n",
    "        u_next = np.dot(Kphi.T,sol)\n",
    "        # update\n",
    "        uprev = u_next[1:-1]\n",
    "    \n",
    "    # Numerical\n",
    "    u_next = np.dot(Kphi.T,sol)\n",
    "    # Analytical\n",
    "    u_true = fp_1d_sol(final_t, Xfull)   \n",
    "    # Differences\n",
    "    f = np.abs(u_next - u_true)**2\n",
    "    # Append L2 norm per iteration\n",
    "    L2_norms_1.append(trap(f,delta))\n",
    "    # Print L2 norm per iteration\n",
    "    print(trap(f,delta))"
   ]
  },
  {
   "cell_type": "markdown",
   "metadata": {},
   "source": [
    "- $h = $`1e-2`\n",
    "- `final_t`$ = 2$\n",
    "- Collocation points increasing from $2^2$ to $2^{10}$"
   ]
  },
  {
   "cell_type": "code",
   "execution_count": 40,
   "metadata": {},
   "outputs": [
    {
     "name": "stdout",
     "output_type": "stream",
     "text": [
      "0.4812347365299408\n",
      "0.5490788134667586\n",
      "0.4949259290433121\n",
      "0.24813279143451442\n",
      "0.07657916910791253\n",
      "0.020007021178328973\n",
      "0.004778589927746306\n",
      "0.001062496785557898\n"
     ]
    }
   ],
   "source": [
    "# Experiment 1.2 - L2-norms\n",
    "L2_norms_2 = []\n",
    "xrange = 2**np.arange(2,10)\n",
    "for n in range(2,10):\n",
    "    # X_full\n",
    "    Xfull = np.linspace(-5,5,2**n+2)\n",
    "    # Delta\n",
    "    delta = Xfull[1]-Xfull[0]\n",
    "    # X_{\\partial\\Omega}\n",
    "    Xboundary = Xfull[[0,-1]]\n",
    "    # X_\\Omega\n",
    "    Xomega = Xfull[1:-1]\n",
    "    # u(X_\\Omega,0)\n",
    "    u0 = fp_1d_u0(Xomega)\n",
    "    # Kernel lenght-scale\n",
    "    k_param = 0.5\n",
    "    # Time step\n",
    "    h = 1e-2\n",
    "    # Final t\n",
    "    final_t = 1\n",
    "    # No. of steps\n",
    "    steps = int((final_t-0.1)//h)\n",
    "    # Compute Kphiphi\n",
    "    Kphiphi = Kphiphi_assembly(Xomega, Xboundary, h, k = kernel, k_param = k_param)\n",
    "    # Regularizer for Kphiphi\n",
    "    R = jnp.diag(jnp.diag(Kphiphi))\n",
    "    # Compute Kphi againts Xfull which will be the test set\n",
    "    Kphi = Kphi_assembly(Xfull, Xomega, Xboundary, h, k = kernel, k_param = k_param)\n",
    "    \n",
    "    uprev = u0\n",
    "    for _ in range(steps):\n",
    "        y_prev = jnp.concatenate((uprev,np.zeros((len(Xboundary)),)))\n",
    "        sol = jnp.linalg.solve(Kphiphi + nugget*R, y_prev)\n",
    "        u_next = np.dot(Kphi.T,sol)\n",
    "        # update\n",
    "        uprev = u_next[1:-1]\n",
    "    \n",
    "    # Numerical\n",
    "    u_next = np.dot(Kphi.T,sol)\n",
    "    # Analytical\n",
    "    u_true = fp_1d_sol(final_t, Xfull)   \n",
    "    # Differences\n",
    "    f = np.abs(u_next - u_true)**2\n",
    "    # Append L2 norm per iteration\n",
    "    L2_norms_2.append(trap(f,delta))\n",
    "    # Print L2 norm per iteration\n",
    "    print(trap(f,delta))"
   ]
  },
  {
   "cell_type": "markdown",
   "metadata": {},
   "source": [
    "- $h = $`1e-3`\n",
    "- `final_t`$ = 0.2$\n",
    "- Collocation points increasing from $2^2$ to $2^{10}$"
   ]
  },
  {
   "cell_type": "code",
   "execution_count": 41,
   "metadata": {},
   "outputs": [
    {
     "name": "stdout",
     "output_type": "stream",
     "text": [
      "0.4807143598128704\n",
      "0.5384382605720357\n",
      "0.33228790091688953\n",
      "0.06678963278363469\n",
      "0.010913936886597222\n",
      "0.002210884008182636\n",
      "0.0004890539207827973\n",
      "0.00010587992716466601\n"
     ]
    }
   ],
   "source": [
    "# Experiment 1.3 - L2-norms\n",
    "L2_norms_3 = []\n",
    "xrange = 2**np.arange(2,10)\n",
    "for n in range(2,10):\n",
    "    # X_full\n",
    "    Xfull = np.linspace(-5,5,2**n+2)\n",
    "    # Delta\n",
    "    delta = Xfull[1]-Xfull[0]\n",
    "    # X_{\\partial\\Omega}\n",
    "    Xboundary = Xfull[[0,-1]]\n",
    "    # X_\\Omega\n",
    "    Xomega = Xfull[1:-1]\n",
    "    # u(X_\\Omega,0)\n",
    "    u0 = fp_1d_u0(Xomega)\n",
    "    # Kernel lenght-scale\n",
    "    k_param = 0.5\n",
    "    # Time step\n",
    "    h = 1e-3\n",
    "    # Final t\n",
    "    final_t = 1\n",
    "    # No. of steps\n",
    "    steps = int((final_t-0.1)//h)\n",
    "    # Compute Kphiphi\n",
    "    Kphiphi = Kphiphi_assembly(Xomega, Xboundary, h, k = kernel, k_param = k_param)\n",
    "    # Regularizer for Kphiphi\n",
    "    R = jnp.diag(jnp.diag(Kphiphi))\n",
    "    # Compute Kphi againts Xfull which will be the test set\n",
    "    Kphi = Kphi_assembly(Xfull, Xomega, Xboundary, h, k = kernel, k_param = k_param)\n",
    "    \n",
    "    uprev = u0\n",
    "    for _ in range(steps):\n",
    "        y_prev = jnp.concatenate((uprev,np.zeros((len(Xboundary)),)))\n",
    "        sol = jnp.linalg.solve(Kphiphi + nugget*R, y_prev)\n",
    "        u_next = np.dot(Kphi.T,sol)\n",
    "        # update\n",
    "        uprev = u_next[1:-1]\n",
    "    \n",
    "    # Numerical\n",
    "    u_next = np.dot(Kphi.T,sol)\n",
    "    # Analytical\n",
    "    u_true = fp_1d_sol(final_t, Xfull)   \n",
    "    # Differences\n",
    "    f = np.abs(u_next - u_true)**2\n",
    "    # Append L2 norm per iteration\n",
    "    L2_norms_3.append(trap(f,delta))\n",
    "    # Print L2 norm per iteration\n",
    "    print(trap(f,delta))"
   ]
  },
  {
   "cell_type": "markdown",
   "metadata": {},
   "source": [
    "- $h = $`1e-4`\n",
    "- `final_t`$ = 0.2$\n",
    "- Collocation points increasing from $2^2$ to $2^{10}$"
   ]
  },
  {
   "cell_type": "code",
   "execution_count": 42,
   "metadata": {},
   "outputs": [
    {
     "name": "stdout",
     "output_type": "stream",
     "text": [
      "0.4805322231777796\n",
      "0.5350288733269657\n",
      "0.2995862642165694\n",
      "0.04349528801615636\n",
      "0.0038901775581346417\n",
      "0.00040527441641337287\n",
      "5.860817994078828e-05\n",
      "1.3408622240706744e-05\n"
     ]
    }
   ],
   "source": [
    "# Experiment 1.4 - L2-norms\n",
    "L2_norms_4 = []\n",
    "xrange = 2**np.arange(2,10)\n",
    "for n in range(2,10):\n",
    "    # X_full\n",
    "    Xfull = np.linspace(-5,5,2**n+2)\n",
    "    # Delta\n",
    "    delta = Xfull[1]-Xfull[0]\n",
    "    # X_{\\partial\\Omega}\n",
    "    Xboundary = Xfull[[0,-1]]\n",
    "    # X_\\Omega\n",
    "    Xomega = Xfull[1:-1]\n",
    "    # u(X_\\Omega,0)\n",
    "    u0 = fp_1d_u0(Xomega)\n",
    "    # Kernel lenght-scale\n",
    "    k_param = 0.5\n",
    "    # Time step\n",
    "    h = 1e-4\n",
    "    # Final t\n",
    "    final_t = 1\n",
    "    # No. of steps\n",
    "    steps = int((final_t-0.1)//h)\n",
    "    # Compute Kphiphi\n",
    "    Kphiphi = Kphiphi_assembly(Xomega, Xboundary, h, k = kernel, k_param = k_param)\n",
    "    # Regularizer for Kphiphi\n",
    "    R = jnp.diag(jnp.diag(Kphiphi))\n",
    "    # Compute Kphi againts Xfull which will be the test set\n",
    "    Kphi = Kphi_assembly(Xfull, Xomega, Xboundary, h, k = kernel, k_param = k_param)\n",
    "    \n",
    "    uprev = u0\n",
    "    for _ in range(steps):\n",
    "        y_prev = jnp.concatenate((uprev,np.zeros((len(Xboundary)),)))\n",
    "        sol = jnp.linalg.solve(Kphiphi + nugget*R, y_prev)\n",
    "        u_next = np.dot(Kphi.T,sol)\n",
    "        # update\n",
    "        uprev = u_next[1:-1]\n",
    "    \n",
    "    # Numerical\n",
    "    u_next = np.dot(Kphi.T,sol)\n",
    "    # Analytical\n",
    "    u_true = fp_1d_sol(final_t, Xfull)   \n",
    "    # Differences\n",
    "    f = np.abs(u_next - u_true)**2\n",
    "    # Append L2 norm per iteration\n",
    "    L2_norms_4.append(trap(f,delta))\n",
    "    # Print L2 norm per iteration\n",
    "    print(trap(f,delta))"
   ]
  },
  {
   "cell_type": "markdown",
   "metadata": {},
   "source": [
    "- $h = $`1e-5`\n",
    "- `final_t`$ = 0.2$\n",
    "- Collocation points increasing from $2^2$ to $2^{10}$"
   ]
  },
  {
   "cell_type": "code",
   "execution_count": 43,
   "metadata": {},
   "outputs": [
    {
     "name": "stdout",
     "output_type": "stream",
     "text": [
      "0.480511882867813\n",
      "0.5346516447972097\n",
      "0.29618054770680907\n",
      "0.04122257918581815\n",
      "0.003247301634443712\n",
      "0.0002590476418766827\n",
      "3.431095283023e-05\n",
      "9.72479109861741e-06\n"
     ]
    }
   ],
   "source": [
    "# Experiment 1.5 - L2-norms\n",
    "L2_norms_5 = []\n",
    "xrange = 2**np.arange(2,10)\n",
    "for n in range(2,10):\n",
    "    # X_full\n",
    "    Xfull = np.linspace(-5,5,2**n+2)\n",
    "    # Delta\n",
    "    delta = Xfull[1]-Xfull[0]\n",
    "    # X_{\\partial\\Omega}\n",
    "    Xboundary = Xfull[[0,-1]]\n",
    "    # X_\\Omega\n",
    "    Xomega = Xfull[1:-1]\n",
    "    # u(X_\\Omega,0)\n",
    "    u0 = fp_1d_u0(Xomega)\n",
    "    # Kernel lenght-scale\n",
    "    k_param = 0.5\n",
    "    # Time step\n",
    "    h = 1e-5\n",
    "    # Final t\n",
    "    final_t = 1\n",
    "    # No. of steps\n",
    "    steps = int((final_t-0.1)//h)\n",
    "    # Compute Kphiphi\n",
    "    Kphiphi = Kphiphi_assembly(Xomega, Xboundary, h, k = kernel, k_param = k_param)\n",
    "    # Regularizer for Kphiphi\n",
    "    R = jnp.diag(jnp.diag(Kphiphi))\n",
    "    # Compute Kphi againts Xfull which will be the test set\n",
    "    Kphi = Kphi_assembly(Xfull, Xomega, Xboundary, h, k = kernel, k_param = k_param)\n",
    "    \n",
    "    uprev = u0\n",
    "    for _ in range(steps):\n",
    "        y_prev = jnp.concatenate((uprev,np.zeros((len(Xboundary)),)))\n",
    "        sol = jnp.linalg.solve(Kphiphi + nugget*R, y_prev)\n",
    "        u_next = np.dot(Kphi.T,sol)\n",
    "        # update\n",
    "        uprev = u_next[1:-1]\n",
    "    \n",
    "    # Numerical\n",
    "    u_next = np.dot(Kphi.T,sol)\n",
    "    # Analytical\n",
    "    u_true = fp_1d_sol(final_t, Xfull)   \n",
    "    # Differences\n",
    "    f = np.abs(u_next - u_true)**2\n",
    "    # Append L2 norm per iteration\n",
    "    L2_norms_5.append(trap(f,delta))\n",
    "    # Print L2 norm per iteration\n",
    "    print(trap(f,delta))"
   ]
  },
  {
   "cell_type": "code",
   "execution_count": 44,
   "metadata": {},
   "outputs": [
    {
     "data": {
      "image/png": "[encoded data removed]",
      "text/plain": [
       "<Figure size 640x480 with 1 Axes>"
      ]
     },
     "metadata": {},
     "output_type": "display_data"
    }
   ],
   "source": [
    "# One plot\n",
    "plt.loglog(xrange,L2_norms_1,label = 'h = 1e-1', marker = 'o')\n",
    "plt.loglog(xrange,L2_norms_2,label = 'h = 1e-2', marker = 'o')\n",
    "plt.loglog(xrange,L2_norms_3,label = 'h = 1e-3', marker = 'o')\n",
    "plt.loglog(xrange,L2_norms_4,label = 'h = 1e-4', marker = 'o')\n",
    "plt.loglog(xrange,L2_norms_5,label = 'h = 1e-5', marker = 'o')\n",
    "plt.xlabel('N')\n",
    "plt.ylabel('L2-Error')\n",
    "plt.legend()\n",
    "plt.title('Convergence of the method (loglog)')\n",
    "plt.show()"
   ]
  },
  {
   "cell_type": "markdown",
   "metadata": {},
   "source": [
    "- Try `final_t` = 1 and see what happens for the bigger domain $(-5,5)$ !\n",
    "- We could check the mass(keeps constant) of the solution since there is no inflow ! \n",
    "- Try Matern 2. \n",
    "- Is the solution positive ? This implies the mass conservation ! See, the criteria that Jingwei will send to check what conditions the matrix $K(\\phi,\\phi)$ and see if that happens at least numerically for now. We must have a proof eventually of this. \n",
    "- Then go to more dimensions.\n",
    "\n",
    "Note: Accuracy in space is good. In time, BE is doing ok for our purposes. If we were to use higher order schemes such as RK4 (implicit) we could loose positivity of the solution (which must be since it is a density). Can we prove that the kernel method ensures positivity of the solution ? Probably studying the kernel matrix $K(\\phi,\\phi)$ ?"
   ]
  },
  {
   "cell_type": "markdown",
   "metadata": {},
   "source": [
    "### Experiment 2"
   ]
  },
  {
   "cell_type": "markdown",
   "metadata": {},
   "source": [
    "- $h$ decreasing from `1e-2` to `1e-5`\n",
    "- `final_t`$ = 0.5$\n",
    "- Collocation points = $2^5$"
   ]
  },
  {
   "cell_type": "code",
   "execution_count": 9,
   "metadata": {},
   "outputs": [
    {
     "name": "stdout",
     "output_type": "stream",
     "text": [
      "0.14364343525239745\n",
      "0.03492991861127967\n",
      "0.022601513406836332\n",
      "0.021407610829333772\n"
     ]
    }
   ],
   "source": [
    "# Experiment 2.1 - L2-norms\n",
    "L2_norms_1 = []\n",
    "xrange = 10.0**(-np.arange(2,6))\n",
    "for n in range(2,6):\n",
    "    # X_full\n",
    "    Xfull = np.linspace(-5,5,2**5+2)\n",
    "    # Delta\n",
    "    delta = Xfull[1]-Xfull[0]\n",
    "    # X_{\\partial\\Omega}\n",
    "    Xboundary = Xfull[[0,-1]]\n",
    "    # X_\\Omega\n",
    "    Xomega = Xfull[1:-1]\n",
    "    # u(X_\\Omega,0)\n",
    "    u0 = fp_1d_u0(Xomega)\n",
    "    # Kernel lenght-scale\n",
    "    k_param = 0.5\n",
    "    # Time step\n",
    "    h = 10**(-n)\n",
    "    # Final t\n",
    "    final_t = 0.5\n",
    "    # No. of steps\n",
    "    steps = int((final_t-0.1)//h)\n",
    "    # Compute Kphiphi\n",
    "    Kphiphi = Kphiphi_assembly(Xomega, Xboundary, h, k = kernel, k_param = k_param)\n",
    "    # Regularizer for Kphiphi\n",
    "    R = jnp.diag(jnp.diag(Kphiphi))\n",
    "    # Compute Kphi againts Xfull which will be the test set\n",
    "    Kphi = Kphi_assembly(Xfull, Xomega, Xboundary, h, k = kernel, k_param = k_param)\n",
    "    \n",
    "    uprev = u0\n",
    "    for _ in range(steps):\n",
    "        y_prev = jnp.concatenate((uprev,np.zeros((len(Xboundary)),)))\n",
    "        sol = jnp.linalg.solve(Kphiphi + nugget*R, y_prev)\n",
    "        u_next = np.dot(Kphi.T,sol)\n",
    "        # update\n",
    "        uprev = u_next[1:-1]\n",
    "    \n",
    "    # Numerical\n",
    "    u_next = np.dot(Kphi.T,sol)\n",
    "    # Analytical\n",
    "    u_true = fp_1d_sol(final_t, Xfull)   \n",
    "    # Differences\n",
    "    f = np.abs(u_next - u_true)**2\n",
    "    # Append L2 norm per iteration\n",
    "    L2_norms_1.append(trap(f,delta))\n",
    "    # Print L2 norm per iteration\n",
    "    print(trap(f,delta))"
   ]
  },
  {
   "cell_type": "markdown",
   "metadata": {},
   "source": [
    "- $h$ decreasing from `1e-2` to `1e-5`\n",
    "- `final_t`$= 0.5$\n",
    "- Collocation points = $2^6$"
   ]
  },
  {
   "cell_type": "code",
   "execution_count": 10,
   "metadata": {},
   "outputs": [
    {
     "name": "stdout",
     "output_type": "stream",
     "text": [
      "0.03909674135630927\n",
      "0.005449010476389655\n",
      "0.0019654821825232163\n",
      "0.0016440435079706826\n"
     ]
    }
   ],
   "source": [
    "# Experiment 2.2 - L2-norms\n",
    "L2_norms_2 = []\n",
    "xrange = 10.0**(-np.arange(2,6))\n",
    "for n in range(2,6):\n",
    "    # X_full\n",
    "    Xfull = np.linspace(-5,5,2**6+2)\n",
    "    # Delta\n",
    "    delta = Xfull[1]-Xfull[0]\n",
    "    # X_{\\partial\\Omega}\n",
    "    Xboundary = Xfull[[0,-1]]\n",
    "    # X_\\Omega\n",
    "    Xomega = Xfull[1:-1]\n",
    "    # u(X_\\Omega,0)\n",
    "    u0 = fp_1d_u0(Xomega)\n",
    "    # Kernel lenght-scale\n",
    "    k_param = 0.5\n",
    "    # Time step\n",
    "    h = 10**(-n)\n",
    "    # Final t\n",
    "    final_t = 0.5\n",
    "    # No. of steps\n",
    "    steps = int((final_t-0.1)//h)\n",
    "    # Compute Kphiphi\n",
    "    Kphiphi = Kphiphi_assembly(Xomega, Xboundary, h, k = kernel, k_param = k_param)\n",
    "    # Regularizer for Kphiphi\n",
    "    R = jnp.diag(jnp.diag(Kphiphi))\n",
    "    # Compute Kphi againts Xfull which will be the test set\n",
    "    Kphi = Kphi_assembly(Xfull, Xomega, Xboundary, h, k = kernel, k_param = k_param)\n",
    "    \n",
    "    uprev = u0\n",
    "    for _ in range(steps):\n",
    "        y_prev = jnp.concatenate((uprev,np.zeros((len(Xboundary)),)))\n",
    "        sol = jnp.linalg.solve(Kphiphi + nugget*R, y_prev)\n",
    "        u_next = np.dot(Kphi.T,sol)\n",
    "        # update\n",
    "        uprev = u_next[1:-1]\n",
    "    \n",
    "    # Numerical\n",
    "    u_next = np.dot(Kphi.T,sol)\n",
    "    # Analytical\n",
    "    u_true = fp_1d_sol(final_t, Xfull)   \n",
    "    # Differences\n",
    "    f = np.abs(u_next - u_true)**2\n",
    "    # Append L2 norm per iteration\n",
    "    L2_norms_2.append(trap(f,delta))\n",
    "    # Print L2 norm per iteration\n",
    "    print(trap(f,delta))"
   ]
  },
  {
   "cell_type": "markdown",
   "metadata": {},
   "source": [
    "- $h$ decreasing from `1e-2` to `1e-5`\n",
    "- `final_t`$= 0.5$\n",
    "- Collocation points = $2^7$"
   ]
  },
  {
   "cell_type": "code",
   "execution_count": 11,
   "metadata": {},
   "outputs": [
    {
     "name": "stdout",
     "output_type": "stream",
     "text": [
      "0.009361074521926818\n",
      "0.0010343114451166094\n",
      "0.0001980925893186999\n",
      "0.0001282447991679871\n"
     ]
    }
   ],
   "source": [
    "# Experiment 2.3 - L2-norms\n",
    "L2_norms_3 = []\n",
    "xrange = 10.0**(-np.arange(2,6))\n",
    "for n in range(2,6):\n",
    "    # X_full\n",
    "    Xfull = np.linspace(-5,5,2**7+2)\n",
    "    # Delta\n",
    "    delta = Xfull[1]-Xfull[0]\n",
    "    # X_{\\partial\\Omega}\n",
    "    Xboundary = Xfull[[0,-1]]\n",
    "    # X_\\Omega\n",
    "    Xomega = Xfull[1:-1]\n",
    "    # u(X_\\Omega,0)\n",
    "    u0 = fp_1d_u0(Xomega)\n",
    "    # Kernel lenght-scale\n",
    "    k_param = 0.5\n",
    "    # Time step\n",
    "    h = 10**(-n)\n",
    "    # Final t\n",
    "    final_t = 0.5\n",
    "    # No. of steps\n",
    "    steps = int((final_t-0.1)//h)\n",
    "    # Compute Kphiphi\n",
    "    Kphiphi = Kphiphi_assembly(Xomega, Xboundary, h, k = kernel, k_param = k_param)\n",
    "    # Regularizer for Kphiphi\n",
    "    R = jnp.diag(jnp.diag(Kphiphi))\n",
    "    # Compute Kphi againts Xfull which will be the test set\n",
    "    Kphi = Kphi_assembly(Xfull, Xomega, Xboundary, h, k = kernel, k_param = k_param)\n",
    "    \n",
    "    uprev = u0\n",
    "    for _ in range(steps):\n",
    "        y_prev = jnp.concatenate((uprev,np.zeros((len(Xboundary)),)))\n",
    "        sol = jnp.linalg.solve(Kphiphi + nugget*R, y_prev)\n",
    "        u_next = np.dot(Kphi.T,sol)\n",
    "        # update\n",
    "        uprev = u_next[1:-1]\n",
    "    \n",
    "    # Numerical\n",
    "    u_next = np.dot(Kphi.T,sol)\n",
    "    # Analytical\n",
    "    u_true = fp_1d_sol(final_t, Xfull)   \n",
    "    # Differences\n",
    "    f = np.abs(u_next - u_true)**2\n",
    "    # Append L2 norm per iteration\n",
    "    L2_norms_3.append(trap(f,delta))\n",
    "    # Print L2 norm per iteration\n",
    "    print(trap(f,delta))"
   ]
  },
  {
   "cell_type": "markdown",
   "metadata": {},
   "source": [
    "- $h$ decreasing from `1e-2` to `1e-5`\n",
    "- `final_t`$= 0.5$\n",
    "- Collocation points = $2^8$"
   ]
  },
  {
   "cell_type": "code",
   "execution_count": 12,
   "metadata": {},
   "outputs": [
    {
     "name": "stdout",
     "output_type": "stream",
     "text": [
      "0.0022831445508683904\n",
      "0.00022959611157719558\n",
      "2.779462072533416e-05\n",
      "1.507635241259555e-05\n"
     ]
    }
   ],
   "source": [
    "# Experiment 2.4 - L2-norms\n",
    "L2_norms_4 = []\n",
    "xrange = 10.0**(-np.arange(2,6))\n",
    "for n in range(2,6):\n",
    "    # X_full\n",
    "    Xfull = np.linspace(-5,5,2**8+2)\n",
    "    # Delta\n",
    "    delta = Xfull[1]-Xfull[0]\n",
    "    # X_{\\partial\\Omega}\n",
    "    Xboundary = Xfull[[0,-1]]\n",
    "    # X_\\Omega\n",
    "    Xomega = Xfull[1:-1]\n",
    "    # u(X_\\Omega,0)\n",
    "    u0 = fp_1d_u0(Xomega)\n",
    "    # Kernel lenght-scale\n",
    "    k_param = 0.5\n",
    "    # Time step\n",
    "    h = 10**(-n)\n",
    "    # Final t\n",
    "    final_t = 0.5\n",
    "    # No. of steps\n",
    "    steps = int((final_t-0.1)//h)\n",
    "    # Compute Kphiphi\n",
    "    Kphiphi = Kphiphi_assembly(Xomega, Xboundary, h, k = kernel, k_param = k_param)\n",
    "    # Regularizer for Kphiphi\n",
    "    R = jnp.diag(jnp.diag(Kphiphi))\n",
    "    # Compute Kphi againts Xfull which will be the test set\n",
    "    Kphi = Kphi_assembly(Xfull, Xomega, Xboundary, h, k = kernel, k_param = k_param)\n",
    "    \n",
    "    uprev = u0\n",
    "    for _ in range(steps):\n",
    "        y_prev = jnp.concatenate((uprev,np.zeros((len(Xboundary)),)))\n",
    "        sol = jnp.linalg.solve(Kphiphi + nugget*R, y_prev)\n",
    "        u_next = np.dot(Kphi.T,sol)\n",
    "        # update\n",
    "        uprev = u_next[1:-1]\n",
    "    \n",
    "    # Numerical\n",
    "    u_next = np.dot(Kphi.T,sol)\n",
    "    # Analytical\n",
    "    u_true = fp_1d_sol(final_t, Xfull)   \n",
    "    # Differences\n",
    "    f = np.abs(u_next - u_true)**2\n",
    "    # Append L2 norm per iteration\n",
    "    L2_norms_4.append(trap(f,delta))\n",
    "    # Print L2 norm per iteration\n",
    "    print(trap(f,delta))"
   ]
  },
  {
   "cell_type": "markdown",
   "metadata": {},
   "source": [
    "- $h$ decreasing from `1e-2` to `1e-5`\n",
    "- `final_t`$= 0.5$\n",
    "- Collocation points = $2^9$"
   ]
  },
  {
   "cell_type": "code",
   "execution_count": 16,
   "metadata": {},
   "outputs": [
    {
     "name": "stdout",
     "output_type": "stream",
     "text": [
      "0.0018605448894862095\n",
      "0.00018529584018269076\n",
      "1.8294999715807117e-05\n",
      "4.465549739533212e-06\n"
     ]
    }
   ],
   "source": [
    "# Experiment 2.5 - L2-norms\n",
    "L2_norms_5 = []\n",
    "xrange = 10.0**(-np.arange(2,6))\n",
    "for n in range(2,6):\n",
    "    # X_full\n",
    "    Xfull = np.linspace(-5,5,2**9+2)\n",
    "    # Delta\n",
    "    delta = Xfull[1]-Xfull[0]\n",
    "    # X_{\\partial\\Omega}\n",
    "    Xboundary = Xfull[[0,-1]]\n",
    "    # X_\\Omega\n",
    "    Xomega = Xfull[1:-1]\n",
    "    # u(X_\\Omega,0)\n",
    "    u0 = fp_1d_u0(Xomega)\n",
    "    # Kernel lenght-scale\n",
    "    k_param = 0.5\n",
    "    # Time step\n",
    "    h = 10**(-n)\n",
    "    # Final t\n",
    "    final_t = 0.5\n",
    "    # No. of steps\n",
    "    steps = int((final_t-0.1)//h)\n",
    "    # Compute Kphiphi\n",
    "    Kphiphi = Kphiphi_assembly(Xomega, Xboundary, h, k = kernel, k_param = k_param)\n",
    "    # Regularizer for Kphiphi\n",
    "    R = jnp.diag(jnp.diag(Kphiphi))\n",
    "    # Compute Kphi againts Xfull which will be the test set\n",
    "    Kphi = Kphi_assembly(Xfull, Xomega, Xboundary, h, k = kernel, k_param = k_param)\n",
    "    \n",
    "    uprev = u0\n",
    "    for _ in range(steps):\n",
    "        y_prev = jnp.concatenate((uprev,np.zeros((len(Xboundary)),)))\n",
    "        sol = jnp.linalg.solve(Kphiphi + nugget*R, y_prev)\n",
    "        u_next = np.dot(Kphi.T,sol)\n",
    "        # update\n",
    "        uprev = u_next[1:-1]\n",
    "    \n",
    "    # Numerical\n",
    "    u_next = np.dot(Kphi.T,sol)\n",
    "    # Analytical\n",
    "    u_true = fp_1d_sol(final_t, Xfull)   \n",
    "    # Differences\n",
    "    f = np.abs(u_next - u_true)**2\n",
    "    # Append L2 norm per iteration\n",
    "    L2_norms_5.append(trap(f,delta))\n",
    "    # Print L2 norm per iteration\n",
    "    print(trap(f,delta))"
   ]
  },
  {
   "cell_type": "code",
   "execution_count": 17,
   "metadata": {},
   "outputs": [
    {
     "data": {
      "image/png": "[encoded data removed]",
      "text/plain": [
       "<Figure size 640x480 with 1 Axes>"
      ]
     },
     "metadata": {},
     "output_type": "display_data"
    }
   ],
   "source": [
    "# One plot\n",
    "plt.loglog(xrange,L2_norms_1,label = 'N = 2^5', marker = 'o')\n",
    "plt.loglog(xrange,L2_norms_2,label = 'N = 2^6', marker = 'o')\n",
    "plt.loglog(xrange,L2_norms_3,label = 'N = 2^7', marker = 'o')\n",
    "plt.loglog(xrange,L2_norms_4,label = 'N = 2^8', marker = 'o')\n",
    "plt.loglog(xrange,L2_norms_5,label = 'N = 2^9', marker = 'o')\n",
    "plt.xlabel('h')\n",
    "plt.ylabel('L2-Error')\n",
    "plt.legend()\n",
    "plt.title('Convergence of the method (loglog)')\n",
    "plt.show()"
   ]
  }
 ],
 "metadata": {
  "kernelspec": {
   "display_name": "base",
   "language": "python",
   "name": "python3"
  },
  "language_info": {
   "codemirror_mode": {
    "name": "ipython",
    "version": 3
   },
   "file_extension": ".py",
   "mimetype": "text/x-python",
   "name": "python",
   "nbconvert_exporter": "python",
   "pygments_lexer": "ipython3",
   "version": "3.11.3"
  },
  "orig_nbformat": 4
 },
 "nbformat": 4,
 "nbformat_minor": 2
}
