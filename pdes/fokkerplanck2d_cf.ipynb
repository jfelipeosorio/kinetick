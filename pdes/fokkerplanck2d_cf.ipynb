{
 "cells": [
  {
   "attachments": {},
   "cell_type": "markdown",
   "metadata": {},
   "source": [
    "# Fokker-Planck 2D\n",
    "***\n",
    "Created by: Juan Felipe Osorio Ramirez\n",
    "\n",
    "Department of Applied Mathematics, UW\n",
    "***"
   ]
  },
  {
   "attachments": {},
   "cell_type": "markdown",
   "metadata": {},
   "source": [
    "> $\\partial_t \\rho=\\nabla \\cdot\\left(\\mathcal{M} \\nabla \\frac{\\rho}{\\mathcal{M}}\\right)$, for  $t > 0$, $(x,y) \\in \\Omega=(-3,3) \\times(-3,3)$.\n",
    "\n",
    "> $u(0, x)=u^0(x), \\quad x \\in \\Omega=(-3,3) \\times(-3,3)$\n",
    "\n",
    "> $\\left.\\nabla \\frac{\\rho}{\\mathcal{M}} \\cdot \\mathbf{n}\\right|_{\\partial \\Omega}=0, \\quad t \\geq 0 .$\n",
    "\n",
    "\n",
    "where $\\mathcal{M}:=e^{-\\frac{x^2+y^2}{2}}$"
   ]
  },
  {
   "attachments": {},
   "cell_type": "markdown",
   "metadata": {},
   "source": [
    "## Libraries"
   ]
  },
  {
   "cell_type": "code",
   "execution_count": 56,
   "metadata": {},
   "outputs": [],
   "source": [
    "# Import packages\n",
    "import sys\n",
    "sys.path.append('/home/juanfelipe/Desktop/research/kinetick/source')\n",
    "import jax.numpy as np\n",
    "from jax import grad, jit\n",
    "from jax.scipy.optimize import minimize\n",
    "\n",
    "import numpy as np\n",
    "import matplotlib.pyplot as plt \n",
    "#from sklearn.preprocessing import MinMaxScaler\n",
    "from sklearn.kernel_ridge import KernelRidge\n",
    "from parameter_learning import *\n",
    "from plotlib import *\n",
    "from models import * \n",
    "from interpolation import *\n",
    "from kernels import *\n",
    "from integrate import trap\n",
    "from sklearn.metrics import mean_squared_error\n",
    "from jax import clear_caches\n",
    "import jax.numpy as jnp\n",
    "from jax import grad, jit\n",
    "from jax.config import config; \n",
    "from numpy.linalg import norm\n",
    "config.update(\"jax_enable_x64\", True)\n",
    "\n",
    "from functools import partial # for jit to make codes faster\n",
    "clear_caches()"
   ]
  },
  {
   "attachments": {},
   "cell_type": "markdown",
   "metadata": {},
   "source": [
    "## Utils"
   ]
  },
  {
   "cell_type": "code",
   "execution_count": 57,
   "metadata": {},
   "outputs": [],
   "source": [
    "def Kphiphi_assembly(Xomega, Xboundary , h, k = 'Gaussian', k_param = 1.):\n",
    "\n",
    "  # Set kernel to use\n",
    "  if k == 'Gaussian':\n",
    "    kernel = Gaussian2D\n",
    "  if k == 'Matern52':\n",
    "    kernel = Matern_Kernel_52_2D\n",
    "\n",
    "  # Size of the square matrix\n",
    "  Momega = len(Xomega)\n",
    "  Mboundary = len(Xboundary)\n",
    "  Mbdry4 = int(Xboundary.shape[0]/4)\n",
    "  M = Momega + Mboundary\n",
    "\n",
    "  # Boundaries\n",
    "  Xboundarybottom = Xboundary[:Mbdry4,:]\n",
    "  Xboundaryright = Xboundary[Mbdry4:2*Mbdry4,:]\n",
    "  Xboundarytop = Xboundary[2*Mbdry4:3*Mbdry4,:]\n",
    "  Xboundaryleft = Xboundary[3*Mbdry4:4*Mbdry4,:]\n",
    "\n",
    "  # Initialize K(phi,phi)\n",
    "  Theta = jnp.zeros((M,M))\n",
    "\n",
    "  # Block 1,1 \n",
    "  val1 = K_2D(kernel, Xomega, Xomega, k_param) # K(X,X)\n",
    "  val2 = partial_MtimesPartialx_2D(Xomega, Xomega, kernel, k_param)\n",
    "  val3 = partial_MtimesPartialy_2D(Xomega, Xomega, kernel, k_param)\n",
    "  val4 = big_term2D(Xomega, Xomega, kernel, k_param)\n",
    "  val = val1 - h*val2 - h*val3 + (h**2)*val4  \n",
    "  Theta = Theta.at[:Momega, :Momega].set(val)\n",
    "\n",
    "  # Block 1,2\n",
    "  val1 = first_term_12(Xomega, Xboundarybottom, kernel, k_param)\n",
    "  val2 = second_term12(Xomega, Xboundarybottom, kernel, k_param)\n",
    "  val = val1 - h*val2\n",
    "  Theta = Theta.at[:Momega, Momega:Momega + Mbdry4].set(val)\n",
    "  Theta = Theta.at[Momega:Momega + Mbdry4, :Momega].set(jnp.transpose(val)) # Block 2,1\n",
    "\n",
    "  # Block 1,3\n",
    "  val1 = first_term_13(Xomega, Xboundaryright, kernel, k_param)\n",
    "  val2 = second_term13(Xomega, Xboundaryright, kernel, k_param)\n",
    "  val = val1 - h*val2\n",
    "  Theta = Theta.at[:Momega, Momega + Mbdry4:Momega + 2*Mbdry4].set(val)\n",
    "  Theta = Theta.at[Momega + Mbdry4:Momega + 2*Mbdry4, :Momega].set(jnp.transpose(val)) # Block 3,1\n",
    "\n",
    "  # Block 1,4\n",
    "  val1 = first_term_14(Xomega, Xboundarytop, kernel, k_param)\n",
    "  val2 = second_term14(Xomega, Xboundarytop, kernel, k_param)\n",
    "  val = val1 - h*val2\n",
    "  Theta = Theta.at[:Momega, Momega + 2*Mbdry4:Momega + 3*Mbdry4].set(val)\n",
    "  Theta = Theta.at[Momega + 2*Mbdry4:Momega + 3*Mbdry4, :Momega].set(jnp.transpose(val)) # Block 4,1\n",
    "\n",
    "  # Block 1,5\n",
    "  val1 = first_term_15(Xomega, Xboundaryleft, kernel, k_param)\n",
    "  val2 = second_term15(Xomega, Xboundaryleft, kernel, k_param)\n",
    "  val = val1 - h*val2\n",
    "  Theta = Theta.at[:Momega, Momega + 3*Mbdry4:Momega + 4*Mbdry4].set(val)\n",
    "  Theta = Theta.at[Momega + 3*Mbdry4:Momega + 4*Mbdry4, :Momega].set(jnp.transpose(val)) # Block 5,1\n",
    "\n",
    "  # Block 2,2\n",
    "  val = partialy_nbottom_partialx_nbottom_overMy2D(Xboundarybottom,Xboundarybottom, kernel, k_param)\n",
    "  Theta = Theta.at[Momega:Momega + Mbdry4, Momega:Momega + Mbdry4].set(val)\n",
    "\n",
    "  # Block 2,3\n",
    "  val = partialy_nright_partialx_nbottom_overMy2D(Xboundarybottom,Xboundaryright, kernel, k_param)\n",
    "  Theta = Theta.at[Momega:Momega + Mbdry4, Momega + Mbdry4:Momega + 2*Mbdry4].set(val)\n",
    "  Theta = Theta.at[Momega + Mbdry4:Momega + 2*Mbdry4, Momega:Momega + Mbdry4].set(val) # Block 3,2\n",
    "\n",
    "  # Block 2,4\n",
    "  val = partialy_ntop_partialx_nbottom_overMy2D(Xboundarybottom,Xboundarytop, kernel, k_param)\n",
    "  Theta = Theta.at[Momega:Momega + Mbdry4, Momega + 2*Mbdry4:Momega + 3*Mbdry4].set(val)\n",
    "  Theta = Theta.at[Momega + 2*Mbdry4:Momega + 3*Mbdry4, Momega:Momega + Mbdry4].set(val) # Block 4,2\n",
    "\n",
    "  # Block 2,5\n",
    "  val = partialy_nleft_partialx_nbottom_overMy2D(Xboundarybottom,Xboundaryleft, kernel, k_param)\n",
    "  Theta = Theta.at[Momega:Momega + Mbdry4, Momega + 3*Mbdry4:Momega + 4*Mbdry4].set(val)\n",
    "  Theta = Theta.at[Momega + 3*Mbdry4:Momega + 4*Mbdry4, Momega:Momega + Mbdry4].set(val) # Block  5,2\n",
    "\n",
    "  # Block 3,3\n",
    "  val = partialy_nright_partialx_nright_overMy2D(Xboundaryright,Xboundaryright, kernel, k_param)\n",
    "  Theta = Theta.at[Momega + Mbdry4:Momega + 2*Mbdry4, Momega + Mbdry4:Momega + 2*Mbdry4].set(val)\n",
    "\n",
    "  # Block 3,4\n",
    "  val = partialy_ntop_partialx_nright_overMy2D(Xboundaryright,Xboundarytop, kernel, k_param)\n",
    "  Theta = Theta.at[Momega + Mbdry4:Momega + 2*Mbdry4, Momega + 2*Mbdry4:Momega + 3*Mbdry4].set(val)\n",
    "  Theta = Theta.at[Momega + 2*Mbdry4:Momega + 3*Mbdry4, Momega + Mbdry4:Momega + 2*Mbdry4].set(val) # Block 4,3\n",
    "\n",
    "  # Block 3,5\n",
    "  val = partialy_nleft_partialx_nright_overMy2D(Xboundaryright,Xboundaryleft, kernel, k_param)\n",
    "  Theta = Theta.at[Momega + Mbdry4:Momega + 2*Mbdry4, Momega + 3*Mbdry4:Momega + 4*Mbdry4].set(val)\n",
    "  Theta = Theta.at[Momega + 3*Mbdry4:Momega + 4*Mbdry4, Momega + Mbdry4:Momega + 2*Mbdry4].set(val) # Block 5,3\n",
    "\n",
    "  # Block 4,4\n",
    "  val = partialy_ntop_partialx_ntop_overMy2D(Xboundarytop,Xboundarytop, kernel, k_param)\n",
    "  Theta = Theta.at[Momega + 2*Mbdry4:Momega + 3*Mbdry4, Momega + 2*Mbdry4:Momega + 3*Mbdry4].set(val)\n",
    "\n",
    "  # Block 4,5\n",
    "  val = partialy_nleft_partialx_ntop_overMy2D(Xboundarytop,Xboundaryleft, kernel, k_param)\n",
    "  Theta = Theta.at[Momega + 2*Mbdry4:Momega + 3*Mbdry4, Momega + 3*Mbdry4:Momega + 4*Mbdry4].set(val)\n",
    "  Theta = Theta.at[Momega + 3*Mbdry4:Momega + 4*Mbdry4, Momega + 2*Mbdry4:Momega + 3*Mbdry4].set(val) # Block 5,4 \n",
    "\n",
    "  # Block 5,5\n",
    "  val = partialy_nleft_partialx_nleft_overMy2D(Xboundaryleft,Xboundaryleft, kernel, k_param)\n",
    "  Theta = Theta.at[Momega + 3*Mbdry4:Momega + 4*Mbdry4, Momega + 3*Mbdry4:Momega + 4*Mbdry4].set(val)\n",
    "  \n",
    "  return Theta"
   ]
  },
  {
   "cell_type": "code",
   "execution_count": 58,
   "metadata": {},
   "outputs": [],
   "source": [
    "def Kphi_assembly(Xtest, Xomega, Xboundary , h, k = 'Gaussian', k_param = 1.):\n",
    "\n",
    "  # Set kernel to use\n",
    "  if k == 'Gaussian':\n",
    "    kernel = Gaussian2D\n",
    "  if k == 'Matern52':\n",
    "    kernel = Matern_Kernel_52_2D\n",
    "\n",
    "  # Size of the square matrix\n",
    "  Momega = len(Xomega)\n",
    "  Mboundary = len(Xboundary)\n",
    "  Mbdry4 = int(Xboundary.shape[0]/4)\n",
    "  Mtest = len(Xtest)\n",
    "  M = Momega + Mboundary\n",
    "\n",
    "  # Boundaries\n",
    "  Xboundarybottom = Xboundary[:Mbdry4,:]\n",
    "  Xboundaryright = Xboundary[Mbdry4:2*Mbdry4,:]\n",
    "  Xboundarytop = Xboundary[2*Mbdry4:3*Mbdry4,:]\n",
    "  Xboundaryleft = Xboundary[3*Mbdry4:4*Mbdry4,:]\n",
    "\n",
    "  # Initialize K(phi,phi)\n",
    "  Theta = jnp.zeros((M,Mtest))\n",
    "\n",
    "  # Block 1\n",
    "  val1 = K_2D(kernel, Xomega, Xtest, k_param)\n",
    "  val2 = partial_MtimesPartialx_2D(Xomega, Xtest, kernel, k_param)\n",
    "  val = val1 - h*val2\n",
    "  Theta = Theta.at[:Momega, :].set(val)\n",
    "\n",
    "  # Block 2\n",
    "  val = partialx_nbottom_overMx_2D(Xboundarybottom , Xtest, kernel, k_param)\n",
    "  Theta = Theta.at[Momega:Momega + Mbdry4, :].set(val)\n",
    "\n",
    "  # Block 3\n",
    "  val = partialx_nright_overMx_2D(Xboundaryright , Xtest, kernel, k_param)\n",
    "  Theta = Theta.at[Momega + Mbdry4:Momega + 2*Mbdry4, :].set(val)\n",
    "\n",
    "  # Block 4\n",
    "  val = partialx_ntop_overMx_2D(Xboundarytop , Xtest, kernel, k_param)\n",
    "  Theta = Theta.at[Momega + 2*Mbdry4:Momega + 3*Mbdry4, :].set(val)\n",
    "\n",
    "  # Block 5\n",
    "  val = partialx_nleft_overMx_2D(Xboundaryleft , Xtest, kernel, k_param)\n",
    "  Theta = Theta.at[Momega + 3*Mbdry4:Momega + 4*Mbdry4, :].set(val)\n",
    "\n",
    "  return Theta"
   ]
  },
  {
   "cell_type": "code",
   "execution_count": 59,
   "metadata": {},
   "outputs": [],
   "source": [
    "def generate_pts_interior(num_points):\n",
    "    points = np.random.uniform(low=[-3,-3],high=[3,3],size=[num_points,2])\n",
    "    return points\n",
    "\n",
    "def generate_pts_boundary(num_points):\n",
    "    a = -3\n",
    "    b = 3\n",
    "    # Generate random coordinates on the four sides of the unit square\n",
    "    x = np.concatenate((\n",
    "        (b - a) * np.random.random(num_points) + a, # points on the bottom side\n",
    "        b*np.ones(num_points),                      # points on the right side\n",
    "        (b - a) * np.random.random(num_points) + a, # points on the top side\n",
    "        a*np.ones(num_points)                       # points on the left side\n",
    "    ))\n",
    "\n",
    "    y = np.concatenate((\n",
    "        a*np.ones(num_points),                       # points on the bottom side\n",
    "        (b - a) * np.random.random(num_points) + a,  # points on the right side\n",
    "        b*np.ones(num_points),                       # points on the top side\n",
    "        (b - a) * np.random.random(num_points) + a   # points on the left side\n",
    "    ))\n",
    "\n",
    "    points = np.column_stack((x, y))\n",
    "    return points"
   ]
  },
  {
   "attachments": {},
   "cell_type": "markdown",
   "metadata": {},
   "source": [
    "## How far can we go ?"
   ]
  },
  {
   "cell_type": "code",
   "execution_count": 60,
   "metadata": {},
   "outputs": [],
   "source": [
    "#np.random.seed(7)\n",
    "# sqrt(M_Omega)\n",
    "Momega = 500\n",
    "# M - M_Omega \n",
    "Mboundary = 400\n",
    "# X_{\\partial\\Omega}: bottom, right, top, left \n",
    "Xboundary = generate_pts_boundary(int(Mboundary/4)) \n",
    "# X_\\Omega\n",
    "Xomega = generate_pts_interior(Momega)\n",
    "# X_full\n",
    "Xfull = np.vstack((Xomega, Xboundary))\n",
    "# u(X_\\Omega,0)\n",
    "u0 = fp_2d_u0(Xomega[:,0],Xomega[:,1])\n",
    "# kernel\n",
    "kernel = 'Gaussian'\n",
    "# Kernel lenght-scale\n",
    "k_param = 0.5\n",
    "# Time step\n",
    "h = 1e-3\n",
    "# Final time - We add 0.1 since that is the initial condition\n",
    "final_t = 0.1 + h\n",
    "# nugget\n",
    "nugget = 1e-8"
   ]
  },
  {
   "cell_type": "code",
   "execution_count": 61,
   "metadata": {},
   "outputs": [
    {
     "data": {
      "image/png": "[encoded data removed]",
      "text/plain": [
       "<Figure size 640x480 with 1 Axes>"
      ]
     },
     "metadata": {},
     "output_type": "display_data"
    }
   ],
   "source": [
    "plt.scatter(Xomega[:,0],Xomega[:,1], c='blue')\n",
    "plt.scatter(Xboundary[:,0],Xboundary[:,1], c='red')\n",
    "plt.show()"
   ]
  },
  {
   "attachments": {},
   "cell_type": "markdown",
   "metadata": {},
   "source": [
    "Build `Kphiphi`"
   ]
  },
  {
   "cell_type": "code",
   "execution_count": 62,
   "metadata": {},
   "outputs": [],
   "source": [
    "Kphiphi = Kphiphi_assembly(Xomega, Xboundary, h, k = kernel, k_param = k_param)"
   ]
  },
  {
   "attachments": {},
   "cell_type": "markdown",
   "metadata": {},
   "source": [
    "Build `y_prev`"
   ]
  },
  {
   "cell_type": "code",
   "execution_count": 63,
   "metadata": {},
   "outputs": [],
   "source": [
    "y_prev = jnp.concatenate((u0,np.zeros((len(Xboundary)),)))"
   ]
  },
  {
   "attachments": {},
   "cell_type": "markdown",
   "metadata": {},
   "source": [
    "Compute $K(\\varphi,\\varphi)^{-1}y_{\\text{prev}}$"
   ]
  },
  {
   "cell_type": "code",
   "execution_count": 64,
   "metadata": {},
   "outputs": [],
   "source": [
    "R = jnp.diag(jnp.diag(Kphiphi))\n",
    "sol = jnp.linalg.solve(Kphiphi + nugget*R,y_prev)\n",
    "#sol = jnp.linalg.solve(Kphiphi,y_prev)"
   ]
  },
  {
   "attachments": {},
   "cell_type": "markdown",
   "metadata": {},
   "source": [
    "Get `K(Xtest,Xfull)`"
   ]
  },
  {
   "cell_type": "code",
   "execution_count": 65,
   "metadata": {},
   "outputs": [],
   "source": [
    "Kphi = Kphi_assembly(Xfull, Xomega, Xboundary, h, k = kernel, k_param = k_param)"
   ]
  },
  {
   "cell_type": "code",
   "execution_count": 66,
   "metadata": {},
   "outputs": [],
   "source": [
    "u_next = np.dot(Kphi.T,sol)"
   ]
  },
  {
   "cell_type": "code",
   "execution_count": 67,
   "metadata": {},
   "outputs": [
    {
     "data": {
      "image/png": "[encoded data removed]",
      "text/plain": [
       "<Figure size 900x200 with 6 Axes>"
      ]
     },
     "metadata": {},
     "output_type": "display_data"
    }
   ],
   "source": [
    "fig, axs = plt.subplots(figsize = (9,2), nrows = 1, ncols = 3, sharex = True, sharey = True)\n",
    "fig.subplots_adjust(hspace=0.2, wspace=0.1)\n",
    "# fig.suptitle('t=0.1 | true at t= {} | pred at t={}'.format(final_t,final_t))\n",
    "# Initial condition\n",
    "axs0 = axs[0].tricontourf(Xfull[:,0],Xfull[:,1],fp_2d_u0(Xfull[:,0],Xfull[:,1]))\n",
    "axs[0].title.set_text('Initial condition')\n",
    "plt.colorbar(axs0, ax = axs[0])\n",
    "# True next\n",
    "axs1 = axs[1].tricontourf(Xfull[:,0],Xfull[:,1],fp_2d_sol(final_t, Xfull[:,0],Xfull[:,1]))\n",
    "axs[1].title.set_text('True at t = {}'.format(final_t))\n",
    "plt.colorbar(axs1, ax = axs[1])\n",
    "# Predicted next\n",
    "axs2 = axs[2].tricontourf(Xfull[:,0],Xfull[:,1],u_next)\n",
    "axs[2].title.set_text('Pred at t = {}'.format(final_t))\n",
    "plt.colorbar(axs2, ax = axs[2])\n",
    "# Plot settings\n",
    "for i in range(3):\n",
    "    axs[i].set_yticklabels([])\n",
    "    axs[i].set_xticklabels([])\n",
    "    axs[i].set_yticks([])\n",
    "    axs[i].set_xticks([])\n",
    "#nmse = mean_squared_error(u_next,fp_1d_sol(final_t, Xfull))/mean_squared_error(0*fp_1d_sol(final_t, Xfull),fp_1d_sol(final_t, Xfull))\n",
    "plt.show()"
   ]
  },
  {
   "cell_type": "code",
   "execution_count": 68,
   "metadata": {},
   "outputs": [
    {
     "name": "stdout",
     "output_type": "stream",
     "text": [
      "Relative MSE: 0.03905884087553178\n"
     ]
    }
   ],
   "source": [
    "true = fp_2d_sol(final_t, Xfull[:,0],Xfull[:,1])\n",
    "pred = u_next\n",
    "rrmse = rel_mse(true, pred, root = True)\n",
    "print('Relative MSE: {}'.format(rrmse))"
   ]
  },
  {
   "attachments": {},
   "cell_type": "markdown",
   "metadata": {},
   "source": [
    "## Let's take small steps "
   ]
  },
  {
   "cell_type": "code",
   "execution_count": 27,
   "metadata": {},
   "outputs": [],
   "source": [
    "clear_caches()\n",
    "final_t = 0.5\n",
    "masses = []\n",
    "steps = int((final_t-0.1)//h)\n",
    "#delta = Xfull[1]-Xfull[0]\n",
    "# Initialize at the initial condition\n",
    "uprev = u0\n",
    "for _ in range(steps):\n",
    "    y_prev = jnp.concatenate((uprev,np.zeros((len(Xboundary)),)))\n",
    "    #sol = jnp.linalg.solve(Kphiphi + nugget*R,y_prev)\n",
    "    sol = jnp.linalg.solve(Kphiphi, y_prev)\n",
    "    u_next = np.dot(Kphi.T,sol)\n",
    "    #mass = trap(u_next,delta)\n",
    "    #masses.append(mass)\n",
    "    # update\n",
    "    uprev = u_next[:Momega]"
   ]
  },
  {
   "cell_type": "code",
   "execution_count": 28,
   "metadata": {},
   "outputs": [
    {
     "name": "stderr",
     "output_type": "stream",
     "text": [
      "/home/juanfelipe/anaconda3/envs/jaxenv/lib/python3.11/site-packages/matplotlib/tri/_triangulation.py:179: RuntimeWarning: invalid value encountered in cast\n",
      "  triangles = np.asarray(triangles, dtype=np.int32)\n"
     ]
    },
    {
     "data": {
      "image/png": "[encoded data removed]",
      "text/plain": [
       "<Figure size 900x200 with 6 Axes>"
      ]
     },
     "metadata": {},
     "output_type": "display_data"
    }
   ],
   "source": [
    "fig, axs = plt.subplots(figsize = (9,2), nrows = 1, ncols = 3, sharex = True, sharey = True)\n",
    "fig.subplots_adjust(hspace=0.2, wspace=0.1)\n",
    "# fig.suptitle('t=0.1 | true at t= {} | pred at t={}'.format(final_t,final_t))\n",
    "# Initial condition\n",
    "axs0 = axs[0].tricontourf(Xfull[:,0],Xfull[:,1],fp_2d_u0(Xfull[:,0],Xfull[:,1]))\n",
    "axs[0].title.set_text('Initial condition')\n",
    "plt.colorbar(axs0, ax = axs[0])\n",
    "# True next\n",
    "axs1 = axs[1].tricontourf(Xfull[:,0],Xfull[:,1],fp_2d_sol(final_t, Xfull[:,0],Xfull[:,1]))\n",
    "axs[1].title.set_text('True at t = {}'.format(final_t))\n",
    "plt.colorbar(axs1, ax = axs[1])\n",
    "# Predicted next\n",
    "axs2 = axs[2].tricontourf(Xfull[:,0],Xfull[:,1],u_next)\n",
    "axs[2].title.set_text('Pred at t = {}'.format(final_t))\n",
    "plt.colorbar(axs2, ax = axs[2])\n",
    "# Plot settings\n",
    "for i in range(3):\n",
    "    axs[i].set_yticklabels([])\n",
    "    axs[i].set_xticklabels([])\n",
    "    axs[i].set_yticks([])\n",
    "    axs[i].set_xticks([])\n",
    "#nmse = mean_squared_error(u_next,fp_1d_sol(final_t, Xfull))/mean_squared_error(0*fp_1d_sol(final_t, Xfull),fp_1d_sol(final_t, Xfull))\n",
    "plt.show()"
   ]
  },
  {
   "cell_type": "code",
   "execution_count": null,
   "metadata": {},
   "outputs": [],
   "source": [
    "plt.figure()\n",
    "# Initial condition\n",
    "plt.plot(Xfull,fp_1d_u0(Xfull),'.-',label='init')\n",
    "# True next\n",
    "plt.plot(Xfull,fp_1d_sol(final_t, Xfull),'.-',label='true_next')\n",
    "# Predicted next\n",
    "plt.plot(Xfull,u_next,'.-',label='pred_next')\n",
    "# Plot settings\n",
    "nmse = mean_squared_error(u_next,fp_1d_sol(final_t, Xfull))/mean_squared_error(0*fp_1d_sol(final_t, Xfull),fp_1d_sol(final_t, Xfull))\n",
    "plt.title('final_t = {}, $\\Delta t = ${} | Normalized MSE:{}'.format(final_t, h, round(nmse,7)))\n",
    "plt.legend()\n",
    "plt.show()"
   ]
  },
  {
   "cell_type": "markdown",
   "metadata": {},
   "source": [
    "### Mass conservation"
   ]
  },
  {
   "cell_type": "code",
   "execution_count": null,
   "metadata": {},
   "outputs": [],
   "source": [
    "masses[-1]"
   ]
  },
  {
   "cell_type": "code",
   "execution_count": null,
   "metadata": {},
   "outputs": [],
   "source": [
    "t_s = np.arange(0.1, final_t, h)[1:]\n",
    "plt.figure()\n",
    "# masses per time\n",
    "plt.plot(t_s,masses,'.-',)\n",
    "plt.ylim([0,2])\n",
    "plt.title('final_t = {}, $\\Delta t = ${} '.format(final_t, h))\n",
    "plt.legend()\n",
    "plt.show()"
   ]
  },
  {
   "attachments": {},
   "cell_type": "markdown",
   "metadata": {},
   "source": [
    "## Convergence"
   ]
  },
  {
   "cell_type": "code",
   "execution_count": null,
   "metadata": {},
   "outputs": [],
   "source": [
    "nugget = 0."
   ]
  },
  {
   "cell_type": "markdown",
   "metadata": {},
   "source": [
    "### Experiment 1"
   ]
  },
  {
   "cell_type": "markdown",
   "metadata": {},
   "source": [
    "- $h = $`1e-1`\n",
    "- `final_t`$ = 2$\n",
    "- Collocation points increasing from $2^2$ to $2^{10}$"
   ]
  },
  {
   "cell_type": "code",
   "execution_count": null,
   "metadata": {},
   "outputs": [],
   "source": [
    "# Experiment 1.1 - L2-norms\n",
    "L2_norms_1 = []\n",
    "xrange = 2**np.arange(2,10)\n",
    "for n in range(2,10):\n",
    "    # X_full\n",
    "    Xfull = np.linspace(-5,5,2**n+2)\n",
    "    # Delta\n",
    "    delta = Xfull[1]-Xfull[0]\n",
    "    # X_{\\partial\\Omega}\n",
    "    Xboundary = Xfull[[0,-1]]\n",
    "    # X_\\Omega\n",
    "    Xomega = Xfull[1:-1]\n",
    "    # u(X_\\Omega,0)\n",
    "    u0 = fp_1d_u0(Xomega)\n",
    "    # Kernel lenght-scale\n",
    "    k_param = 0.5\n",
    "    # Time step\n",
    "    h = 1e-1\n",
    "    # Final t\n",
    "    final_t = 2.5\n",
    "    # No. of steps\n",
    "    steps = int((final_t-0.1)//h)\n",
    "    # Compute Kphiphi\n",
    "    Kphiphi = Kphiphi_assembly(Xomega, Xboundary, h, k = kernel, k_param = k_param)\n",
    "    # Regularizer for Kphiphi\n",
    "    R = jnp.diag(jnp.diag(Kphiphi))\n",
    "    # Compute Kphi againts Xfull which will be the test set\n",
    "    Kphi = Kphi_assembly(Xfull, Xomega, Xboundary, h, k = kernel, k_param = k_param)\n",
    "    \n",
    "    uprev = u0\n",
    "    for _ in range(steps):\n",
    "        y_prev = jnp.concatenate((uprev,np.zeros((len(Xboundary)),)))\n",
    "        sol = jnp.linalg.solve(Kphiphi + nugget*R, y_prev)\n",
    "        u_next = np.dot(Kphi.T,sol)\n",
    "        # update\n",
    "        uprev = u_next[1:-1]\n",
    "    \n",
    "    # Numerical\n",
    "    u_next = np.dot(Kphi.T,sol)\n",
    "    # Analytical\n",
    "    u_true = fp_1d_sol(final_t, Xfull)   \n",
    "    # Differences\n",
    "    f = np.abs(u_next - u_true)**2\n",
    "    # Append L2 norm per iteration\n",
    "    L2_norms_1.append(trap(f,delta))\n",
    "    # Print L2 norm per iteration\n",
    "    print(trap(f,delta))"
   ]
  },
  {
   "cell_type": "markdown",
   "metadata": {},
   "source": [
    "- $h = $`1e-2`\n",
    "- `final_t`$ = 2$\n",
    "- Collocation points increasing from $2^2$ to $2^{10}$"
   ]
  },
  {
   "cell_type": "code",
   "execution_count": null,
   "metadata": {},
   "outputs": [],
   "source": [
    "# Experiment 1.2 - L2-norms\n",
    "L2_norms_2 = []\n",
    "xrange = 2**np.arange(2,10)\n",
    "for n in range(2,10):\n",
    "    # X_full\n",
    "    Xfull = np.linspace(-5,5,2**n+2)\n",
    "    # Delta\n",
    "    delta = Xfull[1]-Xfull[0]\n",
    "    # X_{\\partial\\Omega}\n",
    "    Xboundary = Xfull[[0,-1]]\n",
    "    # X_\\Omega\n",
    "    Xomega = Xfull[1:-1]\n",
    "    # u(X_\\Omega,0)\n",
    "    u0 = fp_1d_u0(Xomega)\n",
    "    # Kernel lenght-scale\n",
    "    k_param = 0.5\n",
    "    # Time step\n",
    "    h = 1e-2\n",
    "    # Final t\n",
    "    final_t = 2.5\n",
    "    # No. of steps\n",
    "    steps = int((final_t-0.1)//h)\n",
    "    # Compute Kphiphi\n",
    "    Kphiphi = Kphiphi_assembly(Xomega, Xboundary, h, k = kernel, k_param = k_param)\n",
    "    # Regularizer for Kphiphi\n",
    "    R = jnp.diag(jnp.diag(Kphiphi))\n",
    "    # Compute Kphi againts Xfull which will be the test set\n",
    "    Kphi = Kphi_assembly(Xfull, Xomega, Xboundary, h, k = kernel, k_param = k_param)\n",
    "    \n",
    "    uprev = u0\n",
    "    for _ in range(steps):\n",
    "        y_prev = jnp.concatenate((uprev,np.zeros((len(Xboundary)),)))\n",
    "        sol = jnp.linalg.solve(Kphiphi + nugget*R, y_prev)\n",
    "        u_next = np.dot(Kphi.T,sol)\n",
    "        # update\n",
    "        uprev = u_next[1:-1]\n",
    "    \n",
    "    # Numerical\n",
    "    u_next = np.dot(Kphi.T,sol)\n",
    "    # Analytical\n",
    "    u_true = fp_1d_sol(final_t, Xfull)   \n",
    "    # Differences\n",
    "    f = np.abs(u_next - u_true)**2\n",
    "    # Append L2 norm per iteration\n",
    "    L2_norms_2.append(trap(f,delta))\n",
    "    # Print L2 norm per iteration\n",
    "    print(trap(f,delta))"
   ]
  },
  {
   "cell_type": "markdown",
   "metadata": {},
   "source": [
    "- $h = $`1e-3`\n",
    "- `final_t`$ = 0.2$\n",
    "- Collocation points increasing from $2^2$ to $2^{10}$"
   ]
  },
  {
   "cell_type": "code",
   "execution_count": null,
   "metadata": {},
   "outputs": [],
   "source": [
    "# Experiment 1.3 - L2-norms\n",
    "L2_norms_3 = []\n",
    "xrange = 2**np.arange(2,10)\n",
    "for n in range(2,10):\n",
    "    # X_full\n",
    "    Xfull = np.linspace(-5,5,2**n+2)\n",
    "    # Delta\n",
    "    delta = Xfull[1]-Xfull[0]\n",
    "    # X_{\\partial\\Omega}\n",
    "    Xboundary = Xfull[[0,-1]]\n",
    "    # X_\\Omega\n",
    "    Xomega = Xfull[1:-1]\n",
    "    # u(X_\\Omega,0)\n",
    "    u0 = fp_1d_u0(Xomega)\n",
    "    # Kernel lenght-scale\n",
    "    k_param = 0.5\n",
    "    # Time step\n",
    "    h = 1e-3\n",
    "    # Final t\n",
    "    final_t = 2.5\n",
    "    # No. of steps\n",
    "    steps = int((final_t-0.1)//h)\n",
    "    # Compute Kphiphi\n",
    "    Kphiphi = Kphiphi_assembly(Xomega, Xboundary, h, k = kernel, k_param = k_param)\n",
    "    # Regularizer for Kphiphi\n",
    "    R = jnp.diag(jnp.diag(Kphiphi))\n",
    "    # Compute Kphi againts Xfull which will be the test set\n",
    "    Kphi = Kphi_assembly(Xfull, Xomega, Xboundary, h, k = kernel, k_param = k_param)\n",
    "    \n",
    "    uprev = u0\n",
    "    for _ in range(steps):\n",
    "        y_prev = jnp.concatenate((uprev,np.zeros((len(Xboundary)),)))\n",
    "        sol = jnp.linalg.solve(Kphiphi + nugget*R, y_prev)\n",
    "        u_next = np.dot(Kphi.T,sol)\n",
    "        # update\n",
    "        uprev = u_next[1:-1]\n",
    "    \n",
    "    # Numerical\n",
    "    u_next = np.dot(Kphi.T,sol)\n",
    "    # Analytical\n",
    "    u_true = fp_1d_sol(final_t, Xfull)   \n",
    "    # Differences\n",
    "    f = np.abs(u_next - u_true)**2\n",
    "    # Append L2 norm per iteration\n",
    "    L2_norms_3.append(trap(f,delta))\n",
    "    # Print L2 norm per iteration\n",
    "    print(trap(f,delta))"
   ]
  },
  {
   "cell_type": "markdown",
   "metadata": {},
   "source": [
    "- $h = $`1e-4`\n",
    "- `final_t`$ = 0.2$\n",
    "- Collocation points increasing from $2^2$ to $2^{10}$"
   ]
  },
  {
   "cell_type": "code",
   "execution_count": null,
   "metadata": {},
   "outputs": [],
   "source": [
    "# Experiment 1.4 - L2-norms\n",
    "L2_norms_4 = []\n",
    "xrange = 2**np.arange(2,10)\n",
    "for n in range(2,10):\n",
    "    # X_full\n",
    "    Xfull = np.linspace(-5,5,2**n+2)\n",
    "    # Delta\n",
    "    delta = Xfull[1]-Xfull[0]\n",
    "    # X_{\\partial\\Omega}\n",
    "    Xboundary = Xfull[[0,-1]]\n",
    "    # X_\\Omega\n",
    "    Xomega = Xfull[1:-1]\n",
    "    # u(X_\\Omega,0)\n",
    "    u0 = fp_1d_u0(Xomega)\n",
    "    # Kernel lenght-scale\n",
    "    k_param = 0.5\n",
    "    # Time step\n",
    "    h = 1e-4\n",
    "    # Final t\n",
    "    final_t = 2.5\n",
    "    # No. of steps\n",
    "    steps = int((final_t-0.1)//h)\n",
    "    # Compute Kphiphi\n",
    "    Kphiphi = Kphiphi_assembly(Xomega, Xboundary, h, k = kernel, k_param = k_param)\n",
    "    # Regularizer for Kphiphi\n",
    "    R = jnp.diag(jnp.diag(Kphiphi))\n",
    "    # Compute Kphi againts Xfull which will be the test set\n",
    "    Kphi = Kphi_assembly(Xfull, Xomega, Xboundary, h, k = kernel, k_param = k_param)\n",
    "    \n",
    "    uprev = u0\n",
    "    for _ in range(steps):\n",
    "        y_prev = jnp.concatenate((uprev,np.zeros((len(Xboundary)),)))\n",
    "        sol = jnp.linalg.solve(Kphiphi + nugget*R, y_prev)\n",
    "        u_next = np.dot(Kphi.T,sol)\n",
    "        # update\n",
    "        uprev = u_next[1:-1]\n",
    "    \n",
    "    # Numerical\n",
    "    u_next = np.dot(Kphi.T,sol)\n",
    "    # Analytical\n",
    "    u_true = fp_1d_sol(final_t, Xfull)   \n",
    "    # Differences\n",
    "    f = np.abs(u_next - u_true)**2\n",
    "    # Append L2 norm per iteration\n",
    "    L2_norms_4.append(trap(f,delta))\n",
    "    # Print L2 norm per iteration\n",
    "    print(trap(f,delta))"
   ]
  },
  {
   "cell_type": "code",
   "execution_count": null,
   "metadata": {},
   "outputs": [],
   "source": [
    "# One plot\n",
    "plt.loglog(xrange,L2_norms_1,label = 'h = 1e-1', marker = 'o')\n",
    "plt.loglog(xrange,L2_norms_2,label = 'h = 1e-2', marker = 'o')\n",
    "plt.loglog(xrange,L2_norms_3,label = 'h = 1e-3', marker = 'o')\n",
    "plt.loglog(xrange,L2_norms_4,label = 'h = 1e-4', marker = 'o')\n",
    "plt.xlabel('N')\n",
    "plt.ylabel('L2-Error')\n",
    "plt.legend()\n",
    "plt.title('Convergence of the method (loglog)')\n",
    "plt.show()"
   ]
  },
  {
   "cell_type": "markdown",
   "metadata": {},
   "source": [
    "### Experiment 2"
   ]
  },
  {
   "cell_type": "markdown",
   "metadata": {},
   "source": [
    "- $h$ decreasing from `1e-2` to `1e-5`\n",
    "- `final_t`$ = 0.5$\n",
    "- Collocation points = $2^5$"
   ]
  },
  {
   "cell_type": "code",
   "execution_count": null,
   "metadata": {},
   "outputs": [],
   "source": [
    "# Experiment 2.1 - L2-norms\n",
    "L2_norms_1 = []\n",
    "xrange = 10.0**(-np.arange(2,6))\n",
    "for n in range(2,6):\n",
    "    # X_full\n",
    "    Xfull = np.linspace(-5,5,2**5+2)\n",
    "    # Delta\n",
    "    delta = Xfull[1]-Xfull[0]\n",
    "    # X_{\\partial\\Omega}\n",
    "    Xboundary = Xfull[[0,-1]]\n",
    "    # X_\\Omega\n",
    "    Xomega = Xfull[1:-1]\n",
    "    # u(X_\\Omega,0)\n",
    "    u0 = fp_1d_u0(Xomega)\n",
    "    # Kernel lenght-scale\n",
    "    k_param = 0.5\n",
    "    # Time step\n",
    "    h = 10**(-n)\n",
    "    # Final t\n",
    "    final_t = 2.5\n",
    "    # No. of steps\n",
    "    steps = int((final_t-0.1)//h)\n",
    "    # Compute Kphiphi\n",
    "    Kphiphi = Kphiphi_assembly(Xomega, Xboundary, h, k = kernel, k_param = k_param)\n",
    "    # Regularizer for Kphiphi\n",
    "    R = jnp.diag(jnp.diag(Kphiphi))\n",
    "    # Compute Kphi againts Xfull which will be the test set\n",
    "    Kphi = Kphi_assembly(Xfull, Xomega, Xboundary, h, k = kernel, k_param = k_param)\n",
    "    \n",
    "    uprev = u0\n",
    "    for _ in range(steps):\n",
    "        y_prev = jnp.concatenate((uprev,np.zeros((len(Xboundary)),)))\n",
    "        sol = jnp.linalg.solve(Kphiphi + nugget*R, y_prev)\n",
    "        u_next = np.dot(Kphi.T,sol)\n",
    "        # update\n",
    "        uprev = u_next[1:-1]\n",
    "    \n",
    "    # Numerical\n",
    "    u_next = np.dot(Kphi.T,sol)\n",
    "    # Analytical\n",
    "    u_true = fp_1d_sol(final_t, Xfull)   \n",
    "    # Differences\n",
    "    f = np.abs(u_next - u_true)**2\n",
    "    # Append L2 norm per iteration\n",
    "    L2_norms_1.append(trap(f,delta))\n",
    "    # Print L2 norm per iteration\n",
    "    print(trap(f,delta))"
   ]
  },
  {
   "cell_type": "markdown",
   "metadata": {},
   "source": [
    "- $h$ decreasing from `1e-2` to `1e-5`\n",
    "- `final_t`$= 0.5$\n",
    "- Collocation points = $2^6$"
   ]
  },
  {
   "cell_type": "code",
   "execution_count": null,
   "metadata": {},
   "outputs": [],
   "source": [
    "# Experiment 2.2 - L2-norms\n",
    "L2_norms_2 = []\n",
    "xrange = 10.0**(-np.arange(2,6))\n",
    "for n in range(2,6):\n",
    "    # X_full\n",
    "    Xfull = np.linspace(-5,5,2**6+2)\n",
    "    # Delta\n",
    "    delta = Xfull[1]-Xfull[0]\n",
    "    # X_{\\partial\\Omega}\n",
    "    Xboundary = Xfull[[0,-1]]\n",
    "    # X_\\Omega\n",
    "    Xomega = Xfull[1:-1]\n",
    "    # u(X_\\Omega,0)\n",
    "    u0 = fp_1d_u0(Xomega)\n",
    "    # Kernel lenght-scale\n",
    "    k_param = 0.5\n",
    "    # Time step\n",
    "    h = 10**(-n)\n",
    "    # Final t\n",
    "    final_t = 2.5\n",
    "    # No. of steps\n",
    "    steps = int((final_t-0.1)//h)\n",
    "    # Compute Kphiphi\n",
    "    Kphiphi = Kphiphi_assembly(Xomega, Xboundary, h, k = kernel, k_param = k_param)\n",
    "    # Regularizer for Kphiphi\n",
    "    R = jnp.diag(jnp.diag(Kphiphi))\n",
    "    # Compute Kphi againts Xfull which will be the test set\n",
    "    Kphi = Kphi_assembly(Xfull, Xomega, Xboundary, h, k = kernel, k_param = k_param)\n",
    "    \n",
    "    uprev = u0\n",
    "    for _ in range(steps):\n",
    "        y_prev = jnp.concatenate((uprev,np.zeros((len(Xboundary)),)))\n",
    "        sol = jnp.linalg.solve(Kphiphi + nugget*R, y_prev)\n",
    "        u_next = np.dot(Kphi.T,sol)\n",
    "        # update\n",
    "        uprev = u_next[1:-1]\n",
    "    \n",
    "    # Numerical\n",
    "    u_next = np.dot(Kphi.T,sol)\n",
    "    # Analytical\n",
    "    u_true = fp_1d_sol(final_t, Xfull)   \n",
    "    # Differences\n",
    "    f = np.abs(u_next - u_true)**2\n",
    "    # Append L2 norm per iteration\n",
    "    L2_norms_2.append(trap(f,delta))\n",
    "    # Print L2 norm per iteration\n",
    "    print(trap(f,delta))"
   ]
  },
  {
   "cell_type": "markdown",
   "metadata": {},
   "source": [
    "- $h$ decreasing from `1e-2` to `1e-5`\n",
    "- `final_t`$= 0.5$\n",
    "- Collocation points = $2^7$"
   ]
  },
  {
   "cell_type": "code",
   "execution_count": null,
   "metadata": {},
   "outputs": [],
   "source": [
    "# Experiment 2.3 - L2-norms\n",
    "L2_norms_3 = []\n",
    "xrange = 10.0**(-np.arange(2,6))\n",
    "for n in range(2,6):\n",
    "    # X_full\n",
    "    Xfull = np.linspace(-5,5,2**7+2)\n",
    "    # Delta\n",
    "    delta = Xfull[1]-Xfull[0]\n",
    "    # X_{\\partial\\Omega}\n",
    "    Xboundary = Xfull[[0,-1]]\n",
    "    # X_\\Omega\n",
    "    Xomega = Xfull[1:-1]\n",
    "    # u(X_\\Omega,0)\n",
    "    u0 = fp_1d_u0(Xomega)\n",
    "    # Kernel lenght-scale\n",
    "    k_param = 0.5\n",
    "    # Time step\n",
    "    h = 10**(-n)\n",
    "    # Final t\n",
    "    final_t = 2.5\n",
    "    # No. of steps\n",
    "    steps = int((final_t-0.1)//h)\n",
    "    # Compute Kphiphi\n",
    "    Kphiphi = Kphiphi_assembly(Xomega, Xboundary, h, k = kernel, k_param = k_param)\n",
    "    # Regularizer for Kphiphi\n",
    "    R = jnp.diag(jnp.diag(Kphiphi))\n",
    "    # Compute Kphi againts Xfull which will be the test set\n",
    "    Kphi = Kphi_assembly(Xfull, Xomega, Xboundary, h, k = kernel, k_param = k_param)\n",
    "    \n",
    "    uprev = u0\n",
    "    for _ in range(steps):\n",
    "        y_prev = jnp.concatenate((uprev,np.zeros((len(Xboundary)),)))\n",
    "        sol = jnp.linalg.solve(Kphiphi + nugget*R, y_prev)\n",
    "        u_next = np.dot(Kphi.T,sol)\n",
    "        # update\n",
    "        uprev = u_next[1:-1]\n",
    "    \n",
    "    # Numerical\n",
    "    u_next = np.dot(Kphi.T,sol)\n",
    "    # Analytical\n",
    "    u_true = fp_1d_sol(final_t, Xfull)   \n",
    "    # Differences\n",
    "    f = np.abs(u_next - u_true)**2\n",
    "    # Append L2 norm per iteration\n",
    "    L2_norms_3.append(trap(f,delta))\n",
    "    # Print L2 norm per iteration\n",
    "    print(trap(f,delta))"
   ]
  },
  {
   "cell_type": "markdown",
   "metadata": {},
   "source": [
    "- $h$ decreasing from `1e-2` to `1e-5`\n",
    "- `final_t`$= 0.5$\n",
    "- Collocation points = $2^8$"
   ]
  },
  {
   "cell_type": "code",
   "execution_count": null,
   "metadata": {},
   "outputs": [],
   "source": [
    "# Experiment 2.4 - L2-norms\n",
    "L2_norms_4 = []\n",
    "xrange = 10.0**(-np.arange(2,6))\n",
    "for n in range(2,6):\n",
    "    # X_full\n",
    "    Xfull = np.linspace(-5,5,2**8+2)\n",
    "    # Delta\n",
    "    delta = Xfull[1]-Xfull[0]\n",
    "    # X_{\\partial\\Omega}\n",
    "    Xboundary = Xfull[[0,-1]]\n",
    "    # X_\\Omega\n",
    "    Xomega = Xfull[1:-1]\n",
    "    # u(X_\\Omega,0)\n",
    "    u0 = fp_1d_u0(Xomega)\n",
    "    # Kernel lenght-scale\n",
    "    k_param = 0.5\n",
    "    # Time step\n",
    "    h = 10**(-n)\n",
    "    # Final t\n",
    "    final_t = 2.5\n",
    "    # No. of steps\n",
    "    steps = int((final_t-0.1)//h)\n",
    "    # Compute Kphiphi\n",
    "    Kphiphi = Kphiphi_assembly(Xomega, Xboundary, h, k = kernel, k_param = k_param)\n",
    "    # Regularizer for Kphiphi\n",
    "    R = jnp.diag(jnp.diag(Kphiphi))\n",
    "    # Compute Kphi againts Xfull which will be the test set\n",
    "    Kphi = Kphi_assembly(Xfull, Xomega, Xboundary, h, k = kernel, k_param = k_param)\n",
    "    \n",
    "    uprev = u0\n",
    "    for _ in range(steps):\n",
    "        y_prev = jnp.concatenate((uprev,np.zeros((len(Xboundary)),)))\n",
    "        sol = jnp.linalg.solve(Kphiphi + nugget*R, y_prev)\n",
    "        u_next = np.dot(Kphi.T,sol)\n",
    "        # update\n",
    "        uprev = u_next[1:-1]\n",
    "    \n",
    "    # Numerical\n",
    "    u_next = np.dot(Kphi.T,sol)\n",
    "    # Analytical\n",
    "    u_true = fp_1d_sol(final_t, Xfull)   \n",
    "    # Differences\n",
    "    f = np.abs(u_next - u_true)**2\n",
    "    # Append L2 norm per iteration\n",
    "    L2_norms_4.append(trap(f,delta))\n",
    "    # Print L2 norm per iteration\n",
    "    print(trap(f,delta))"
   ]
  },
  {
   "cell_type": "code",
   "execution_count": null,
   "metadata": {},
   "outputs": [],
   "source": [
    "# One plot\n",
    "plt.loglog(xrange,L2_norms_1,label = 'N = 2^5', marker = 'o')\n",
    "plt.loglog(xrange,L2_norms_2,label = 'N = 2^6', marker = 'o')\n",
    "plt.loglog(xrange,L2_norms_3,label = 'N = 2^7', marker = 'o')\n",
    "plt.loglog(xrange,L2_norms_4,label = 'N = 2^8', marker = 'o')\n",
    "plt.xlabel('h')\n",
    "plt.ylabel('L2-Error')\n",
    "plt.legend()\n",
    "plt.title('Convergence of the method (loglog)')\n",
    "plt.show()"
   ]
  }
 ],
 "metadata": {
  "kernelspec": {
   "display_name": "base",
   "language": "python",
   "name": "python3"
  },
  "language_info": {
   "codemirror_mode": {
    "name": "ipython",
    "version": 3
   },
   "file_extension": ".py",
   "mimetype": "text/x-python",
   "name": "python",
   "nbconvert_exporter": "python",
   "pygments_lexer": "ipython3",
   "version": "3.11.3"
  },
  "orig_nbformat": 4
 },
 "nbformat": 4,
 "nbformat_minor": 2
}
