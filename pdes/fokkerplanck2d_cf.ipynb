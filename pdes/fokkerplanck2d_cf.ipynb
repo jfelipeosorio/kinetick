{
 "cells": [
  {
   "attachments": {},
   "cell_type": "markdown",
   "metadata": {},
   "source": [
    "# Fokker-Planck 2D\n",
    "***\n",
    "Created by: Juan Felipe Osorio Ramirez\n",
    "\n",
    "Department of Applied Mathematics, UW\n",
    "***"
   ]
  },
  {
   "attachments": {},
   "cell_type": "markdown",
   "metadata": {},
   "source": [
    "> $\\partial_t \\rho=\\nabla \\cdot\\left(\\mathcal{M} \\nabla \\frac{\\rho}{\\mathcal{M}}\\right)$, for  $t > 0$, $(x,y) \\in \\Omega=(-3,3) \\times(-3,3)$.\n",
    "\n",
    "> $u(0, x)=u^0(x), \\quad x \\in \\Omega=(-3,3) \\times(-3,3)$\n",
    "\n",
    "> $\\left.\\nabla \\frac{\\rho}{\\mathcal{M}} \\cdot \\mathbf{n}\\right|_{\\partial \\Omega}=0, \\quad t \\geq 0 .$\n",
    "\n",
    "\n",
    "where $\\mathcal{M}:=e^{-\\frac{x^2+y^2}{2}}$"
   ]
  },
  {
   "attachments": {},
   "cell_type": "markdown",
   "metadata": {},
   "source": [
    "## Libraries"
   ]
  },
  {
   "cell_type": "code",
   "execution_count": 1,
   "metadata": {},
   "outputs": [],
   "source": [
    "# Import packages\n",
    "import sys\n",
    "sys.path.append('/home/juanfelipe/Desktop/research/kinetick/source')\n",
    "import jax.numpy as np\n",
    "from jax import grad, jit\n",
    "from jax.scipy.optimize import minimize\n",
    "\n",
    "import numpy as np\n",
    "import matplotlib.pyplot as plt \n",
    "#from sklearn.preprocessing import MinMaxScaler\n",
    "from sklearn.kernel_ridge import KernelRidge\n",
    "from parameter_learning import *\n",
    "from plotlib import *\n",
    "from models import * \n",
    "from interpolation import *\n",
    "from kernels import *\n",
    "from integrate import trap\n",
    "from sklearn.metrics import mean_squared_error\n",
    "\n",
    "import jax.numpy as jnp\n",
    "from jax import grad, jit\n",
    "from jax.config import config; \n",
    "from numpy.linalg import norm\n",
    "config.update(\"jax_enable_x64\", True)\n",
    "\n",
    "from functools import partial # for jit to make codes faster"
   ]
  },
  {
   "cell_type": "markdown",
   "metadata": {},
   "source": [
    "## Test of `JAX` functionality"
   ]
  },
  {
   "cell_type": "code",
   "execution_count": 2,
   "metadata": {},
   "outputs": [],
   "source": [
    "T = jnp.array([[2.,3.],[4.,6.]])\n",
    "T_ = jnp.array([[2.5,3.5],[4.5,6.5],[8.5,9.5]])\n",
    "kernel = Gaussian2D\n",
    "params = 1"
   ]
  },
  {
   "cell_type": "markdown",
   "metadata": {},
   "source": [
    "$\\partial_{x}\\left(\\frac{K(x,y)}{M(x)}\\right)|_{x=x_m,y=x_{m'}}$"
   ]
  },
  {
   "cell_type": "code",
   "execution_count": 3,
   "metadata": {},
   "outputs": [
    {
     "data": {
      "text/plain": [
       "Array([[4.53261222e+03, 1.86988994e+00, 2.40499846e-14],\n",
       "       [2.44294132e+10, 4.45870541e+12, 1.38520398e+06]], dtype=float64)"
      ]
     },
     "execution_count": 3,
     "metadata": {},
     "output_type": "execute_result"
    }
   ],
   "source": [
    "partial_KoverMx_2D(T,T_,kernel,params)"
   ]
  },
  {
   "cell_type": "markdown",
   "metadata": {},
   "source": [
    "$M(x)\\partial_{x}\\left(\\frac{K(x,y)}{M(x)}\\right)|_{x=x_m,y=x_{m'}}$"
   ]
  },
  {
   "cell_type": "code",
   "execution_count": 4,
   "metadata": {},
   "outputs": [
    {
     "data": {
      "text/plain": [
       "Array([[6.81450685e+00, 2.81126582e-03, 3.61576895e-17],\n",
       "       [1.24812047e-01, 2.27799229e+01, 7.07713044e-06]], dtype=float64)"
      ]
     },
     "execution_count": 4,
     "metadata": {},
     "output_type": "execute_result"
    }
   ],
   "source": [
    "MtimesPartialx_2D(T,T_,kernel,params) "
   ]
  },
  {
   "cell_type": "markdown",
   "metadata": {},
   "source": [
    "$\\partial_x\\left(M(x)\\partial_{x}\\left(\\frac{K(x,y)}{M(x)}\\right)\\right)|_{x=x_m,y=x_{m'}}$"
   ]
  },
  {
   "cell_type": "code",
   "execution_count": 5,
   "metadata": {},
   "outputs": [
    {
     "data": {
      "text/plain": [
       "Array([[1.70362671e+00, 2.45985759e-02, 1.52766238e-15],\n",
       "       [4.68045175e-01, 5.69498073e+00, 1.11464804e-04]], dtype=float64)"
      ]
     },
     "execution_count": 5,
     "metadata": {},
     "output_type": "execute_result"
    }
   ],
   "source": [
    "partial_MtimesPartialx2D(T,T_,kernel,params)"
   ]
  },
  {
   "cell_type": "code",
   "execution_count": 8,
   "metadata": {},
   "outputs": [
    {
     "data": {
      "text/plain": [
       "Array(1.08268227, dtype=float64, weak_type=True)"
      ]
     },
     "execution_count": 8,
     "metadata": {},
     "output_type": "execute_result"
    }
   ],
   "source": [
    "t = 2.\n",
    "t_ = 4.\n",
    "partial_MtimesPartialx_(t,t_,kernel,params)"
   ]
  },
  {
   "cell_type": "code",
   "execution_count": 9,
   "metadata": {},
   "outputs": [],
   "source": [
    "T = 8.\n",
    "T_ = 1.\n",
    "kernel = Gaussian\n",
    "params = 1"
   ]
  },
  {
   "cell_type": "markdown",
   "metadata": {},
   "source": [
    "$\\partial_{y}\\left(\\frac{K(x,y)}{M(y)}\\right)|_{x=x_m,y=x_{m'}}$"
   ]
  },
  {
   "cell_type": "code",
   "execution_count": 10,
   "metadata": {},
   "outputs": [
    {
     "data": {
      "text/plain": [
       "Array(3.02010764e-10, dtype=float64, weak_type=True)"
      ]
     },
     "execution_count": 10,
     "metadata": {},
     "output_type": "execute_result"
    }
   ],
   "source": [
    "partial_KoverMy(T,T_,kernel,params)"
   ]
  },
  {
   "cell_type": "markdown",
   "metadata": {},
   "source": [
    "$M(y)\\partial_{y}\\left(\\frac{K(x,y)}{M(y)}\\right)|_{x=x_m,y=x_{m'}}$"
   ]
  },
  {
   "cell_type": "code",
   "execution_count": 11,
   "metadata": {},
   "outputs": [
    {
     "data": {
      "text/plain": [
       "Array(1.83178788e-10, dtype=float64, weak_type=True)"
      ]
     },
     "execution_count": 11,
     "metadata": {},
     "output_type": "execute_result"
    }
   ],
   "source": [
    "MtimesPartialy(T,T_,kernel,params)"
   ]
  },
  {
   "cell_type": "markdown",
   "metadata": {},
   "source": [
    "$\\partial_y\\left(M(y)\\partial_{y}\\left(\\frac{K(x,y)}{M(y)}\\right)\\right)|_{x=x_m,y=x_{m'}}$"
   ]
  },
  {
   "cell_type": "code",
   "execution_count": 12,
   "metadata": {},
   "outputs": [],
   "source": [
    "T = jnp.array([2.,7.])\n",
    "T_ = jnp.array([4.,3.,2.])"
   ]
  },
  {
   "cell_type": "code",
   "execution_count": 13,
   "metadata": {},
   "outputs": [
    {
     "data": {
      "text/plain": [
       "Array([[-5.41341133e-01, -1.21306132e+00, -4.44089210e-16],\n",
       "       [ 2.33288927e-01,  9.39295358e-03,  1.30432861e-04]],      dtype=float64)"
      ]
     },
     "execution_count": 13,
     "metadata": {},
     "output_type": "execute_result"
    }
   ],
   "source": [
    "partial_MtimesPartialy(T,T_,kernel,params)"
   ]
  },
  {
   "cell_type": "markdown",
   "metadata": {},
   "source": [
    "Let's compute the biggest term"
   ]
  },
  {
   "cell_type": "code",
   "execution_count": 14,
   "metadata": {},
   "outputs": [],
   "source": [
    "t = 2.\n",
    "t_ = 3.\n",
    "kernel = Gaussian\n",
    "params = 1"
   ]
  },
  {
   "cell_type": "code",
   "execution_count": 15,
   "metadata": {},
   "outputs": [
    {
     "data": {
      "text/plain": [
       "Array(6.0653066, dtype=float64, weak_type=True)"
      ]
     },
     "execution_count": 15,
     "metadata": {},
     "output_type": "execute_result"
    }
   ],
   "source": [
    "partialy_partialx_MtimesPartialx_overMy_timesM(t,t_,kernel,params)"
   ]
  },
  {
   "cell_type": "code",
   "execution_count": 16,
   "metadata": {},
   "outputs": [],
   "source": [
    "T = jnp.array([2.,7.])\n",
    "T_ = jnp.array([4.,3.,2.])\n",
    "kernel = Gaussian\n",
    "params = 1"
   ]
  },
  {
   "cell_type": "code",
   "execution_count": 17,
   "metadata": {},
   "outputs": [
    {
     "data": {
      "text/plain": [
       "Array([[-4.06005850e+00,  3.55271368e-15,  6.00000000e+00],\n",
       "       [-2.66615917e+00, -1.15734607e-01, -1.43103482e-03]],      dtype=float64)"
      ]
     },
     "execution_count": 17,
     "metadata": {},
     "output_type": "execute_result"
    }
   ],
   "source": [
    "big_term(T,T_,kernel,params)"
   ]
  },
  {
   "attachments": {},
   "cell_type": "markdown",
   "metadata": {},
   "source": [
    "## Utils"
   ]
  },
  {
   "cell_type": "code",
   "execution_count": 18,
   "metadata": {},
   "outputs": [],
   "source": [
    "def Kphiphi_assembly(Xomega, Xboundary , h, k = 'Gaussian', k_param = 1.):\n",
    "\n",
    "  # Set kernel to use\n",
    "  if k == 'Gaussian':\n",
    "    kernel = Gaussian\n",
    "  if k == 'Matern52':\n",
    "    kernel = Matern_Kernel_52_1D\n",
    "\n",
    "  # Size of the square matrix\n",
    "  Momega = len(Xomega)\n",
    "  Mboundary = len(Xboundary)\n",
    "  M = Momega + Mboundary\n",
    "\n",
    "  # Initialize K(phi,phi)\n",
    "  Theta = jnp.zeros((M,M))\n",
    "\n",
    "  # Block 1,1 \n",
    "  val1 = K(kernel, Xomega, Xomega, k_param) # K(X,X)\n",
    "  val2 = partial_MtimesPartialx(Xomega, Xomega, kernel, k_param)\n",
    "  val3 = partial_MtimesPartialy(Xomega, Xomega, kernel, k_param)\n",
    "  val4 = big_term(Xomega, Xomega, kernel, k_param)\n",
    "  val = val1 - h*val2 - h*val3 + (h**2)*val4  \n",
    "  Theta = Theta.at[:Momega, :Momega].set(val)\n",
    "\n",
    "  # Block 1,2\n",
    "  val1 = MtimesPartialx_(Xomega, Xboundary, kernel, k_param)\n",
    "  val2 = big_term(Xomega, Xboundary, kernel, k_param)\n",
    "  val = val1 - h*val2\n",
    "  Theta = Theta.at[:Momega, Momega:].set(val)\n",
    "  Theta = Theta.at[Momega:, :Momega].set(jnp.transpose(val)) # Block 2,1\n",
    "\n",
    "  # Block 2,2\n",
    "  val = partial_partial(Xboundary, Xboundary, kernel, k_param)\n",
    "  Theta = Theta.at[Momega:, Momega:].set(val)\n",
    "\n",
    "  return Theta"
   ]
  },
  {
   "cell_type": "code",
   "execution_count": 19,
   "metadata": {},
   "outputs": [],
   "source": [
    "def Kphi_assembly(Xtest, Xomega, Xboundary , h, k = 'Gaussian', k_param = 1.):\n",
    "\n",
    "  # Set kernel to use\n",
    "  if k == 'Gaussian':\n",
    "    kernel = Gaussian\n",
    "  if k == 'Matern52':\n",
    "    kernel = Matern_Kernel_52_1D\n",
    "\n",
    "  # Size of the square matrix\n",
    "  Momega = len(Xomega)\n",
    "  Mboundary = len(Xboundary)\n",
    "  Mtest = len(Xtest)\n",
    "  M = Momega + Mboundary\n",
    "\n",
    "  # Initialize K(phi,phi)\n",
    "  Theta = jnp.zeros((M,Mtest))\n",
    "\n",
    "  # Block 1\n",
    "  val1 = K(kernel, Xomega, Xtest, k_param)\n",
    "  val2 = partial_MtimesPartialx(Xomega, Xtest, kernel, k_param)\n",
    "  val = val1 - h*val2\n",
    "  Theta = Theta.at[:Momega, :].set(val)\n",
    "\n",
    "  # Block 2\n",
    "  val = partial_KoverMx_(Xboundary , Xtest, kernel, k_param)\n",
    "  Theta = Theta.at[Momega:, :].set(val)\n",
    "\n",
    "\n",
    "  return Theta"
   ]
  },
  {
   "attachments": {},
   "cell_type": "markdown",
   "metadata": {},
   "source": [
    "## How far can we go ?"
   ]
  },
  {
   "cell_type": "code",
   "execution_count": 20,
   "metadata": {},
   "outputs": [],
   "source": [
    "# X_full\n",
    "Xfull = np.linspace(-5,5,102)\n",
    "# X_{\\partial\\Omega}\n",
    "Xboundary = Xfull[[0,-1]]\n",
    "# X_\\Omega\n",
    "Xomega = Xfull[1:-1]\n",
    "# u(X_\\Omega,0)\n",
    "u0 = fp_1d_u0(Xomega)\n",
    "# kernel\n",
    "kernel = 'Matern52'\n",
    "# Kernel lenght-scale\n",
    "k_param = 0.5\n",
    "# Time step\n",
    "h = 1e-5\n",
    "# Final time - We add 0.1 since that is the initial condition\n",
    "final_t = h + 0.1 \n",
    "# nugget\n",
    "nugget = 1e-8"
   ]
  },
  {
   "attachments": {},
   "cell_type": "markdown",
   "metadata": {},
   "source": [
    "Build `Kphiphi`"
   ]
  },
  {
   "cell_type": "code",
   "execution_count": 21,
   "metadata": {},
   "outputs": [],
   "source": [
    "Kphiphi = Kphiphi_assembly(Xomega, Xboundary, h, k = kernel, k_param = k_param)"
   ]
  },
  {
   "attachments": {},
   "cell_type": "markdown",
   "metadata": {},
   "source": [
    "Build `y_prev`"
   ]
  },
  {
   "cell_type": "code",
   "execution_count": 22,
   "metadata": {},
   "outputs": [],
   "source": [
    "y_prev = jnp.concatenate((u0,np.zeros((len(Xboundary)),)))"
   ]
  },
  {
   "attachments": {},
   "cell_type": "markdown",
   "metadata": {},
   "source": [
    "Compute $K(\\varphi,\\varphi)^{-1}y_{\\text{prev}}$"
   ]
  },
  {
   "cell_type": "code",
   "execution_count": 23,
   "metadata": {},
   "outputs": [],
   "source": [
    "R = jnp.diag(jnp.diag(Kphiphi))\n",
    "#sol = jnp.linalg.solve(Kphiphi + nugget*R,y_prev)\n",
    "sol = jnp.linalg.solve(Kphiphi,y_prev)"
   ]
  },
  {
   "attachments": {},
   "cell_type": "markdown",
   "metadata": {},
   "source": [
    "Get `K(Xtest,Xfull)`"
   ]
  },
  {
   "cell_type": "code",
   "execution_count": 24,
   "metadata": {},
   "outputs": [],
   "source": [
    "Kphi = Kphi_assembly(Xfull, Xomega, Xboundary, h, k = kernel, k_param = k_param)"
   ]
  },
  {
   "cell_type": "code",
   "execution_count": 25,
   "metadata": {},
   "outputs": [],
   "source": [
    "u_next = np.dot(Kphi.T,sol)"
   ]
  },
  {
   "cell_type": "code",
   "execution_count": 26,
   "metadata": {},
   "outputs": [
    {
     "data": {
      "image/png": "[encoded data removed]",
      "text/plain": [
       "<Figure size 640x480 with 1 Axes>"
      ]
     },
     "metadata": {},
     "output_type": "display_data"
    }
   ],
   "source": [
    "# Initial condition\n",
    "plt.plot(Xfull,fp_1d_u0(Xfull),'.-',label='init')\n",
    "# True next\n",
    "plt.plot(Xfull,fp_1d_sol(final_t, Xfull),'.-',label='true_next')\n",
    "# Predicted next\n",
    "plt.plot(Xfull,u_next,'.-',label='pred_next')\n",
    "# Plot settings \n",
    "nmse = mean_squared_error(u_next,fp_1d_sol(final_t, Xfull))/mean_squared_error(0*fp_1d_sol(final_t, Xfull),fp_1d_sol(final_t, Xfull))\n",
    "plt.title('t = {} | Normalized MSE:{}'.format(h, round(nmse,7)))\n",
    "plt.legend()\n",
    "plt.show()"
   ]
  },
  {
   "attachments": {},
   "cell_type": "markdown",
   "metadata": {},
   "source": [
    "## Let's take small steps "
   ]
  },
  {
   "cell_type": "code",
   "execution_count": 27,
   "metadata": {},
   "outputs": [],
   "source": [
    "final_t = 0.5\n",
    "masses = []\n",
    "steps = int((final_t-0.1)//h)\n",
    "delta = Xfull[1]-Xfull[0]\n",
    "# Initialize at the initial condition\n",
    "uprev = u0\n",
    "for _ in range(steps):\n",
    "    y_prev = jnp.concatenate((uprev,np.zeros((len(Xboundary)),)))\n",
    "    #sol = jnp.linalg.solve(Kphiphi + nugget*R,y_prev)\n",
    "    sol = jnp.linalg.solve(Kphiphi, y_prev)\n",
    "    u_next = np.dot(Kphi.T,sol)\n",
    "    mass = trap(u_next,delta)\n",
    "    masses.append(mass)\n",
    "    # update\n",
    "    uprev = u_next[1:-1]"
   ]
  },
  {
   "cell_type": "code",
   "execution_count": 28,
   "metadata": {},
   "outputs": [
    {
     "data": {
      "image/png": "[encoded data removed]",
      "text/plain": [
       "<Figure size 640x480 with 1 Axes>"
      ]
     },
     "metadata": {},
     "output_type": "display_data"
    }
   ],
   "source": [
    "plt.figure()\n",
    "# Initial condition\n",
    "plt.plot(Xfull,fp_1d_u0(Xfull),'.-',label='init')\n",
    "# True next\n",
    "plt.plot(Xfull,fp_1d_sol(final_t, Xfull),'.-',label='true_next')\n",
    "# Predicted next\n",
    "plt.plot(Xfull,u_next,'.-',label='pred_next')\n",
    "# Plot settings\n",
    "nmse = mean_squared_error(u_next,fp_1d_sol(final_t, Xfull))/mean_squared_error(0*fp_1d_sol(final_t, Xfull),fp_1d_sol(final_t, Xfull))\n",
    "plt.title('final_t = {}, $\\Delta t = ${} | Normalized MSE:{}'.format(final_t, h, round(nmse,7)))\n",
    "plt.legend()\n",
    "plt.show()"
   ]
  },
  {
   "cell_type": "markdown",
   "metadata": {},
   "source": [
    "### Mass conservation"
   ]
  },
  {
   "cell_type": "code",
   "execution_count": 29,
   "metadata": {},
   "outputs": [
    {
     "data": {
      "text/plain": [
       "0.9997768307719392"
      ]
     },
     "execution_count": 29,
     "metadata": {},
     "output_type": "execute_result"
    }
   ],
   "source": [
    "masses[-1]"
   ]
  },
  {
   "cell_type": "code",
   "execution_count": 30,
   "metadata": {},
   "outputs": [
    {
     "name": "stderr",
     "output_type": "stream",
     "text": [
      "No artists with labels found to put in legend.  Note that artists whose label start with an underscore are ignored when legend() is called with no argument.\n"
     ]
    },
    {
     "data": {
      "image/png": "[encoded data removed]",
      "text/plain": [
       "<Figure size 640x480 with 1 Axes>"
      ]
     },
     "metadata": {},
     "output_type": "display_data"
    }
   ],
   "source": [
    "t_s = np.arange(0.1, final_t, h)[1:]\n",
    "plt.figure()\n",
    "# masses per time\n",
    "plt.plot(t_s,masses,'.-',)\n",
    "plt.ylim([0,2])\n",
    "plt.title('final_t = {}, $\\Delta t = ${} '.format(final_t, h))\n",
    "plt.legend()\n",
    "plt.show()"
   ]
  },
  {
   "attachments": {},
   "cell_type": "markdown",
   "metadata": {},
   "source": [
    "## Convergence"
   ]
  },
  {
   "cell_type": "code",
   "execution_count": 31,
   "metadata": {},
   "outputs": [],
   "source": [
    "nugget = 0."
   ]
  },
  {
   "cell_type": "markdown",
   "metadata": {},
   "source": [
    "### Experiment 1"
   ]
  },
  {
   "cell_type": "markdown",
   "metadata": {},
   "source": [
    "- $h = $`1e-1`\n",
    "- `final_t`$ = 2$\n",
    "- Collocation points increasing from $2^2$ to $2^{10}$"
   ]
  },
  {
   "cell_type": "code",
   "execution_count": 32,
   "metadata": {},
   "outputs": [
    {
     "name": "stdout",
     "output_type": "stream",
     "text": [
      "0.4840127840209582\n",
      "0.5318349805566507\n",
      "0.5320244274410558\n",
      "0.5320160406978383\n",
      "0.5176432699859396\n",
      "0.3334997206817163\n",
      "0.11867602063965019\n",
      "0.03251147630273806\n"
     ]
    }
   ],
   "source": [
    "# Experiment 1.1 - L2-norms\n",
    "L2_norms_1 = []\n",
    "xrange = 2**np.arange(2,10)\n",
    "for n in range(2,10):\n",
    "    # X_full\n",
    "    Xfull = np.linspace(-5,5,2**n+2)\n",
    "    # Delta\n",
    "    delta = Xfull[1]-Xfull[0]\n",
    "    # X_{\\partial\\Omega}\n",
    "    Xboundary = Xfull[[0,-1]]\n",
    "    # X_\\Omega\n",
    "    Xomega = Xfull[1:-1]\n",
    "    # u(X_\\Omega,0)\n",
    "    u0 = fp_1d_u0(Xomega)\n",
    "    # Kernel lenght-scale\n",
    "    k_param = 0.5\n",
    "    # Time step\n",
    "    h = 1e-1\n",
    "    # Final t\n",
    "    final_t = 2.5\n",
    "    # No. of steps\n",
    "    steps = int((final_t-0.1)//h)\n",
    "    # Compute Kphiphi\n",
    "    Kphiphi = Kphiphi_assembly(Xomega, Xboundary, h, k = kernel, k_param = k_param)\n",
    "    # Regularizer for Kphiphi\n",
    "    R = jnp.diag(jnp.diag(Kphiphi))\n",
    "    # Compute Kphi againts Xfull which will be the test set\n",
    "    Kphi = Kphi_assembly(Xfull, Xomega, Xboundary, h, k = kernel, k_param = k_param)\n",
    "    \n",
    "    uprev = u0\n",
    "    for _ in range(steps):\n",
    "        y_prev = jnp.concatenate((uprev,np.zeros((len(Xboundary)),)))\n",
    "        sol = jnp.linalg.solve(Kphiphi + nugget*R, y_prev)\n",
    "        u_next = np.dot(Kphi.T,sol)\n",
    "        # update\n",
    "        uprev = u_next[1:-1]\n",
    "    \n",
    "    # Numerical\n",
    "    u_next = np.dot(Kphi.T,sol)\n",
    "    # Analytical\n",
    "    u_true = fp_1d_sol(final_t, Xfull)   \n",
    "    # Differences\n",
    "    f = np.abs(u_next - u_true)**2\n",
    "    # Append L2 norm per iteration\n",
    "    L2_norms_1.append(trap(f,delta))\n",
    "    # Print L2 norm per iteration\n",
    "    print(trap(f,delta))"
   ]
  },
  {
   "cell_type": "markdown",
   "metadata": {},
   "source": [
    "- $h = $`1e-2`\n",
    "- `final_t`$ = 2$\n",
    "- Collocation points increasing from $2^2$ to $2^{10}$"
   ]
  },
  {
   "cell_type": "code",
   "execution_count": 33,
   "metadata": {},
   "outputs": [
    {
     "name": "stdout",
     "output_type": "stream",
     "text": [
      "0.48401278388909624\n",
      "0.5318349193337487\n",
      "0.5306384376800619\n",
      "0.41979235028054057\n",
      "0.1719955123032026\n",
      "0.04967976353132331\n",
      "0.012864420344297474\n",
      "0.003190457160288305\n"
     ]
    }
   ],
   "source": [
    "# Experiment 1.2 - L2-norms\n",
    "L2_norms_2 = []\n",
    "xrange = 2**np.arange(2,10)\n",
    "for n in range(2,10):\n",
    "    # X_full\n",
    "    Xfull = np.linspace(-5,5,2**n+2)\n",
    "    # Delta\n",
    "    delta = Xfull[1]-Xfull[0]\n",
    "    # X_{\\partial\\Omega}\n",
    "    Xboundary = Xfull[[0,-1]]\n",
    "    # X_\\Omega\n",
    "    Xomega = Xfull[1:-1]\n",
    "    # u(X_\\Omega,0)\n",
    "    u0 = fp_1d_u0(Xomega)\n",
    "    # Kernel lenght-scale\n",
    "    k_param = 0.5\n",
    "    # Time step\n",
    "    h = 1e-2\n",
    "    # Final t\n",
    "    final_t = 2.5\n",
    "    # No. of steps\n",
    "    steps = int((final_t-0.1)//h)\n",
    "    # Compute Kphiphi\n",
    "    Kphiphi = Kphiphi_assembly(Xomega, Xboundary, h, k = kernel, k_param = k_param)\n",
    "    # Regularizer for Kphiphi\n",
    "    R = jnp.diag(jnp.diag(Kphiphi))\n",
    "    # Compute Kphi againts Xfull which will be the test set\n",
    "    Kphi = Kphi_assembly(Xfull, Xomega, Xboundary, h, k = kernel, k_param = k_param)\n",
    "    \n",
    "    uprev = u0\n",
    "    for _ in range(steps):\n",
    "        y_prev = jnp.concatenate((uprev,np.zeros((len(Xboundary)),)))\n",
    "        sol = jnp.linalg.solve(Kphiphi + nugget*R, y_prev)\n",
    "        u_next = np.dot(Kphi.T,sol)\n",
    "        # update\n",
    "        uprev = u_next[1:-1]\n",
    "    \n",
    "    # Numerical\n",
    "    u_next = np.dot(Kphi.T,sol)\n",
    "    # Analytical\n",
    "    u_true = fp_1d_sol(final_t, Xfull)   \n",
    "    # Differences\n",
    "    f = np.abs(u_next - u_true)**2\n",
    "    # Append L2 norm per iteration\n",
    "    L2_norms_2.append(trap(f,delta))\n",
    "    # Print L2 norm per iteration\n",
    "    print(trap(f,delta))"
   ]
  },
  {
   "cell_type": "markdown",
   "metadata": {},
   "source": [
    "- $h = $`1e-3`\n",
    "- `final_t`$ = 0.2$\n",
    "- Collocation points increasing from $2^2$ to $2^{10}$"
   ]
  },
  {
   "cell_type": "code",
   "execution_count": 34,
   "metadata": {},
   "outputs": [
    {
     "name": "stdout",
     "output_type": "stream",
     "text": [
      "0.4840127048978171\n",
      "0.5318067472264195\n",
      "0.48316456797364554\n",
      "0.15144756817652277\n",
      "0.027028527431421593\n",
      "0.00563321771534434\n",
      "0.0013259604279984103\n",
      "0.00032078909160952165\n"
     ]
    }
   ],
   "source": [
    "# Experiment 1.3 - L2-norms\n",
    "L2_norms_3 = []\n",
    "xrange = 2**np.arange(2,10)\n",
    "for n in range(2,10):\n",
    "    # X_full\n",
    "    Xfull = np.linspace(-5,5,2**n+2)\n",
    "    # Delta\n",
    "    delta = Xfull[1]-Xfull[0]\n",
    "    # X_{\\partial\\Omega}\n",
    "    Xboundary = Xfull[[0,-1]]\n",
    "    # X_\\Omega\n",
    "    Xomega = Xfull[1:-1]\n",
    "    # u(X_\\Omega,0)\n",
    "    u0 = fp_1d_u0(Xomega)\n",
    "    # Kernel lenght-scale\n",
    "    k_param = 0.5\n",
    "    # Time step\n",
    "    h = 1e-3\n",
    "    # Final t\n",
    "    final_t = 2.5\n",
    "    # No. of steps\n",
    "    steps = int((final_t-0.1)//h)\n",
    "    # Compute Kphiphi\n",
    "    Kphiphi = Kphiphi_assembly(Xomega, Xboundary, h, k = kernel, k_param = k_param)\n",
    "    # Regularizer for Kphiphi\n",
    "    R = jnp.diag(jnp.diag(Kphiphi))\n",
    "    # Compute Kphi againts Xfull which will be the test set\n",
    "    Kphi = Kphi_assembly(Xfull, Xomega, Xboundary, h, k = kernel, k_param = k_param)\n",
    "    \n",
    "    uprev = u0\n",
    "    for _ in range(steps):\n",
    "        y_prev = jnp.concatenate((uprev,np.zeros((len(Xboundary)),)))\n",
    "        sol = jnp.linalg.solve(Kphiphi + nugget*R, y_prev)\n",
    "        u_next = np.dot(Kphi.T,sol)\n",
    "        # update\n",
    "        uprev = u_next[1:-1]\n",
    "    \n",
    "    # Numerical\n",
    "    u_next = np.dot(Kphi.T,sol)\n",
    "    # Analytical\n",
    "    u_true = fp_1d_sol(final_t, Xfull)   \n",
    "    # Differences\n",
    "    f = np.abs(u_next - u_true)**2\n",
    "    # Append L2 norm per iteration\n",
    "    L2_norms_3.append(trap(f,delta))\n",
    "    # Print L2 norm per iteration\n",
    "    print(trap(f,delta))"
   ]
  },
  {
   "cell_type": "markdown",
   "metadata": {},
   "source": [
    "- $h = $`1e-4`\n",
    "- `final_t`$ = 0.2$\n",
    "- Collocation points increasing from $2^2$ to $2^{10}$"
   ]
  },
  {
   "cell_type": "code",
   "execution_count": 35,
   "metadata": {},
   "outputs": [
    {
     "name": "stdout",
     "output_type": "stream",
     "text": [
      "0.4840126194666929\n",
      "0.531779759472247\n",
      "0.46171308190476595\n",
      "0.10195696382701298\n",
      "0.009697141536637484\n",
      "0.001029591999043271\n",
      "0.00016241219430579868\n",
      "3.3984941764191274e-05\n"
     ]
    }
   ],
   "source": [
    "# Experiment 1.4 - L2-norms\n",
    "L2_norms_4 = []\n",
    "xrange = 2**np.arange(2,10)\n",
    "for n in range(2,10):\n",
    "    # X_full\n",
    "    Xfull = np.linspace(-5,5,2**n+2)\n",
    "    # Delta\n",
    "    delta = Xfull[1]-Xfull[0]\n",
    "    # X_{\\partial\\Omega}\n",
    "    Xboundary = Xfull[[0,-1]]\n",
    "    # X_\\Omega\n",
    "    Xomega = Xfull[1:-1]\n",
    "    # u(X_\\Omega,0)\n",
    "    u0 = fp_1d_u0(Xomega)\n",
    "    # Kernel lenght-scale\n",
    "    k_param = 0.5\n",
    "    # Time step\n",
    "    h = 1e-4\n",
    "    # Final t\n",
    "    final_t = 2.5\n",
    "    # No. of steps\n",
    "    steps = int((final_t-0.1)//h)\n",
    "    # Compute Kphiphi\n",
    "    Kphiphi = Kphiphi_assembly(Xomega, Xboundary, h, k = kernel, k_param = k_param)\n",
    "    # Regularizer for Kphiphi\n",
    "    R = jnp.diag(jnp.diag(Kphiphi))\n",
    "    # Compute Kphi againts Xfull which will be the test set\n",
    "    Kphi = Kphi_assembly(Xfull, Xomega, Xboundary, h, k = kernel, k_param = k_param)\n",
    "    \n",
    "    uprev = u0\n",
    "    for _ in range(steps):\n",
    "        y_prev = jnp.concatenate((uprev,np.zeros((len(Xboundary)),)))\n",
    "        sol = jnp.linalg.solve(Kphiphi + nugget*R, y_prev)\n",
    "        u_next = np.dot(Kphi.T,sol)\n",
    "        # update\n",
    "        uprev = u_next[1:-1]\n",
    "    \n",
    "    # Numerical\n",
    "    u_next = np.dot(Kphi.T,sol)\n",
    "    # Analytical\n",
    "    u_true = fp_1d_sol(final_t, Xfull)   \n",
    "    # Differences\n",
    "    f = np.abs(u_next - u_true)**2\n",
    "    # Append L2 norm per iteration\n",
    "    L2_norms_4.append(trap(f,delta))\n",
    "    # Print L2 norm per iteration\n",
    "    print(trap(f,delta))"
   ]
  },
  {
   "cell_type": "code",
   "execution_count": 36,
   "metadata": {},
   "outputs": [
    {
     "data": {
      "image/png": "[encoded data removed]",
      "text/plain": [
       "<Figure size 640x480 with 1 Axes>"
      ]
     },
     "metadata": {},
     "output_type": "display_data"
    }
   ],
   "source": [
    "# One plot\n",
    "plt.loglog(xrange,L2_norms_1,label = 'h = 1e-1', marker = 'o')\n",
    "plt.loglog(xrange,L2_norms_2,label = 'h = 1e-2', marker = 'o')\n",
    "plt.loglog(xrange,L2_norms_3,label = 'h = 1e-3', marker = 'o')\n",
    "plt.loglog(xrange,L2_norms_4,label = 'h = 1e-4', marker = 'o')\n",
    "plt.xlabel('N')\n",
    "plt.ylabel('L2-Error')\n",
    "plt.legend()\n",
    "plt.title('Convergence of the method (loglog)')\n",
    "plt.show()"
   ]
  },
  {
   "cell_type": "markdown",
   "metadata": {},
   "source": [
    "### Experiment 2"
   ]
  },
  {
   "cell_type": "markdown",
   "metadata": {},
   "source": [
    "- $h$ decreasing from `1e-2` to `1e-5`\n",
    "- `final_t`$ = 0.5$\n",
    "- Collocation points = $2^5$"
   ]
  },
  {
   "cell_type": "code",
   "execution_count": 37,
   "metadata": {},
   "outputs": [
    {
     "name": "stdout",
     "output_type": "stream",
     "text": [
      "0.41979235028054057\n",
      "0.15144756817652277\n",
      "0.10195696382701298\n",
      "0.09666776579980127\n"
     ]
    }
   ],
   "source": [
    "# Experiment 2.1 - L2-norms\n",
    "L2_norms_1 = []\n",
    "xrange = 10.0**(-np.arange(2,6))\n",
    "for n in range(2,6):\n",
    "    # X_full\n",
    "    Xfull = np.linspace(-5,5,2**5+2)\n",
    "    # Delta\n",
    "    delta = Xfull[1]-Xfull[0]\n",
    "    # X_{\\partial\\Omega}\n",
    "    Xboundary = Xfull[[0,-1]]\n",
    "    # X_\\Omega\n",
    "    Xomega = Xfull[1:-1]\n",
    "    # u(X_\\Omega,0)\n",
    "    u0 = fp_1d_u0(Xomega)\n",
    "    # Kernel lenght-scale\n",
    "    k_param = 0.5\n",
    "    # Time step\n",
    "    h = 10**(-n)\n",
    "    # Final t\n",
    "    final_t = 2.5\n",
    "    # No. of steps\n",
    "    steps = int((final_t-0.1)//h)\n",
    "    # Compute Kphiphi\n",
    "    Kphiphi = Kphiphi_assembly(Xomega, Xboundary, h, k = kernel, k_param = k_param)\n",
    "    # Regularizer for Kphiphi\n",
    "    R = jnp.diag(jnp.diag(Kphiphi))\n",
    "    # Compute Kphi againts Xfull which will be the test set\n",
    "    Kphi = Kphi_assembly(Xfull, Xomega, Xboundary, h, k = kernel, k_param = k_param)\n",
    "    \n",
    "    uprev = u0\n",
    "    for _ in range(steps):\n",
    "        y_prev = jnp.concatenate((uprev,np.zeros((len(Xboundary)),)))\n",
    "        sol = jnp.linalg.solve(Kphiphi + nugget*R, y_prev)\n",
    "        u_next = np.dot(Kphi.T,sol)\n",
    "        # update\n",
    "        uprev = u_next[1:-1]\n",
    "    \n",
    "    # Numerical\n",
    "    u_next = np.dot(Kphi.T,sol)\n",
    "    # Analytical\n",
    "    u_true = fp_1d_sol(final_t, Xfull)   \n",
    "    # Differences\n",
    "    f = np.abs(u_next - u_true)**2\n",
    "    # Append L2 norm per iteration\n",
    "    L2_norms_1.append(trap(f,delta))\n",
    "    # Print L2 norm per iteration\n",
    "    print(trap(f,delta))"
   ]
  },
  {
   "cell_type": "markdown",
   "metadata": {},
   "source": [
    "- $h$ decreasing from `1e-2` to `1e-5`\n",
    "- `final_t`$= 0.5$\n",
    "- Collocation points = $2^6$"
   ]
  },
  {
   "cell_type": "code",
   "execution_count": 38,
   "metadata": {},
   "outputs": [
    {
     "name": "stdout",
     "output_type": "stream",
     "text": [
      "0.1719955123032026\n"
     ]
    },
    {
     "name": "stdout",
     "output_type": "stream",
     "text": [
      "0.027028527431421593\n",
      "0.009697141536637484\n",
      "0.00793224479591271\n"
     ]
    }
   ],
   "source": [
    "# Experiment 2.2 - L2-norms\n",
    "L2_norms_2 = []\n",
    "xrange = 10.0**(-np.arange(2,6))\n",
    "for n in range(2,6):\n",
    "    # X_full\n",
    "    Xfull = np.linspace(-5,5,2**6+2)\n",
    "    # Delta\n",
    "    delta = Xfull[1]-Xfull[0]\n",
    "    # X_{\\partial\\Omega}\n",
    "    Xboundary = Xfull[[0,-1]]\n",
    "    # X_\\Omega\n",
    "    Xomega = Xfull[1:-1]\n",
    "    # u(X_\\Omega,0)\n",
    "    u0 = fp_1d_u0(Xomega)\n",
    "    # Kernel lenght-scale\n",
    "    k_param = 0.5\n",
    "    # Time step\n",
    "    h = 10**(-n)\n",
    "    # Final t\n",
    "    final_t = 2.5\n",
    "    # No. of steps\n",
    "    steps = int((final_t-0.1)//h)\n",
    "    # Compute Kphiphi\n",
    "    Kphiphi = Kphiphi_assembly(Xomega, Xboundary, h, k = kernel, k_param = k_param)\n",
    "    # Regularizer for Kphiphi\n",
    "    R = jnp.diag(jnp.diag(Kphiphi))\n",
    "    # Compute Kphi againts Xfull which will be the test set\n",
    "    Kphi = Kphi_assembly(Xfull, Xomega, Xboundary, h, k = kernel, k_param = k_param)\n",
    "    \n",
    "    uprev = u0\n",
    "    for _ in range(steps):\n",
    "        y_prev = jnp.concatenate((uprev,np.zeros((len(Xboundary)),)))\n",
    "        sol = jnp.linalg.solve(Kphiphi + nugget*R, y_prev)\n",
    "        u_next = np.dot(Kphi.T,sol)\n",
    "        # update\n",
    "        uprev = u_next[1:-1]\n",
    "    \n",
    "    # Numerical\n",
    "    u_next = np.dot(Kphi.T,sol)\n",
    "    # Analytical\n",
    "    u_true = fp_1d_sol(final_t, Xfull)   \n",
    "    # Differences\n",
    "    f = np.abs(u_next - u_true)**2\n",
    "    # Append L2 norm per iteration\n",
    "    L2_norms_2.append(trap(f,delta))\n",
    "    # Print L2 norm per iteration\n",
    "    print(trap(f,delta))"
   ]
  },
  {
   "cell_type": "markdown",
   "metadata": {},
   "source": [
    "- $h$ decreasing from `1e-2` to `1e-5`\n",
    "- `final_t`$= 0.5$\n",
    "- Collocation points = $2^7$"
   ]
  },
  {
   "cell_type": "code",
   "execution_count": 39,
   "metadata": {},
   "outputs": [
    {
     "name": "stdout",
     "output_type": "stream",
     "text": [
      "0.04967976353132331\n",
      "0.00563321771534434\n",
      "0.001029591999043271\n",
      "0.0005672058987458489\n"
     ]
    }
   ],
   "source": [
    "# Experiment 2.3 - L2-norms\n",
    "L2_norms_3 = []\n",
    "xrange = 10.0**(-np.arange(2,6))\n",
    "for n in range(2,6):\n",
    "    # X_full\n",
    "    Xfull = np.linspace(-5,5,2**7+2)\n",
    "    # Delta\n",
    "    delta = Xfull[1]-Xfull[0]\n",
    "    # X_{\\partial\\Omega}\n",
    "    Xboundary = Xfull[[0,-1]]\n",
    "    # X_\\Omega\n",
    "    Xomega = Xfull[1:-1]\n",
    "    # u(X_\\Omega,0)\n",
    "    u0 = fp_1d_u0(Xomega)\n",
    "    # Kernel lenght-scale\n",
    "    k_param = 0.5\n",
    "    # Time step\n",
    "    h = 10**(-n)\n",
    "    # Final t\n",
    "    final_t = 2.5\n",
    "    # No. of steps\n",
    "    steps = int((final_t-0.1)//h)\n",
    "    # Compute Kphiphi\n",
    "    Kphiphi = Kphiphi_assembly(Xomega, Xboundary, h, k = kernel, k_param = k_param)\n",
    "    # Regularizer for Kphiphi\n",
    "    R = jnp.diag(jnp.diag(Kphiphi))\n",
    "    # Compute Kphi againts Xfull which will be the test set\n",
    "    Kphi = Kphi_assembly(Xfull, Xomega, Xboundary, h, k = kernel, k_param = k_param)\n",
    "    \n",
    "    uprev = u0\n",
    "    for _ in range(steps):\n",
    "        y_prev = jnp.concatenate((uprev,np.zeros((len(Xboundary)),)))\n",
    "        sol = jnp.linalg.solve(Kphiphi + nugget*R, y_prev)\n",
    "        u_next = np.dot(Kphi.T,sol)\n",
    "        # update\n",
    "        uprev = u_next[1:-1]\n",
    "    \n",
    "    # Numerical\n",
    "    u_next = np.dot(Kphi.T,sol)\n",
    "    # Analytical\n",
    "    u_true = fp_1d_sol(final_t, Xfull)   \n",
    "    # Differences\n",
    "    f = np.abs(u_next - u_true)**2\n",
    "    # Append L2 norm per iteration\n",
    "    L2_norms_3.append(trap(f,delta))\n",
    "    # Print L2 norm per iteration\n",
    "    print(trap(f,delta))"
   ]
  },
  {
   "cell_type": "markdown",
   "metadata": {},
   "source": [
    "- $h$ decreasing from `1e-2` to `1e-5`\n",
    "- `final_t`$= 0.5$\n",
    "- Collocation points = $2^8$"
   ]
  },
  {
   "cell_type": "code",
   "execution_count": 40,
   "metadata": {},
   "outputs": [
    {
     "name": "stdout",
     "output_type": "stream",
     "text": [
      "0.012864420344297474\n"
     ]
    },
    {
     "name": "stdout",
     "output_type": "stream",
     "text": [
      "0.0013259604279984103\n",
      "0.00016241219430579868\n",
      "4.5974306503454416e-05\n"
     ]
    }
   ],
   "source": [
    "# Experiment 2.4 - L2-norms\n",
    "L2_norms_4 = []\n",
    "xrange = 10.0**(-np.arange(2,6))\n",
    "for n in range(2,6):\n",
    "    # X_full\n",
    "    Xfull = np.linspace(-5,5,2**8+2)\n",
    "    # Delta\n",
    "    delta = Xfull[1]-Xfull[0]\n",
    "    # X_{\\partial\\Omega}\n",
    "    Xboundary = Xfull[[0,-1]]\n",
    "    # X_\\Omega\n",
    "    Xomega = Xfull[1:-1]\n",
    "    # u(X_\\Omega,0)\n",
    "    u0 = fp_1d_u0(Xomega)\n",
    "    # Kernel lenght-scale\n",
    "    k_param = 0.5\n",
    "    # Time step\n",
    "    h = 10**(-n)\n",
    "    # Final t\n",
    "    final_t = 2.5\n",
    "    # No. of steps\n",
    "    steps = int((final_t-0.1)//h)\n",
    "    # Compute Kphiphi\n",
    "    Kphiphi = Kphiphi_assembly(Xomega, Xboundary, h, k = kernel, k_param = k_param)\n",
    "    # Regularizer for Kphiphi\n",
    "    R = jnp.diag(jnp.diag(Kphiphi))\n",
    "    # Compute Kphi againts Xfull which will be the test set\n",
    "    Kphi = Kphi_assembly(Xfull, Xomega, Xboundary, h, k = kernel, k_param = k_param)\n",
    "    \n",
    "    uprev = u0\n",
    "    for _ in range(steps):\n",
    "        y_prev = jnp.concatenate((uprev,np.zeros((len(Xboundary)),)))\n",
    "        sol = jnp.linalg.solve(Kphiphi + nugget*R, y_prev)\n",
    "        u_next = np.dot(Kphi.T,sol)\n",
    "        # update\n",
    "        uprev = u_next[1:-1]\n",
    "    \n",
    "    # Numerical\n",
    "    u_next = np.dot(Kphi.T,sol)\n",
    "    # Analytical\n",
    "    u_true = fp_1d_sol(final_t, Xfull)   \n",
    "    # Differences\n",
    "    f = np.abs(u_next - u_true)**2\n",
    "    # Append L2 norm per iteration\n",
    "    L2_norms_4.append(trap(f,delta))\n",
    "    # Print L2 norm per iteration\n",
    "    print(trap(f,delta))"
   ]
  },
  {
   "cell_type": "code",
   "execution_count": 41,
   "metadata": {},
   "outputs": [
    {
     "data": {
      "image/png": "[encoded data removed]",
      "text/plain": [
       "<Figure size 640x480 with 1 Axes>"
      ]
     },
     "metadata": {},
     "output_type": "display_data"
    }
   ],
   "source": [
    "# One plot\n",
    "plt.loglog(xrange,L2_norms_1,label = 'N = 2^5', marker = 'o')\n",
    "plt.loglog(xrange,L2_norms_2,label = 'N = 2^6', marker = 'o')\n",
    "plt.loglog(xrange,L2_norms_3,label = 'N = 2^7', marker = 'o')\n",
    "plt.loglog(xrange,L2_norms_4,label = 'N = 2^8', marker = 'o')\n",
    "plt.xlabel('h')\n",
    "plt.ylabel('L2-Error')\n",
    "plt.legend()\n",
    "plt.title('Convergence of the method (loglog)')\n",
    "plt.show()"
   ]
  }
 ],
 "metadata": {
  "kernelspec": {
   "display_name": "base",
   "language": "python",
   "name": "python3"
  },
  "language_info": {
   "codemirror_mode": {
    "name": "ipython",
    "version": 3
   },
   "file_extension": ".py",
   "mimetype": "text/x-python",
   "name": "python",
   "nbconvert_exporter": "python",
   "pygments_lexer": "ipython3",
   "version": "3.11.3"
  },
  "orig_nbformat": 4
 },
 "nbformat": 4,
 "nbformat_minor": 2
}
