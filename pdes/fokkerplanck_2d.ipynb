{
 "cells": [
  {
   "cell_type": "markdown",
   "metadata": {},
   "source": [
    "Tools"
   ]
  },
  {
   "cell_type": "code",
   "execution_count": 46,
   "metadata": {},
   "outputs": [],
   "source": [
    "import sys  \n",
    "sys.path.append('/home/josorior/kinetick/source')"
   ]
  },
  {
   "cell_type": "code",
   "execution_count": 47,
   "metadata": {},
   "outputs": [],
   "source": [
    "# Standard tool packages\n",
    "import jax\n",
    "from jax import grad, jacfwd, hessian\n",
    "from jax import vmap\n",
    "import jax.numpy as jnp\n",
    "from jax.numpy import logical_and\n",
    "import matplotlib.pyplot as plt\n",
    "# My tools\n",
    "from models import *\n",
    "from mykernels import get_gaussianRBF\n",
    "# Settings\n",
    "#plt.style.use('seaborn-v0_8')\n",
    "plt.rcParams[\"figure.figsize\"] = (5, 5)"
   ]
  },
  {
   "cell_type": "markdown",
   "metadata": {},
   "source": [
    "## PDE"
   ]
  },
  {
   "cell_type": "markdown",
   "metadata": {},
   "source": [
    "Let $M(x) = \\exp\\left(-0.5(x_1^2 + x_2^2)\\right)$. The Fokker-Planck equation in 2d is given by\n",
    "$$\n",
    "\\begin{align*}\n",
    "\n",
    "\\partial_t \\rho (t,x) &= \\text{div}\\left(M(x)\\nabla\\left(\\frac{\\rho(t,x)}{M(x)}\\right)\\right) & \\text{for } t >0, x \\in \\Omega = (-3,3)^2 \\\\\n",
    "\\rho(0,x) &= \\rho^0(x), &\\text{for } x \\in \\Omega \\\\\n",
    "\\nabla\\left(\\frac{\\rho(t,x)}{M(x)} \\cdot \\mathbf{n}\\right) &= 0, & \\text{for } t >0, x \\in \\partial\\Omega = (-3,3)^2\n",
    "\\end{align*}\n",
    "$$\n",
    "whose analytical solution is known to be\n",
    "$$\n",
    "\\rho(t, x)=\\frac{1}{2 \\pi\\left(1-e^{-2 t}\\right)} e^{-\\frac{x_1^2+x_2^2}{2\\left(1-e^{-2 t}\\right)}}.\n",
    "$$\n",
    "\n",
    "We will use the kernel method in closed form since the PDE operator is linear.\n"
   ]
  },
  {
   "cell_type": "markdown",
   "metadata": {},
   "source": [
    "## Kernel solution"
   ]
  },
  {
   "cell_type": "markdown",
   "metadata": {},
   "source": [
    "Choose a kernel"
   ]
  },
  {
   "cell_type": "code",
   "execution_count": 48,
   "metadata": {},
   "outputs": [],
   "source": [
    "k = get_gaussianRBF(0.2)"
   ]
  },
  {
   "cell_type": "markdown",
   "metadata": {},
   "source": [
    "Note: This is 2d time dependent problem meaning that the kernel actually is of the form\n",
    "$$\n",
    "K(s,w)\n",
    "$$\n",
    "where $s = (t,x_1,x_2)$ and $w = (\\tau,y_1,y_2)$"
   ]
  },
  {
   "cell_type": "markdown",
   "metadata": {},
   "source": [
    "First we choose collocation pointsets $\\Omega^*\\subset\\Omega$ and $\\Omega^*\\subset\\partial\\Omega$"
   ]
  },
  {
   "cell_type": "code",
   "execution_count": 49,
   "metadata": {},
   "outputs": [],
   "source": [
    "# \\Omega\n",
    "M_int = int(jnp.sqrt(500))\n",
    "x_1 = jnp.linspace(-3,3,M_int)[1:]\n",
    "x_2 = x_1\n",
    "X_1, X_2 = jnp.meshgrid(x_1, x_2)\n",
    "pairs_int = jnp.vstack([X_1.ravel(),X_2.ravel()]).T\n",
    "M_int = pairs_int.shape[0]\n",
    "# \\partial\\Omega\n",
    "M_bdry = int(25*4)\n",
    "bottom = jnp.vstack((jnp.linspace(-3,3,M_bdry//4), jnp.tile(-3,M_bdry//4))).T\n",
    "top = jnp.vstack((jnp.linspace(-3,3,M_bdry//4), jnp.tile(3,M_bdry//4))).T\n",
    "left = jnp.vstack((jnp.tile(-3,M_bdry//4),jnp.linspace(-3,3,M_bdry//4))).T[1:-1]\n",
    "right = jnp.vstack((jnp.tile(3,M_bdry//4),jnp.linspace(-3,3,M_bdry//4))).T[1:-1]\n",
    "pairs_bdry = jnp.vstack((left,bottom,right,top))\n",
    "M_bdry = pairs_bdry.shape[0]"
   ]
  },
  {
   "cell_type": "markdown",
   "metadata": {},
   "source": [
    "Build the kernel matrix $K(\\phi,\\phi)$ where $\\phi = [\\phi_\\Omega, \\phi_{\\partial\\Omega}]$ and\n",
    "$$\n",
    "\\phi_\\Omega \\left(\\square\\right) = \\delta_{x}\\left(\\square\\right) - h\\left(\\delta_{x} \\circ \\text{div}\\left(M(x)\\nabla\\left(\\frac{\\square}{M(x)}\\right)\\right)\\right) \\qquad \\text{for } x\\in \\Omega\n",
    "$$\n",
    "$$\n",
    "\\phi_{\\partial\\Omega} \\left(\\square\\right) = \\delta_{x} \\circ \\nabla\\left(\\frac{\\square}{M(x)}\\right) \\cdot \\mathbf{n} = \\qquad \\text{for } x\\in \\partial \\Omega\n",
    "$$\n",
    "Thus, the matrix has the form\n",
    "$$\n",
    "K(\\phi,\\phi) = \n",
    "\\begin{pmatrix}\n",
    "\\phi_{\\Omega}\\left(\\phi_{\\Omega}\\left(K(x,y)\\right)\\right) & \\phi_{\\partial\\Omega}\\left(\\phi_{\\Omega}\\left(K(x,y)\\right)\\right) \\\\\n",
    "\\phi_{\\Omega}\\left(\\phi_{\\partial\\Omega}\\left(K(x,y)\\right)\\right) & \\phi_{\\partial\\Omega}\\left(\\phi_{\\partial\\Omega}\\left(K(x,y)\\right)\\right) \\\\\n",
    "\\end{pmatrix}\n",
    "$$\n",
    "where for instance the block $\\phi_{\\Omega}\\left(\\phi_{\\partial\\Omega}\\left(K(x,y)\\right)\\right)$ is evaluated as:\n",
    "\n",
    "1. Apply $\\phi_{\\partial\\Omega}$ to the function $K(x,y)$ as a function of $x$ only. \n",
    "\n",
    "2. Apply $\\phi_\\Omega$ to $\\phi_{\\partial\\Omega}\\left(K(x,y)\\right)$ as a function of $y$ only.\n",
    "\n",
    "Let's compute the blocks."
   ]
  },
  {
   "cell_type": "markdown",
   "metadata": {},
   "source": [
    "$$\\phi_{\\Omega}\\left(\\phi_{\\Omega}\\left(K(x,y)\\right)\\right)$$"
   ]
  },
  {
   "cell_type": "code",
   "execution_count": 71,
   "metadata": {},
   "outputs": [],
   "source": [
    "def get_M(index):\n",
    "    def M(x,y):\n",
    "        first = jnp.exp(-(jnp.sum(x**2))/ 2.)\n",
    "        secnd = jnp.exp(-(jnp.sum(y**2))/ 2.) \n",
    "        return jnp.where(index == 0, first, secnd)\n",
    "    return M\n",
    "  \n",
    "def n_aux(z):\n",
    "    c_right = z[0] == 3.\n",
    "    c_top = z[1] == 3.\n",
    "    c_left = z[0] == -3.\n",
    "    conds = [c_right,c_top,c_left]\n",
    "    outs = [jnp.array([1.,0.]),jnp.array([0.,1.]),jnp.array([-1.,0.])]\n",
    "    d = jnp.array([0.,-1.])\n",
    "    return jnp.select(conds, outs, default = d)\n",
    "    \n",
    "\n",
    "def get_n(index):\n",
    "    def n(x,y):\n",
    "        first = n_aux(x)\n",
    "        secnd = n_aux(y)\n",
    "        return jnp.where(index == 0, first, secnd)\n",
    "    return n\n",
    "\n",
    "def fp_2d_sol(t,x):\n",
    "    K = 2*(1-jnp.exp(-2*t))\n",
    "    return 1/(K*jnp.pi)*jnp.exp(-(jnp.sum(x**2))/K)\n",
    " \n",
    "def fp_2d_u0(x):\n",
    "    return fp_2d_sol(0.1,x)"
   ]
  },
  {
   "cell_type": "code",
   "execution_count": 52,
   "metadata": {},
   "outputs": [],
   "source": [
    "def vectorize_kfunc(k):\n",
    "    return vmap(vmap(k, in_axes=(None,0)), in_axes=(0,None))\n",
    "\n",
    "def op_k_apply(k,L_op,R_op):\n",
    "    return R_op(L_op(k,0),1)\n",
    "\n",
    "def make_block(k,L_op,R_op):\n",
    "    return vectorize_kfunc(op_k_apply(k,L_op,R_op))"
   ]
  },
  {
   "cell_type": "code",
   "execution_count": 53,
   "metadata": {},
   "outputs": [],
   "source": [
    "def get_div(f,g):\n",
    "    def f_op_g(x,y):\n",
    "        return f(x,y) / g(x,y)\n",
    "    return f_op_g\n",
    "\n",
    "def get_mult(f,g):\n",
    "    def f_op_g(x,y):\n",
    "        return f(x,y) * g(x,y)\n",
    "    return f_op_g\n",
    "\n",
    "def get_sum(f,g):\n",
    "    def f_op_g(x,y):\n",
    "        return f(x,y) + g(x,y)\n",
    "    return f_op_g\n",
    "\n",
    "def get_subs(f,g):\n",
    "    def f_op_g(x,y):\n",
    "        return f(x,y) - g(x,y)\n",
    "    return f_op_g\n",
    "\n",
    "def get_const(h):\n",
    "    def constant(*args):\n",
    "        return h\n",
    "    return constant\n",
    "\n",
    "def get_dot(f,g):\n",
    "    def dot_f(x,y):\n",
    "        return jnp.dot(f(x,y),g(x,y))\n",
    "    return dot_f"
   ]
  },
  {
   "cell_type": "code",
   "execution_count": 54,
   "metadata": {},
   "outputs": [],
   "source": [
    "def eval_k(k,index):\n",
    "    return k\n",
    "\n",
    "def get_grad(k,index):\n",
    "    return grad(k,index)\n",
    "\n",
    "def divergence_k(k,index):\n",
    "    def divk(*args):\n",
    "        return jnp.trace(jacfwd(k,index)(*args))\n",
    "    return divk\n",
    "\n",
    "\n",
    "h = 1e-4\n",
    "def phi_omega(k,index):\n",
    "    return get_subs(eval_k(k,index),\n",
    "                   get_mult(get_const(1e-4),\n",
    "                            divergence_k(get_mult(get_M(index),get_grad(get_div(k,get_M(index)),index)),index)))\n",
    "def phi_pomega(k,index):\n",
    "    return get_dot(get_n(index),get_grad(get_div(k,get_M(index)),index))\n"
   ]
  },
  {
   "cell_type": "code",
   "execution_count": 55,
   "metadata": {},
   "outputs": [],
   "source": [
    "b11 = make_block(k,phi_omega,phi_omega)(pairs_int,pairs_int)\n",
    "b21 = make_block(k,phi_omega,phi_pomega)(pairs_bdry,pairs_int)\n",
    "b12 = b21.T\n",
    "b22 = make_block(k,phi_pomega,phi_pomega)(pairs_bdry,pairs_bdry)"
   ]
  },
  {
   "cell_type": "code",
   "execution_count": 57,
   "metadata": {},
   "outputs": [],
   "source": [
    "k_pp = jnp.block([[b11,b12],\n",
    "                [b21,b22]])"
   ]
  },
  {
   "cell_type": "code",
   "execution_count": 72,
   "metadata": {},
   "outputs": [],
   "source": [
    "z_star = jnp.concatenate([vmap(fp_2d_u0)(pairs_int),jnp.zeros(pairs_bdry.shape[0])])"
   ]
  },
  {
   "cell_type": "code",
   "execution_count": 73,
   "metadata": {},
   "outputs": [],
   "source": [
    "beta = jnp.linalg.solve(k_pp + 1e-8*jnp.diag(jnp.diag(k_pp)),z_star)\n",
    "def rho_star(x):\n",
    "    b1 = vmap(vmap(phi_omega(k,1),in_axes=(None,0)),in_axes=(0,None))(x,pairs_int)\n",
    "    b2 = vmap(vmap(phi_pomega(k,1),in_axes=(None,0)),in_axes=(0,None))(x,pairs_bdry)\n",
    "    return jnp.block([[b1,b2]]) @ beta"
   ]
  },
  {
   "cell_type": "code",
   "execution_count": 76,
   "metadata": {},
   "outputs": [],
   "source": [
    "N = 10000\n",
    "# pairs_fine = jax.random.uniform(key = jax.random.PRNGKey(4),shape = (N,2))\n",
    "pred = rho_star(pairs_int)"
   ]
  },
  {
   "cell_type": "code",
   "execution_count": 77,
   "metadata": {},
   "outputs": [
    {
     "data": {
      "image/png": "[encoded data removed]",
      "text/plain": [
       "<Figure size 500x500 with 2 Axes>"
      ]
     },
     "metadata": {},
     "output_type": "display_data"
    }
   ],
   "source": [
    "plt.tricontourf(pairs_int[:,0],pairs_int[:,1],pred)\n",
    "plt.colorbar()\n",
    "plt.show()"
   ]
  },
  {
   "cell_type": "code",
   "execution_count": null,
   "metadata": {},
   "outputs": [],
   "source": []
  }
 ],
 "metadata": {
  "kernelspec": {
   "display_name": "myjaxenv",
   "language": "python",
   "name": "python3"
  },
  "language_info": {
   "codemirror_mode": {
    "name": "ipython",
    "version": 3
   },
   "file_extension": ".py",
   "mimetype": "text/x-python",
   "name": "python",
   "nbconvert_exporter": "python",
   "pygments_lexer": "ipython3",
   "version": "3.12.4"
  }
 },
 "nbformat": 4,
 "nbformat_minor": 2
}
