{
 "cells": [
  {
   "cell_type": "markdown",
   "metadata": {},
   "source": [
    "Tools"
   ]
  },
  {
   "cell_type": "code",
   "execution_count": 1,
   "metadata": {},
   "outputs": [],
   "source": [
    "import sys  \n",
    "sys.path.append('/home/josorior/kinetick/source')"
   ]
  },
  {
   "cell_type": "code",
   "execution_count": 2,
   "metadata": {},
   "outputs": [],
   "source": [
    "# Standard tool packages\n",
    "import jax\n",
    "from jax import grad, jacfwd, hessian\n",
    "import jax.numpy as jnp\n",
    "import matplotlib.pyplot as plt\n",
    "# My tools\n",
    "from models import *\n",
    "from mykernels import get_gaussianRBF\n",
    "# Settings\n",
    "#plt.style.use('seaborn-v0_8')\n",
    "plt.rcParams[\"figure.figsize\"] = (5, 5)\n"
   ]
  },
  {
   "cell_type": "markdown",
   "metadata": {},
   "source": [
    "## PDE"
   ]
  },
  {
   "cell_type": "markdown",
   "metadata": {},
   "source": [
    "Let $M(x) = \\exp\\left(-0.5(x_1^2 + x_2^2)\\right)$. The Fokker-Planck equation in 2d is given by\n",
    "$$\n",
    "\\begin{align*}\n",
    "\n",
    "\\partial_t \\rho (t,x) &= \\text{div}\\left(M(x)\\nabla\\left(\\frac{\\rho(t,x)}{M(x)}\\right)\\right) & \\text{for } t >0, x \\in \\Omega = (-3,3)^2 \\\\\n",
    "\\rho(0,x) &= \\rho^0(x), &\\text{for } x \\in \\Omega \\\\\n",
    "\\nabla\\left(\\frac{\\rho(t,x)}{M(x)} \\cdot \\mathbf{n}\\right) &= 0, & \\text{for } t >0, x \\in \\partial\\Omega = (-3,3)^2\n",
    "\\end{align*}\n",
    "$$\n",
    "whose analytical solution is known to be\n",
    "$$\n",
    "\\rho(t, x)=\\frac{1}{2 \\pi\\left(1-e^{-2 t}\\right)} e^{-\\frac{x_1^2+x_2^2}{2\\left(1-e^{-2 t}\\right)}}.\n",
    "$$\n",
    "\n",
    "We will use the kernel method in closed form since the PDE operator is linear.\n"
   ]
  },
  {
   "cell_type": "markdown",
   "metadata": {},
   "source": [
    "## Kernel solution"
   ]
  },
  {
   "cell_type": "markdown",
   "metadata": {},
   "source": [
    "Choose a kernel"
   ]
  },
  {
   "cell_type": "code",
   "execution_count": 3,
   "metadata": {},
   "outputs": [],
   "source": [
    "k = get_gaussianRBF(0.2)"
   ]
  },
  {
   "cell_type": "markdown",
   "metadata": {},
   "source": [
    "First we choose collocation pointsets $\\Omega^*\\subset\\Omega$ and $\\Omega^*\\subset\\partial\\Omega$"
   ]
  },
  {
   "cell_type": "code",
   "execution_count": 4,
   "metadata": {},
   "outputs": [],
   "source": [
    "# \\Omega\n",
    "M_int = int(jnp.sqrt(500))\n",
    "x_1 = jnp.linspace(-3,3,M_int)[1:]\n",
    "x_2 = x_1\n",
    "X_1, X_2 = jnp.meshgrid(x_1, x_2)\n",
    "pairs_int = jnp.vstack([X_1.ravel(),X_2.ravel()]).T\n",
    "M_int = pairs_int.shape[0]\n",
    "# \\partial\\Omega\n",
    "M_bdry = int(25*4)\n",
    "bottom = jnp.vstack((jnp.linspace(-3,3,M_bdry//4), jnp.tile(-3,M_bdry//4))).T\n",
    "top = jnp.vstack((jnp.linspace(-3,3,M_bdry//4), jnp.tile(3,M_bdry//4))).T\n",
    "left = jnp.vstack((jnp.tile(-3,M_bdry//4),jnp.linspace(-3,3,M_bdry//4))).T[1:-1]\n",
    "right = jnp.vstack((jnp.tile(3,M_bdry//4),jnp.linspace(-3,3,M_bdry//4))).T[1:-1]\n",
    "pairs_bdry = jnp.vstack((left,bottom,right,top))\n",
    "M_bdry = pairs_bdry.shape[0]"
   ]
  },
  {
   "cell_type": "markdown",
   "metadata": {},
   "source": [
    "Build the kernel matrix $K(\\phi,\\phi)$ where $\\phi = [\\phi_\\Omega, \\phi_{\\partial\\Omega}]$ and\n",
    "$$\n",
    "\\phi_\\Omega \\left(\\square\\right) = \\delta_{x}\\left(\\square\\right) - h\\left(\\delta_{x} \\circ \\text{div}\\left(M(x)\\nabla\\left(\\frac{\\square}{M(x)}\\right)\\right)\\right) \\qquad \\text{for } x\\in \\Omega\n",
    "$$\n",
    "$$\n",
    "\\phi_{\\partial\\Omega} \\left(\\square\\right) = \\delta_{x} \\circ \\nabla\\left(\\frac{\\square}{M(x)}\\right) \\cdot \\mathbf{n} = \\qquad \\text{for } x\\in \\partial \\Omega\n",
    "$$\n",
    "Thus, the matrix has the form\n",
    "$$\n",
    "K(\\phi,\\phi) = \n",
    "\\begin{pmatrix}\n",
    "\\phi_{\\Omega}\\left(\\phi_{\\Omega}\\left(K(x,y)\\right)\\right) & \\phi_{\\partial\\Omega}\\left(\\phi_{\\Omega}\\left(K(x,y)\\right)\\right) \\\\\n",
    "\\phi_{\\Omega}\\left(\\phi_{\\partial\\Omega}\\left(K(x,y)\\right)\\right) & \\phi_{\\partial\\Omega}\\left(\\phi_{\\partial\\Omega}\\left(K(x,y)\\right)\\right) \\\\\n",
    "\\end{pmatrix}\n",
    "$$\n",
    "where for instance the block $\\phi_{\\Omega}\\left(\\phi_{\\partial\\Omega}\\left(K(x,y)\\right)\\right)$ is evaluated as:\n",
    "\n",
    "1. Apply $\\phi_{\\partial\\Omega}$ to the function $K(x,y)$ as a function of $x$ only. \n",
    "\n",
    "2. Apply $\\phi_\\Omega$ to $\\phi_{\\partial\\Omega}\\left(K(x,y)\\right)$ as a function of $y$ only.\n",
    "\n",
    "Let's compute the blocks."
   ]
  },
  {
   "cell_type": "markdown",
   "metadata": {},
   "source": [
    "$$\\phi_{\\Omega}\\left(\\phi_{\\Omega}\\left(K(x,y)\\right)\\right)$$"
   ]
  },
  {
   "cell_type": "code",
   "execution_count": 5,
   "metadata": {},
   "outputs": [],
   "source": [
    "def M(x,y):\n",
    "    del y\n",
    "    return jnp.exp(-(jnp.sum(x**2))/ 2.)"
   ]
  },
  {
   "cell_type": "code",
   "execution_count": 6,
   "metadata": {},
   "outputs": [],
   "source": [
    "def vectorize_kfunc(k):\n",
    "    return jax.vmap(jax.vmap(k, in_axes=(None,0)), in_axes=(0,None))\n",
    "\n",
    "def op_k_apply(k,L_op,R_op):\n",
    "    return R_op(L_op(k,0),1)\n",
    "\n",
    "def make_block(k,L_op,R_op):\n",
    "    return vectorize_kfunc(op_k_apply(k,L_op,R_op))"
   ]
  },
  {
   "cell_type": "code",
   "execution_count": 7,
   "metadata": {},
   "outputs": [],
   "source": [
    "def get_div(f,g):\n",
    "    def f_op_g(x,y):\n",
    "        return f(x,y) / g(x,y)\n",
    "    return f_op_g\n",
    "\n",
    "# Multiply two scalar functions\n",
    "def get_mult(f,g):\n",
    "    def f_op_g(x,y):\n",
    "        return f(x,y) * g(x,y)\n",
    "    return f_op_g\n",
    "\n",
    "def get_sum(f,g):\n",
    "    def f_op_g(x,y):\n",
    "        return f(x,y) + g(x,y)\n",
    "    return f_op_g\n",
    "\n",
    "def get_subs(f,g):\n",
    "    def f_op_g(x,y):\n",
    "        return f(x,y) - g(x,y)\n",
    "    return f_op_g"
   ]
  },
  {
   "cell_type": "code",
   "execution_count": 8,
   "metadata": {},
   "outputs": [],
   "source": [
    "def f(x,y):\n",
    "    return jnp.sum(x**2) - 3*jnp.sum(y**3)\n",
    "\n",
    "def V(x,y):\n",
    "    return jnp.array([jnp.sum(x**2) , 3*jnp.sum(y**3)])"
   ]
  },
  {
   "cell_type": "code",
   "execution_count": 9,
   "metadata": {},
   "outputs": [],
   "source": [
    "g = get_mult(f,V)"
   ]
  },
  {
   "cell_type": "code",
   "execution_count": 11,
   "metadata": {},
   "outputs": [],
   "source": [
    "a, b = jnp.array([1.,2.]), jnp.array([8.,9.])\n",
    "r = jnp.trace(jax.jacobian(g)(a,b))"
   ]
  },
  {
   "cell_type": "code",
   "execution_count": 32,
   "metadata": {},
   "outputs": [],
   "source": [
    "def laplacian_k(k,index):\n",
    "    def lapk(*args):\n",
    "        return jnp.trace(jax.hessian(k,index)(*args))\n",
    "    return lapk\n",
    "\n",
    "def get_selected_grad(k,index,selected_index):\n",
    "    gradf = grad(k,index)\n",
    "    def selgrad(*args):\n",
    "        return gradf(*args)[selected_index]\n",
    "    return selgrad\n",
    "\n",
    "def dx_k(k,index):\n",
    "    return get_selected_grad(k,index,0)\n",
    "\n",
    "# Option 1\n",
    "def divergence_k(k,index):\n",
    "    def divk(*args):\n",
    "        return jnp.trace(jax.jacfwd(k,index)(*args))\n",
    "    return divk\n",
    "# Option 2\n",
    "def get_selected_divergence(k,index,selected_index):\n",
    "    divergencef = jax.jit(lambda x: jnp.trace(jax.jacfwd(f,index)(x)))\n",
    "    def seldiv(*args):\n",
    "        return divergencef(*args)[selected_index]\n",
    "    return seldiv\n",
    "\n",
    "def divergence(k,index):\n",
    "    return get_selected_divergence(k,index,0)\n",
    "\n",
    "def eval_k(k,index):\n",
    "    return k\n",
    "\n",
    "def phi_omega(k,index):\n",
    "    return divergence_k(get_mult(M,dx_k(get_div(k,M),index)),index)"
   ]
  },
  {
   "cell_type": "code",
   "execution_count": 33,
   "metadata": {},
   "outputs": [],
   "source": [
    "f = get_mult(M,dx_k(get_div(k,M),0))"
   ]
  },
  {
   "cell_type": "code",
   "execution_count": 26,
   "metadata": {},
   "outputs": [
    {
     "ename": "ValueError",
     "evalue": "axis 1 is out of bounds for array of dimension 1",
     "output_type": "error",
     "traceback": [
      "\u001b[0;31m---------------------------------------------------------------------------\u001b[0m",
      "\u001b[0;31mValueError\u001b[0m                                Traceback (most recent call last)",
      "Cell \u001b[0;32mIn[26], line 1\u001b[0m\n\u001b[0;32m----> 1\u001b[0m b11 \u001b[38;5;241m=\u001b[39m \u001b[43mmake_block\u001b[49m\u001b[43m(\u001b[49m\u001b[43mk\u001b[49m\u001b[43m,\u001b[49m\u001b[43mphi_omega\u001b[49m\u001b[43m,\u001b[49m\u001b[43mphi_omega\u001b[49m\u001b[43m)\u001b[49m\u001b[43m(\u001b[49m\u001b[43mpairs_int\u001b[49m\u001b[43m,\u001b[49m\u001b[43mpairs_int\u001b[49m\u001b[43m)\u001b[49m\n",
      "    \u001b[0;31m[... skipping hidden 6 frame]\u001b[0m\n",
      "Cell \u001b[0;32mIn[24], line 18\u001b[0m, in \u001b[0;36mdivergence_k.<locals>.divk\u001b[0;34m(*args)\u001b[0m\n\u001b[1;32m     17\u001b[0m \u001b[38;5;28;01mdef\u001b[39;00m \u001b[38;5;21mdivk\u001b[39m(\u001b[38;5;241m*\u001b[39margs):\n\u001b[0;32m---> 18\u001b[0m     \u001b[38;5;28;01mreturn\u001b[39;00m jnp\u001b[38;5;241m.\u001b[39mtrace(\u001b[43mjax\u001b[49m\u001b[38;5;241;43m.\u001b[39;49m\u001b[43mgrad\u001b[49m\u001b[43m(\u001b[49m\u001b[43mk\u001b[49m\u001b[43m,\u001b[49m\u001b[43mindex\u001b[49m\u001b[43m)\u001b[49m\u001b[43m(\u001b[49m\u001b[38;5;241;43m*\u001b[39;49m\u001b[43margs\u001b[49m\u001b[43m)\u001b[49m)\n",
      "    \u001b[0;31m[... skipping hidden 10 frame]\u001b[0m\n",
      "Cell \u001b[0;32mIn[7], line 9\u001b[0m, in \u001b[0;36mget_mult.<locals>.f_op_g\u001b[0;34m(x, y)\u001b[0m\n\u001b[1;32m      8\u001b[0m \u001b[38;5;28;01mdef\u001b[39;00m \u001b[38;5;21mf_op_g\u001b[39m(x,y):\n\u001b[0;32m----> 9\u001b[0m     \u001b[38;5;28;01mreturn\u001b[39;00m f(x,y) \u001b[38;5;241m*\u001b[39m \u001b[43mg\u001b[49m\u001b[43m(\u001b[49m\u001b[43mx\u001b[49m\u001b[43m,\u001b[49m\u001b[43my\u001b[49m\u001b[43m)\u001b[49m\n",
      "Cell \u001b[0;32mIn[24], line 9\u001b[0m, in \u001b[0;36mget_selected_grad.<locals>.selgrad\u001b[0;34m(*args)\u001b[0m\n\u001b[1;32m      8\u001b[0m \u001b[38;5;28;01mdef\u001b[39;00m \u001b[38;5;21mselgrad\u001b[39m(\u001b[38;5;241m*\u001b[39margs):\n\u001b[0;32m----> 9\u001b[0m     \u001b[38;5;28;01mreturn\u001b[39;00m \u001b[43mgradf\u001b[49m\u001b[43m(\u001b[49m\u001b[38;5;241;43m*\u001b[39;49m\u001b[43margs\u001b[49m\u001b[43m)\u001b[49m[selected_index]\n",
      "    \u001b[0;31m[... skipping hidden 10 frame]\u001b[0m\n",
      "Cell \u001b[0;32mIn[7], line 3\u001b[0m, in \u001b[0;36mget_div.<locals>.f_op_g\u001b[0;34m(x, y)\u001b[0m\n\u001b[1;32m      2\u001b[0m \u001b[38;5;28;01mdef\u001b[39;00m \u001b[38;5;21mf_op_g\u001b[39m(x,y):\n\u001b[0;32m----> 3\u001b[0m     \u001b[38;5;28;01mreturn\u001b[39;00m \u001b[43mf\u001b[49m\u001b[43m(\u001b[49m\u001b[43mx\u001b[49m\u001b[43m,\u001b[49m\u001b[43my\u001b[49m\u001b[43m)\u001b[49m \u001b[38;5;241m/\u001b[39m g(x,y)\n",
      "Cell \u001b[0;32mIn[24], line 18\u001b[0m, in \u001b[0;36mdivergence_k.<locals>.divk\u001b[0;34m(*args)\u001b[0m\n\u001b[1;32m     17\u001b[0m \u001b[38;5;28;01mdef\u001b[39;00m \u001b[38;5;21mdivk\u001b[39m(\u001b[38;5;241m*\u001b[39margs):\n\u001b[0;32m---> 18\u001b[0m     \u001b[38;5;28;01mreturn\u001b[39;00m \u001b[43mjnp\u001b[49m\u001b[38;5;241;43m.\u001b[39;49m\u001b[43mtrace\u001b[49m\u001b[43m(\u001b[49m\u001b[43mjax\u001b[49m\u001b[38;5;241;43m.\u001b[39;49m\u001b[43mgrad\u001b[49m\u001b[43m(\u001b[49m\u001b[43mk\u001b[49m\u001b[43m,\u001b[49m\u001b[43mindex\u001b[49m\u001b[43m)\u001b[49m\u001b[43m(\u001b[49m\u001b[38;5;241;43m*\u001b[39;49m\u001b[43margs\u001b[49m\u001b[43m)\u001b[49m\u001b[43m)\u001b[49m\n",
      "    \u001b[0;31m[... skipping hidden 11 frame]\u001b[0m\n",
      "File \u001b[0;32m~/miniconda3/envs/myjaxenv/lib/python3.12/site-packages/jax/_src/numpy/lax_numpy.py:4027\u001b[0m, in \u001b[0;36mtrace\u001b[0;34m(a, offset, axis1, axis2, dtype, out)\u001b[0m\n\u001b[1;32m   4024\u001b[0m dtypes\u001b[38;5;241m.\u001b[39mcheck_user_dtype_supported(dtype, \u001b[38;5;124m\"\u001b[39m\u001b[38;5;124mtrace\u001b[39m\u001b[38;5;124m\"\u001b[39m)\n\u001b[1;32m   4026\u001b[0m a_shape \u001b[38;5;241m=\u001b[39m shape(a)\n\u001b[0;32m-> 4027\u001b[0m a \u001b[38;5;241m=\u001b[39m \u001b[43mmoveaxis\u001b[49m\u001b[43m(\u001b[49m\u001b[43ma\u001b[49m\u001b[43m,\u001b[49m\u001b[43m \u001b[49m\u001b[43m(\u001b[49m\u001b[43maxis1\u001b[49m\u001b[43m,\u001b[49m\u001b[43m \u001b[49m\u001b[43maxis2\u001b[49m\u001b[43m)\u001b[49m\u001b[43m,\u001b[49m\u001b[43m \u001b[49m\u001b[43m(\u001b[49m\u001b[38;5;241;43m-\u001b[39;49m\u001b[38;5;241;43m2\u001b[39;49m\u001b[43m,\u001b[49m\u001b[43m \u001b[49m\u001b[38;5;241;43m-\u001b[39;49m\u001b[38;5;241;43m1\u001b[39;49m\u001b[43m)\u001b[49m\u001b[43m)\u001b[49m\n\u001b[1;32m   4029\u001b[0m \u001b[38;5;66;03m# Mask out the diagonal and reduce.\u001b[39;00m\n\u001b[1;32m   4030\u001b[0m a \u001b[38;5;241m=\u001b[39m where(eye(a_shape[axis1], a_shape[axis2], k\u001b[38;5;241m=\u001b[39moffset, dtype\u001b[38;5;241m=\u001b[39m\u001b[38;5;28mbool\u001b[39m),\n\u001b[1;32m   4031\u001b[0m           a, zeros_like(a))\n",
      "File \u001b[0;32m~/miniconda3/envs/myjaxenv/lib/python3.12/site-packages/jax/_src/numpy/lax_numpy.py:1725\u001b[0m, in \u001b[0;36mmoveaxis\u001b[0;34m(a, source, destination)\u001b[0m\n\u001b[1;32m   1678\u001b[0m \u001b[38;5;250m\u001b[39m\u001b[38;5;124;03m\"\"\"Move an array axis to a new position\u001b[39;00m\n\u001b[1;32m   1679\u001b[0m \n\u001b[1;32m   1680\u001b[0m \u001b[38;5;124;03mJAX implementation of :func:`numpy.moveaxis`, implemented in terms of\u001b[39;00m\n\u001b[0;32m   (...)\u001b[0m\n\u001b[1;32m   1722\u001b[0m \u001b[38;5;124;03m  (4, 5, 3, 2)\u001b[39;00m\n\u001b[1;32m   1723\u001b[0m \u001b[38;5;124;03m\"\"\"\u001b[39;00m\n\u001b[1;32m   1724\u001b[0m util\u001b[38;5;241m.\u001b[39mcheck_arraylike(\u001b[38;5;124m\"\u001b[39m\u001b[38;5;124mmoveaxis\u001b[39m\u001b[38;5;124m\"\u001b[39m, a)\n\u001b[0;32m-> 1725\u001b[0m \u001b[38;5;28;01mreturn\u001b[39;00m \u001b[43m_moveaxis\u001b[49m\u001b[43m(\u001b[49m\u001b[43masarray\u001b[49m\u001b[43m(\u001b[49m\u001b[43ma\u001b[49m\u001b[43m)\u001b[49m\u001b[43m,\u001b[49m\u001b[43m \u001b[49m\u001b[43m_ensure_index_tuple\u001b[49m\u001b[43m(\u001b[49m\u001b[43msource\u001b[49m\u001b[43m)\u001b[49m\u001b[43m,\u001b[49m\n\u001b[1;32m   1726\u001b[0m \u001b[43m                 \u001b[49m\u001b[43m_ensure_index_tuple\u001b[49m\u001b[43m(\u001b[49m\u001b[43mdestination\u001b[49m\u001b[43m)\u001b[49m\u001b[43m)\u001b[49m\n",
      "    \u001b[0;31m[... skipping hidden 11 frame]\u001b[0m\n",
      "File \u001b[0;32m~/miniconda3/envs/myjaxenv/lib/python3.12/site-packages/jax/_src/numpy/lax_numpy.py:1730\u001b[0m, in \u001b[0;36m_moveaxis\u001b[0;34m(a, source, destination)\u001b[0m\n\u001b[1;32m   1728\u001b[0m \u001b[38;5;129m@partial\u001b[39m(jit, static_argnames\u001b[38;5;241m=\u001b[39m(\u001b[38;5;124m'\u001b[39m\u001b[38;5;124msource\u001b[39m\u001b[38;5;124m'\u001b[39m, \u001b[38;5;124m'\u001b[39m\u001b[38;5;124mdestination\u001b[39m\u001b[38;5;124m'\u001b[39m), inline\u001b[38;5;241m=\u001b[39m\u001b[38;5;28;01mTrue\u001b[39;00m)\n\u001b[1;32m   1729\u001b[0m \u001b[38;5;28;01mdef\u001b[39;00m \u001b[38;5;21m_moveaxis\u001b[39m(a: Array, source: \u001b[38;5;28mtuple\u001b[39m[\u001b[38;5;28mint\u001b[39m, \u001b[38;5;241m.\u001b[39m\u001b[38;5;241m.\u001b[39m\u001b[38;5;241m.\u001b[39m], destination: \u001b[38;5;28mtuple\u001b[39m[\u001b[38;5;28mint\u001b[39m, \u001b[38;5;241m.\u001b[39m\u001b[38;5;241m.\u001b[39m\u001b[38;5;241m.\u001b[39m]) \u001b[38;5;241m-\u001b[39m\u001b[38;5;241m>\u001b[39m Array:\n\u001b[0;32m-> 1730\u001b[0m   source \u001b[38;5;241m=\u001b[39m \u001b[38;5;28;43mtuple\u001b[39;49m\u001b[43m(\u001b[49m\u001b[43m_canonicalize_axis\u001b[49m\u001b[43m(\u001b[49m\u001b[43mi\u001b[49m\u001b[43m,\u001b[49m\u001b[43m \u001b[49m\u001b[43mndim\u001b[49m\u001b[43m(\u001b[49m\u001b[43ma\u001b[49m\u001b[43m)\u001b[49m\u001b[43m)\u001b[49m\u001b[43m \u001b[49m\u001b[38;5;28;43;01mfor\u001b[39;49;00m\u001b[43m \u001b[49m\u001b[43mi\u001b[49m\u001b[43m \u001b[49m\u001b[38;5;129;43;01min\u001b[39;49;00m\u001b[43m \u001b[49m\u001b[43msource\u001b[49m\u001b[43m)\u001b[49m\n\u001b[1;32m   1731\u001b[0m   destination \u001b[38;5;241m=\u001b[39m \u001b[38;5;28mtuple\u001b[39m(_canonicalize_axis(i, ndim(a)) \u001b[38;5;28;01mfor\u001b[39;00m i \u001b[38;5;129;01min\u001b[39;00m destination)\n\u001b[1;32m   1732\u001b[0m   \u001b[38;5;28;01mif\u001b[39;00m \u001b[38;5;28mlen\u001b[39m(source) \u001b[38;5;241m!=\u001b[39m \u001b[38;5;28mlen\u001b[39m(destination):\n",
      "File \u001b[0;32m~/miniconda3/envs/myjaxenv/lib/python3.12/site-packages/jax/_src/numpy/lax_numpy.py:1730\u001b[0m, in \u001b[0;36m<genexpr>\u001b[0;34m(.0)\u001b[0m\n\u001b[1;32m   1728\u001b[0m \u001b[38;5;129m@partial\u001b[39m(jit, static_argnames\u001b[38;5;241m=\u001b[39m(\u001b[38;5;124m'\u001b[39m\u001b[38;5;124msource\u001b[39m\u001b[38;5;124m'\u001b[39m, \u001b[38;5;124m'\u001b[39m\u001b[38;5;124mdestination\u001b[39m\u001b[38;5;124m'\u001b[39m), inline\u001b[38;5;241m=\u001b[39m\u001b[38;5;28;01mTrue\u001b[39;00m)\n\u001b[1;32m   1729\u001b[0m \u001b[38;5;28;01mdef\u001b[39;00m \u001b[38;5;21m_moveaxis\u001b[39m(a: Array, source: \u001b[38;5;28mtuple\u001b[39m[\u001b[38;5;28mint\u001b[39m, \u001b[38;5;241m.\u001b[39m\u001b[38;5;241m.\u001b[39m\u001b[38;5;241m.\u001b[39m], destination: \u001b[38;5;28mtuple\u001b[39m[\u001b[38;5;28mint\u001b[39m, \u001b[38;5;241m.\u001b[39m\u001b[38;5;241m.\u001b[39m\u001b[38;5;241m.\u001b[39m]) \u001b[38;5;241m-\u001b[39m\u001b[38;5;241m>\u001b[39m Array:\n\u001b[0;32m-> 1730\u001b[0m   source \u001b[38;5;241m=\u001b[39m \u001b[38;5;28mtuple\u001b[39m(\u001b[43m_canonicalize_axis\u001b[49m\u001b[43m(\u001b[49m\u001b[43mi\u001b[49m\u001b[43m,\u001b[49m\u001b[43m \u001b[49m\u001b[43mndim\u001b[49m\u001b[43m(\u001b[49m\u001b[43ma\u001b[49m\u001b[43m)\u001b[49m\u001b[43m)\u001b[49m \u001b[38;5;28;01mfor\u001b[39;00m i \u001b[38;5;129;01min\u001b[39;00m source)\n\u001b[1;32m   1731\u001b[0m   destination \u001b[38;5;241m=\u001b[39m \u001b[38;5;28mtuple\u001b[39m(_canonicalize_axis(i, ndim(a)) \u001b[38;5;28;01mfor\u001b[39;00m i \u001b[38;5;129;01min\u001b[39;00m destination)\n\u001b[1;32m   1732\u001b[0m   \u001b[38;5;28;01mif\u001b[39;00m \u001b[38;5;28mlen\u001b[39m(source) \u001b[38;5;241m!=\u001b[39m \u001b[38;5;28mlen\u001b[39m(destination):\n",
      "File \u001b[0;32m~/miniconda3/envs/myjaxenv/lib/python3.12/site-packages/jax/_src/util.py:392\u001b[0m, in \u001b[0;36mcanonicalize_axis\u001b[0;34m(axis, num_dims)\u001b[0m\n\u001b[1;32m    390\u001b[0m axis \u001b[38;5;241m=\u001b[39m operator\u001b[38;5;241m.\u001b[39mindex(axis)\n\u001b[1;32m    391\u001b[0m \u001b[38;5;28;01mif\u001b[39;00m \u001b[38;5;129;01mnot\u001b[39;00m \u001b[38;5;241m-\u001b[39mnum_dims \u001b[38;5;241m<\u001b[39m\u001b[38;5;241m=\u001b[39m axis \u001b[38;5;241m<\u001b[39m num_dims:\n\u001b[0;32m--> 392\u001b[0m   \u001b[38;5;28;01mraise\u001b[39;00m \u001b[38;5;167;01mValueError\u001b[39;00m(\u001b[38;5;124mf\u001b[39m\u001b[38;5;124m\"\u001b[39m\u001b[38;5;124maxis \u001b[39m\u001b[38;5;132;01m{\u001b[39;00maxis\u001b[38;5;132;01m}\u001b[39;00m\u001b[38;5;124m is out of bounds for array of dimension \u001b[39m\u001b[38;5;132;01m{\u001b[39;00mnum_dims\u001b[38;5;132;01m}\u001b[39;00m\u001b[38;5;124m\"\u001b[39m)\n\u001b[1;32m    393\u001b[0m \u001b[38;5;28;01mif\u001b[39;00m axis \u001b[38;5;241m<\u001b[39m \u001b[38;5;241m0\u001b[39m:\n\u001b[1;32m    394\u001b[0m   axis \u001b[38;5;241m=\u001b[39m axis \u001b[38;5;241m+\u001b[39m num_dims\n",
      "\u001b[0;31mValueError\u001b[0m: axis 1 is out of bounds for array of dimension 1"
     ]
    }
   ],
   "source": [
    "b11 = make_block(k,phi_omega,phi_omega)(pairs_int,pairs_int)"
   ]
  },
  {
   "cell_type": "code",
   "execution_count": null,
   "metadata": {},
   "outputs": [],
   "source": []
  }
 ],
 "metadata": {
  "kernelspec": {
   "display_name": "myjaxenv",
   "language": "python",
   "name": "python3"
  },
  "language_info": {
   "codemirror_mode": {
    "name": "ipython",
    "version": 3
   },
   "file_extension": ".py",
   "mimetype": "text/x-python",
   "name": "python",
   "nbconvert_exporter": "python",
   "pygments_lexer": "ipython3",
   "version": "3.12.4"
  }
 },
 "nbformat": 4,
 "nbformat_minor": 2
}
