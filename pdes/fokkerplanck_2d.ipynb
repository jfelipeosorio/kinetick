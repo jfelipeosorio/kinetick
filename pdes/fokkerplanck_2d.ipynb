{
 "cells": [
  {
   "cell_type": "markdown",
   "metadata": {},
   "source": [
    "Tools"
   ]
  },
  {
   "cell_type": "code",
   "execution_count": 1,
   "metadata": {},
   "outputs": [],
   "source": [
    "import sys  \n",
    "sys.path.append('/home/josorior/kinetick/source')"
   ]
  },
  {
   "cell_type": "code",
   "execution_count": 2,
   "metadata": {},
   "outputs": [],
   "source": [
    "# Standard tool packages\n",
    "import jax\n",
    "from jax import grad, jacfwd, hessian\n",
    "import jax.numpy as jnp\n",
    "import matplotlib.pyplot as plt\n",
    "# My tools\n",
    "from models import *\n",
    "from mykernels import get_gaussianRBF\n",
    "# Settings\n",
    "#plt.style.use('seaborn-v0_8')\n",
    "plt.rcParams[\"figure.figsize\"] = (5, 5)\n"
   ]
  },
  {
   "cell_type": "markdown",
   "metadata": {},
   "source": [
    "## PDE"
   ]
  },
  {
   "cell_type": "markdown",
   "metadata": {},
   "source": [
    "Let $M(x) = \\exp\\left(-0.5(x_1^2 + x_2^2)\\right)$. The Fokker-Planck equation in 2d is given by\n",
    "$$\n",
    "\\begin{align*}\n",
    "\n",
    "\\partial_t \\rho (t,x) &= \\text{div}\\left(M(x)\\nabla\\left(\\frac{\\rho(t,x)}{M(x)}\\right)\\right) & \\text{for } t >0, x \\in \\Omega = (-3,3)^2 \\\\\n",
    "\\rho(0,x) &= \\rho^0(x), &\\text{for } x \\in \\Omega \\\\\n",
    "\\nabla\\left(\\frac{\\rho(t,x)}{M(x)} \\cdot \\mathbf{n}\\right) &= 0, & \\text{for } t >0, x \\in \\partial\\Omega = (-3,3)^2\n",
    "\\end{align*}\n",
    "$$\n",
    "whose analytical solution is known to be\n",
    "$$\n",
    "\\rho(t, x)=\\frac{1}{2 \\pi\\left(1-e^{-2 t}\\right)} e^{-\\frac{x_1^2+x_2^2}{2\\left(1-e^{-2 t}\\right)}}.\n",
    "$$\n",
    "\n",
    "We will use the kernel method in closed form since the PDE operator is linear.\n"
   ]
  },
  {
   "cell_type": "markdown",
   "metadata": {},
   "source": [
    "## Kernel solution"
   ]
  },
  {
   "cell_type": "markdown",
   "metadata": {},
   "source": [
    "Choose a kernel"
   ]
  },
  {
   "cell_type": "code",
   "execution_count": 3,
   "metadata": {},
   "outputs": [],
   "source": [
    "k = get_gaussianRBF(0.2)"
   ]
  },
  {
   "cell_type": "markdown",
   "metadata": {},
   "source": [
    "First we choose collocation pointsets $\\Omega^*\\subset\\Omega$ and $\\Omega^*\\subset\\partial\\Omega$"
   ]
  },
  {
   "cell_type": "code",
   "execution_count": 4,
   "metadata": {},
   "outputs": [],
   "source": [
    "# \\Omega\n",
    "M_int = int(jnp.sqrt(500))\n",
    "x_1 = jnp.linspace(-3,3,M_int)[1:]\n",
    "x_2 = x_1\n",
    "X_1, X_2 = jnp.meshgrid(x_1, x_2)\n",
    "pairs_int = jnp.vstack([X_1.ravel(),X_2.ravel()]).T\n",
    "M_int = pairs_int.shape[0]\n",
    "# \\partial\\Omega\n",
    "M_bdry = int(25*4)\n",
    "bottom = jnp.vstack((jnp.linspace(-3,3,M_bdry//4), jnp.tile(-3,M_bdry//4))).T\n",
    "top = jnp.vstack((jnp.linspace(-3,3,M_bdry//4), jnp.tile(3,M_bdry//4))).T\n",
    "left = jnp.vstack((jnp.tile(-3,M_bdry//4),jnp.linspace(-3,3,M_bdry//4))).T[1:-1]\n",
    "right = jnp.vstack((jnp.tile(3,M_bdry//4),jnp.linspace(-3,3,M_bdry//4))).T[1:-1]\n",
    "pairs_bdry = jnp.vstack((left,bottom,right,top))\n",
    "M_bdry = pairs_bdry.shape[0]"
   ]
  },
  {
   "cell_type": "markdown",
   "metadata": {},
   "source": [
    "Build the kernel matrix $K(\\phi,\\phi)$ where $\\phi = [\\phi_\\Omega, \\phi_{\\partial\\Omega}]$ and\n",
    "$$\n",
    "\\phi_\\Omega \\left(\\square\\right) = \\delta_{x}\\left(\\square\\right) - h\\left(\\delta_{x} \\circ \\text{div}\\left(M(x)\\nabla\\left(\\frac{\\square}{M(x)}\\right)\\right)\\right) \\qquad \\text{for } x\\in \\Omega\n",
    "$$\n",
    "$$\n",
    "\\phi_{\\partial\\Omega} \\left(\\square\\right) = \\delta_{x} \\circ \\nabla\\left(\\frac{\\square}{M(x)}\\right) \\cdot \\mathbf{n} = \\qquad \\text{for } x\\in \\partial \\Omega\n",
    "$$\n",
    "Thus, the matrix has the form\n",
    "$$\n",
    "K(\\phi,\\phi) = \n",
    "\\begin{pmatrix}\n",
    "\\phi_{\\Omega}\\left(\\phi_{\\Omega}\\left(K(x,y)\\right)\\right) & \\phi_{\\partial\\Omega}\\left(\\phi_{\\Omega}\\left(K(x,y)\\right)\\right) \\\\\n",
    "\\phi_{\\Omega}\\left(\\phi_{\\partial\\Omega}\\left(K(x,y)\\right)\\right) & \\phi_{\\partial\\Omega}\\left(\\phi_{\\partial\\Omega}\\left(K(x,y)\\right)\\right) \\\\\n",
    "\\end{pmatrix}\n",
    "$$\n",
    "where for instance the block $\\phi_{\\Omega}\\left(\\phi_{\\partial\\Omega}\\left(K(x,y)\\right)\\right)$ is evaluated as:\n",
    "\n",
    "1. Apply $\\phi_{\\partial\\Omega}$ to the function $K(x,y)$ as a function of $x$ only. \n",
    "\n",
    "2. Apply $\\phi_\\Omega$ to $\\phi_{\\partial\\Omega}\\left(K(x,y)\\right)$ as a function of $y$ only.\n",
    "\n",
    "Let's compute the blocks."
   ]
  },
  {
   "cell_type": "markdown",
   "metadata": {},
   "source": [
    "$$\\phi_{\\Omega}\\left(\\phi_{\\Omega}\\left(K(x,y)\\right)\\right)$$"
   ]
  },
  {
   "cell_type": "code",
   "execution_count": 5,
   "metadata": {},
   "outputs": [],
   "source": [
    "def M(x,y):\n",
    "    del y\n",
    "    return jnp.exp(-(jnp.sum(x**2))/ 2.)"
   ]
  },
  {
   "cell_type": "code",
   "execution_count": 6,
   "metadata": {},
   "outputs": [],
   "source": [
    "def vectorize_kfunc(k):\n",
    "    return jax.vmap(jax.vmap(k, in_axes=(None,0)), in_axes=(0,None))\n",
    "\n",
    "def op_k_apply(k,L_op,R_op):\n",
    "    return R_op(L_op(k,0),1)\n",
    "\n",
    "def make_block(k,L_op,R_op):\n",
    "    return vectorize_kfunc(op_k_apply(k,L_op,R_op))"
   ]
  },
  {
   "cell_type": "code",
   "execution_count": 7,
   "metadata": {},
   "outputs": [],
   "source": [
    "def get_div(f,g):\n",
    "    def f_op_g(x,y):\n",
    "        return f(x,y) / g(x,y)\n",
    "    return f_op_g\n",
    "\n",
    "# Multiply two scalar functions\n",
    "def get_mult(f,g):\n",
    "    def f_op_g(x,y):\n",
    "        return f(x,y) * g(x,y)\n",
    "    return f_op_g\n",
    "\n",
    "def get_sum(f,g):\n",
    "    def f_op_g(x,y):\n",
    "        return f(x,y) + g(x,y)\n",
    "    return f_op_g\n",
    "\n",
    "def get_subs(f,g):\n",
    "    def f_op_g(x,y):\n",
    "        return f(x,y) - g(x,y)\n",
    "    return f_op_g"
   ]
  },
  {
   "cell_type": "code",
   "execution_count": 8,
   "metadata": {},
   "outputs": [],
   "source": [
    "def f(x,y):\n",
    "    return jnp.sum(x**2) - 3*jnp.sum(y**3)\n",
    "\n",
    "def V(x,y):\n",
    "    return jnp.array([jnp.sum(x**2) , 3*jnp.sum(y**3)])"
   ]
  },
  {
   "cell_type": "code",
   "execution_count": 9,
   "metadata": {},
   "outputs": [],
   "source": [
    "g = get_mult(f,V)"
   ]
  },
  {
   "cell_type": "code",
   "execution_count": null,
   "metadata": {},
   "outputs": [],
   "source": [
    "a, b = jnp.array([1.,2.]), jnp.array([8.,9.])\n",
    "r = jnp.trace(jax.jacobian(gradf)(a,b))"
   ]
  },
  {
   "cell_type": "code",
   "execution_count": null,
   "metadata": {},
   "outputs": [
    {
     "data": {
      "text/plain": [
       "Array(4., dtype=float32)"
      ]
     },
     "execution_count": 114,
     "metadata": {},
     "output_type": "execute_result"
    }
   ],
   "source": [
    "r"
   ]
  },
  {
   "cell_type": "code",
   "execution_count": 12,
   "metadata": {},
   "outputs": [],
   "source": [
    "def laplacian_k(k,index):\n",
    "    def lapk(*args):\n",
    "        return jnp.trace(jax.hessian(k,index)(*args))\n",
    "    return lapk\n",
    "\n",
    "def get_selected_grad(k,index,selected_index):\n",
    "    gradf = grad(k,index)\n",
    "    def selgrad(*args):\n",
    "        return gradf(*args)[selected_index]\n",
    "    return selgrad\n",
    "\n",
    "def dx_k(k,index):\n",
    "    return get_selected_grad(k,index,0)\n",
    "\n",
    "def divergence_k(k,index):\n",
    "    def divk(*args):\n",
    "        return jnp.trace(jax.jacobian(k)(*args))\n",
    "    return divk\n",
    "\n",
    "def get_selected_divergence(k,index,selected_index):\n",
    "    divergencef = jax.jit(lambda x, key: jnp.trace(jax.jacobian(f)(x)))\n",
    "    def seldiv(*args):\n",
    "        return divergencef(*args)[selected_index]\n",
    "    return seldiv\n",
    "\n",
    "def divergence(k,index):\n",
    "    return get_selected_divergence(k,index,0)\n",
    "\n",
    "def eval_k(k,index):\n",
    "    return k\n",
    "\n",
    "def phi_omega(k,index):\n",
    "    return divergence_k(get_mult(M,dx_k(get_div(k,M),index)),index)"
   ]
  },
  {
   "cell_type": "code",
   "execution_count": null,
   "metadata": {},
   "outputs": [],
   "source": [
    "b = make_block(k,phi_omega,phi_omega)(pairs_int,pairs_int)"
   ]
  },
  {
   "cell_type": "code",
   "execution_count": null,
   "metadata": {},
   "outputs": [],
   "source": []
  },
  {
   "cell_type": "code",
   "execution_count": 13,
   "metadata": {},
   "outputs": [],
   "source": [
    "Kphiphi = make_block(k,laplacian_k,eval_k)(pairs_int,pairs_bdry)"
   ]
  },
  {
   "cell_type": "code",
   "execution_count": 15,
   "metadata": {},
   "outputs": [
    {
     "data": {
      "text/plain": [
       "(441, 96)"
      ]
     },
     "execution_count": 15,
     "metadata": {},
     "output_type": "execute_result"
    }
   ],
   "source": [
    "Kphiphi.shape"
   ]
  },
  {
   "cell_type": "code",
   "execution_count": 16,
   "metadata": {},
   "outputs": [
    {
     "data": {
      "text/plain": [
       "441"
      ]
     },
     "execution_count": 16,
     "metadata": {},
     "output_type": "execute_result"
    }
   ],
   "source": [
    "M_int"
   ]
  },
  {
   "cell_type": "code",
   "execution_count": 17,
   "metadata": {},
   "outputs": [
    {
     "data": {
      "text/plain": [
       "96"
      ]
     },
     "execution_count": 17,
     "metadata": {},
     "output_type": "execute_result"
    }
   ],
   "source": [
    "M_bdry"
   ]
  },
  {
   "cell_type": "code",
   "execution_count": null,
   "metadata": {},
   "outputs": [],
   "source": []
  }
 ],
 "metadata": {
  "kernelspec": {
   "display_name": "myjaxenv",
   "language": "python",
   "name": "python3"
  },
  "language_info": {
   "codemirror_mode": {
    "name": "ipython",
    "version": 3
   },
   "file_extension": ".py",
   "mimetype": "text/x-python",
   "name": "python",
   "nbconvert_exporter": "python",
   "pygments_lexer": "ipython3",
   "version": "3.12.4"
  }
 },
 "nbformat": 4,
 "nbformat_minor": 2
}
