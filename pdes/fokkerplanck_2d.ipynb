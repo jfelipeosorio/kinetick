{
 "cells": [
  {
   "cell_type": "markdown",
   "metadata": {},
   "source": [
    "Tools"
   ]
  },
  {
   "cell_type": "code",
   "execution_count": 1,
   "metadata": {},
   "outputs": [],
   "source": [
    "import sys  \n",
    "sys.path.append('/home/josorior/kinetick/source')\n",
    "#sys.path.append('/home/juanfelipe/Desktop/research/kinetick/source')"
   ]
  },
  {
   "cell_type": "code",
   "execution_count": 2,
   "metadata": {},
   "outputs": [],
   "source": [
    "# Standard tool packages\n",
    "import jax\n",
    "jax.config.update(\"jax_enable_x64\", True)\n",
    "from jax import grad, jacfwd, hessian\n",
    "from jax import vmap\n",
    "import jax.numpy as jnp\n",
    "from jax.numpy import logical_and\n",
    "import matplotlib.pyplot as plt\n",
    "from matplotlib.ticker import StrMethodFormatter\n",
    "from tqdm import tqdm\n",
    "from sklearn.metrics import mean_squared_error\n",
    "# My tools\n",
    "from models import *\n",
    "from mykernels import get_gaussianRBF, get_matern_5_2\n",
    "# Settings\n",
    "#plt.style.use('seaborn-v0_8')\n",
    "plt.rcParams[\"figure.figsize\"] = (5, 5)"
   ]
  },
  {
   "cell_type": "markdown",
   "metadata": {},
   "source": [
    "## PDE"
   ]
  },
  {
   "cell_type": "markdown",
   "metadata": {},
   "source": [
    "Let $M(x) = \\exp\\left(-0.5(x_1^2 + x_2^2)\\right)$. The Fokker-Planck equation in 2d is given by\n",
    "$$\n",
    "\\begin{align*}\n",
    "\n",
    "\\partial_t \\rho (t,x) &= \\text{div}\\left(M(x)\\nabla\\left(\\frac{\\rho(t,x)}{M(x)}\\right)\\right) & \\text{for } t >0, x \\in \\Omega = (-3,3)^2 \\\\\n",
    "\\rho(0,x) &= \\rho^0(x), &\\text{for } x \\in \\Omega \\\\\n",
    "\\nabla\\left(\\frac{\\rho(t,x)}{M(x)} \\cdot \\mathbf{n}\\right) &= 0, & \\text{for } t >0, x \\in \\partial\\Omega = (-3,3)^2\n",
    "\\end{align*}\n",
    "$$\n",
    "whose analytical solution is known to be\n",
    "$$\n",
    "\\rho(t, x)=\\frac{1}{2 \\pi\\left(1-e^{-2 t}\\right)} e^{-\\frac{x_1^2+x_2^2}{2\\left(1-e^{-2 t}\\right)}}.\n",
    "$$\n",
    "\n",
    "We will use the kernel method in closed form since the PDE operator is linear.\n"
   ]
  },
  {
   "cell_type": "markdown",
   "metadata": {},
   "source": [
    "## Kernel solution"
   ]
  },
  {
   "cell_type": "markdown",
   "metadata": {},
   "source": [
    "Choose a kernel"
   ]
  },
  {
   "cell_type": "code",
   "execution_count": 3,
   "metadata": {},
   "outputs": [],
   "source": [
    "# k = get_gaussianRBF(0.2)\n",
    "k = get_matern_5_2(0.2)"
   ]
  },
  {
   "cell_type": "markdown",
   "metadata": {},
   "source": [
    "Note: This is 2d time dependent problem meaning that the kernel actually is of the form\n",
    "$$\n",
    "K(s,w)\n",
    "$$\n",
    "where $s = (t,x_1,x_2)$ and $w = (\\tau,y_1,y_2)$"
   ]
  },
  {
   "cell_type": "markdown",
   "metadata": {},
   "source": [
    "First we choose collocation pointsets $\\Omega^*\\subset\\Omega$ and $\\Omega^*\\subset\\partial\\Omega$"
   ]
  },
  {
   "cell_type": "code",
   "execution_count": 4,
   "metadata": {},
   "outputs": [
    {
     "name": "stderr",
     "output_type": "stream",
     "text": [
      "2024-09-02 12:30:24.989688: W external/xla/xla/service/platform_util.cc:199] unable to create StreamExecutor for CUDA:0: failed initializing StreamExecutor for CUDA device ordinal 0: INTERNAL: failed call to cuDevicePrimaryCtxRetain: CUDA_ERROR_OUT_OF_MEMORY: out of memory; total memory reported: 25280184320\n"
     ]
    }
   ],
   "source": [
    "# \\Omega\n",
    "M_int = int(jnp.sqrt(500))\n",
    "x_1 = jnp.linspace(-3,3,M_int)[1:]\n",
    "x_2 = x_1\n",
    "X_1, X_2 = jnp.meshgrid(x_1, x_2)\n",
    "pairs_int = jnp.vstack([X_1.ravel(),X_2.ravel()]).T\n",
    "M_int = pairs_int.shape[0]\n",
    "\n",
    "# \\partial\\Omega\n",
    "M_bdry = int(25*4)\n",
    "bottom = jnp.vstack((jnp.linspace(-3,3,M_bdry//4), jnp.tile(-3,M_bdry//4))).T\n",
    "top = jnp.vstack((jnp.linspace(-3,3,M_bdry//4), jnp.tile(3,M_bdry//4))).T\n",
    "left = jnp.vstack((jnp.tile(-3,M_bdry//4),jnp.linspace(-3,3,M_bdry//4))).T[1:-1]\n",
    "right = jnp.vstack((jnp.tile(3,M_bdry//4),jnp.linspace(-3,3,M_bdry//4))).T[1:-1]\n",
    "pairs_bdry = jnp.vstack((left,bottom,right,top))\n",
    "M_bdry = pairs_bdry.shape[0]"
   ]
  },
  {
   "cell_type": "markdown",
   "metadata": {},
   "source": [
    "Build the kernel matrix $K(\\phi,\\phi)$ where $\\phi = [\\phi_\\Omega, \\phi_{\\partial\\Omega}]$ and\n",
    "$$\n",
    "\\phi_\\Omega \\left(\\square\\right) = \\delta_{x}\\left(\\square\\right) - h\\left(\\delta_{x} \\circ \\text{div}\\left(M(x)\\nabla\\left(\\frac{\\square}{M(x)}\\right)\\right)\\right) \\qquad \\text{for } x\\in \\Omega\n",
    "$$\n",
    "$$\n",
    "\\phi_{\\partial\\Omega} \\left(\\square\\right) = \\delta_{x} \\circ \\nabla\\left(\\frac{\\square}{M(x)}\\right) \\cdot \\mathbf{n} = \\qquad \\text{for } x\\in \\partial \\Omega\n",
    "$$\n",
    "Thus, the matrix has the form\n",
    "$$\n",
    "K(\\phi,\\phi) = \n",
    "\\begin{pmatrix}\n",
    "\\phi_{\\Omega}\\left(\\phi_{\\Omega}\\left(K(x,y)\\right)\\right) & \\phi_{\\partial\\Omega}\\left(\\phi_{\\Omega}\\left(K(x,y)\\right)\\right) \\\\\n",
    "\\phi_{\\Omega}\\left(\\phi_{\\partial\\Omega}\\left(K(x,y)\\right)\\right) & \\phi_{\\partial\\Omega}\\left(\\phi_{\\partial\\Omega}\\left(K(x,y)\\right)\\right) \\\\\n",
    "\\end{pmatrix}\n",
    "$$\n",
    "where for instance the block $\\phi_{\\Omega}\\left(\\phi_{\\partial\\Omega}\\left(K(x,y)\\right)\\right)$ is evaluated as:\n",
    "\n",
    "1. Apply $\\phi_{\\partial\\Omega}$ to the function $K(x,y)$ as a function of $x$ only. \n",
    "\n",
    "2. Apply $\\phi_\\Omega$ to $\\phi_{\\partial\\Omega}\\left(K(x,y)\\right)$ as a function of $y$ only.\n",
    "\n",
    "Let's compute the blocks."
   ]
  },
  {
   "cell_type": "markdown",
   "metadata": {},
   "source": [
    "$$\\phi_{\\Omega}\\left(\\phi_{\\Omega}\\left(K(x,y)\\right)\\right)$$"
   ]
  },
  {
   "cell_type": "code",
   "execution_count": 5,
   "metadata": {},
   "outputs": [],
   "source": [
    "def get_M(index):\n",
    "    @jit\n",
    "    def M(x,y):\n",
    "        first = jnp.exp(-(jnp.sum(x**2))/ 2.)\n",
    "        secnd = jnp.exp(-(jnp.sum(y**2))/ 2.) \n",
    "        return jnp.where(index == 0, first, secnd)\n",
    "    return M\n",
    "  \n",
    "def n_aux(z):\n",
    "    c_right = z[0] == 3.\n",
    "    c_top = z[1] == 3.\n",
    "    c_left = z[0] == -3.\n",
    "    conds = [c_right,c_top,c_left]\n",
    "    outs = [jnp.array([1.,0.]),jnp.array([0.,1.]),jnp.array([-1.,0.])]\n",
    "    d = jnp.array([0.,-1.])\n",
    "    return jnp.select(conds, outs, default = d)\n",
    "    \n",
    "def get_n(index):\n",
    "    @jit\n",
    "    def n(x,y):\n",
    "        first = n_aux(x)\n",
    "        secnd = n_aux(y)\n",
    "        return jnp.where(index == 0, first, secnd)\n",
    "    return n\n",
    "\n",
    "def fp_2d_sol(t,x):\n",
    "    K = 2*(1-jnp.exp(-2*t))\n",
    "    return 1/(K*jnp.pi)*jnp.exp(-(jnp.sum(x**2))/K)\n",
    "\n",
    "fp_2d_sol = vmap(fp_2d_sol,in_axes=(None,0))"
   ]
  },
  {
   "cell_type": "code",
   "execution_count": 6,
   "metadata": {},
   "outputs": [],
   "source": [
    "def vectorize_kfunc(k):\n",
    "    return vmap(vmap(k, in_axes=(None,0)), in_axes=(0,None))\n",
    "\n",
    "def op_k_apply(k,L_op,R_op):\n",
    "    return R_op(L_op(k,0),1)\n",
    "\n",
    "def make_block(k,L_op,R_op):\n",
    "    return vectorize_kfunc(op_k_apply(k,L_op,R_op))"
   ]
  },
  {
   "cell_type": "code",
   "execution_count": 7,
   "metadata": {},
   "outputs": [],
   "source": [
    "def get_div(f,g):\n",
    "    def f_op_g(x,y):\n",
    "        return f(x,y) / g(x,y)\n",
    "    return f_op_g\n",
    "\n",
    "def get_mult(f,g):\n",
    "    def f_op_g(x,y):\n",
    "        return f(x,y) * g(x,y)\n",
    "    return f_op_g\n",
    "\n",
    "def get_sum(f,g):\n",
    "    def f_op_g(x,y):\n",
    "        return f(x,y) + g(x,y)\n",
    "    return f_op_g\n",
    "\n",
    "def get_subs(f,g):\n",
    "    def f_op_g(x,y):\n",
    "        return f(x,y) - g(x,y)\n",
    "    return f_op_g\n",
    "\n",
    "def get_const(h):\n",
    "    def constant(*args):\n",
    "        return h\n",
    "    return constant\n",
    "\n",
    "def get_dot(f,g):\n",
    "    def dot_f(x,y):\n",
    "        return jnp.dot(f(x,y),g(x,y))\n",
    "    return dot_f"
   ]
  },
  {
   "cell_type": "code",
   "execution_count": 8,
   "metadata": {},
   "outputs": [],
   "source": [
    "def eval_k(k,index):\n",
    "    return k\n",
    "\n",
    "def get_grad(k,index):\n",
    "    return grad(k,index)\n",
    "\n",
    "def divergence_k(k,index):\n",
    "    def divk(*args):\n",
    "        return jnp.trace(jacfwd(k,index)(*args))\n",
    "    return divk\n",
    "\n",
    "\n",
    "h = 1e-2\n",
    "def phi_omega(k,index):\n",
    "    return get_subs(eval_k(k,index),\n",
    "                   get_mult(get_const(h),\n",
    "                            divergence_k(get_mult(get_M(index),get_grad(get_div(k,get_M(index)),index)),index)))\n",
    "def phi_pomega(k,index):\n",
    "    return get_dot(get_n(index),get_grad(get_div(k,get_M(index)),index))\n"
   ]
  },
  {
   "cell_type": "markdown",
   "metadata": {},
   "source": [
    "## One step forward"
   ]
  },
  {
   "cell_type": "markdown",
   "metadata": {},
   "source": [
    "Build $K(\\phi,\\phi)$"
   ]
  },
  {
   "cell_type": "code",
   "execution_count": 9,
   "metadata": {},
   "outputs": [
    {
     "name": "stdout",
     "output_type": "stream",
     "text": [
      "Cond. number: 582812680.8180832\n"
     ]
    }
   ],
   "source": [
    "b11 = make_block(k,phi_omega,phi_omega)(pairs_int,pairs_int)\n",
    "b21 = make_block(k,phi_omega,phi_pomega)(pairs_bdry,pairs_int)\n",
    "b12 = b21.T\n",
    "b22 = make_block(k,phi_pomega,phi_pomega)(pairs_bdry,pairs_bdry)\n",
    "\n",
    "k_pp = jnp.block([[b11,b12],[b21,b22]])\n",
    "# k_pp = k_pp + 1e-8*jnp.diag(jnp.diag(k_pp))\n",
    "print('Cond. number:', jnp.linalg.cond(k_pp))"
   ]
  },
  {
   "cell_type": "markdown",
   "metadata": {},
   "source": [
    "Build $\\beta = K(\\phi,\\phi)z$"
   ]
  },
  {
   "cell_type": "code",
   "execution_count": 10,
   "metadata": {},
   "outputs": [],
   "source": [
    "# beta\n",
    "z_star = jnp.concatenate([fp_2d_sol(0.1,pairs_int),jnp.zeros(pairs_bdry.shape[0])])\n",
    "\n",
    "beta = jnp.linalg.solve(k_pp,z_star)"
   ]
  },
  {
   "cell_type": "markdown",
   "metadata": {},
   "source": [
    "Build $\\hat \\rho(x) = K(x,\\phi)^\\top\\beta$"
   ]
  },
  {
   "cell_type": "code",
   "execution_count": 11,
   "metadata": {},
   "outputs": [],
   "source": [
    "@jit\n",
    "def rho_star(x):\n",
    "    b1 = vmap(vmap(phi_omega(k,1),in_axes=(None,0)),in_axes=(0,None))(x,pairs_int)\n",
    "    b2 = vmap(vmap(phi_pomega(k,1),in_axes=(None,0)),in_axes=(0,None))(x,pairs_bdry)\n",
    "    return jnp.block([[b1,b2]]) @ beta\n",
    "\n",
    "# Build K(X,phi)\n",
    "b1 = vmap(vmap(phi_omega(k,1),in_axes=(None,0)),in_axes=(0,None))(pairs_int,pairs_int)\n",
    "b2 = vmap(vmap(phi_pomega(k,1),in_axes=(None,0)),in_axes=(0,None))(pairs_int,pairs_bdry)\n",
    "k_p = jnp.block([[b1,b2]])"
   ]
  },
  {
   "cell_type": "markdown",
   "metadata": {},
   "source": [
    "Compute $\\hat \\rho (X)$ and $\\rho (X)$"
   ]
  },
  {
   "cell_type": "code",
   "execution_count": 12,
   "metadata": {},
   "outputs": [],
   "source": [
    "pred = rho_star(pairs_int)\n",
    "true = fp_2d_sol(0.1+h,pairs_int)"
   ]
  },
  {
   "cell_type": "code",
   "execution_count": 13,
   "metadata": {},
   "outputs": [
    {
     "name": "stdout",
     "output_type": "stream",
     "text": [
      "NMSE: 0.30544573\n"
     ]
    },
    {
     "data": {
      "image/png": "[encoded data removed]",
      "text/plain": [
       "<Figure size 900x200 with 6 Axes>"
      ]
     },
     "metadata": {},
     "output_type": "display_data"
    }
   ],
   "source": [
    "fig, axs = plt.subplots(figsize = (9,2), nrows = 1, ncols = 3, sharex = True, sharey = True)\n",
    "fig.subplots_adjust(hspace=0.2, wspace=0.1)\n",
    "# True\n",
    "axs0 = axs[0].tricontourf(*pairs_int.T,true,200)\n",
    "axs[0].title.set_text('true')\n",
    "plt.colorbar(axs0, ax = axs[0])\n",
    "# Pred\n",
    "axs1 = axs[1].tricontourf(*pairs_int.T,pred,200)\n",
    "axs[1].title.set_text('pred')\n",
    "plt.colorbar(axs1, ax = axs[1])\n",
    "# Error\n",
    "axs2 = axs[2].tricontourf(*pairs_int.T,jnp.abs(pred-true),200)\n",
    "axs[2].title.set_text('error')\n",
    "plt.colorbar(axs2, ax = axs[2])\n",
    "# Plot settings\n",
    "for i in range(3):\n",
    "    axs[i].set_yticklabels([])\n",
    "    axs[i].set_xticklabels([])\n",
    "    axs[i].set_yticks([])\n",
    "    axs[i].set_xticks([])\n",
    "nmse = mean_squared_error(pred,true)/mean_squared_error(0*pred,true)\n",
    "print(\"NMSE:\", round(nmse,8))\n",
    "plt.show()"
   ]
  },
  {
   "cell_type": "markdown",
   "metadata": {},
   "source": [
    "## Multiple steps"
   ]
  },
  {
   "cell_type": "code",
   "execution_count": 14,
   "metadata": {},
   "outputs": [
    {
     "name": "stdout",
     "output_type": "stream",
     "text": [
      "final time: 0.2\n"
     ]
    },
    {
     "name": "stderr",
     "output_type": "stream",
     "text": [
      "100%|██████████| 10/10 [00:00<00:00, 193.73it/s]\n"
     ]
    }
   ],
   "source": [
    "T = 0.2\n",
    "previous = fp_2d_sol(0.1,pairs_int)\n",
    "steps = int((T-0.1)//h)\n",
    "print('final time:', 0.1 + steps*h)\n",
    "for _ in tqdm(range(steps)):\n",
    "    z_star = jnp.concatenate([previous,jnp.zeros(M_bdry)])\n",
    "    beta = jnp.linalg.solve(k_pp,z_star)\n",
    "    pred = k_p @ beta\n",
    "    #update\n",
    "    previous = pred.copy()"
   ]
  },
  {
   "cell_type": "code",
   "execution_count": 15,
   "metadata": {},
   "outputs": [
    {
     "data": {
      "image/png": "[encoded data removed]",
      "text/plain": [
       "<Figure size 900x200 with 6 Axes>"
      ]
     },
     "metadata": {},
     "output_type": "display_data"
    }
   ],
   "source": [
    "fig, axs = plt.subplots(figsize = (9,2), nrows = 1, ncols = 3, sharex = True, sharey = True)\n",
    "fig.subplots_adjust(hspace=0.2, wspace=0.1)\n",
    "# fig.suptitle('t=0.1 | true at t= {} | pred at t={}'.format(final_t,final_t))\n",
    "# Error\n",
    "axs0 = axs[0].tricontourf(*pairs_int.T,jnp.abs(fp_2d_sol(0.1 + steps*h,pairs_int) - pred),200)\n",
    "axs[0].title.set_text('Error')\n",
    "plt.colorbar(axs0, ax = axs[0])\n",
    "# True next\n",
    "axs1 = axs[1].tricontourf(*pairs_int.T,fp_2d_sol(0.1 + steps*h,pairs_int),200)\n",
    "axs[1].title.set_text('True')\n",
    "plt.colorbar(axs1, ax = axs[1])\n",
    "# Predicted next\n",
    "axs2 = axs[2].tricontourf(*pairs_int.T,previous,200)\n",
    "axs[2].title.set_text('Pred')\n",
    "plt.colorbar(axs2, ax = axs[2])\n",
    "# Plot settings\n",
    "# for i in range(3):\n",
    "#     axs[i].set_yticklabels([])\n",
    "#     axs[i].set_xticklabels([])\n",
    "#     axs[i].set_yticks([])\n",
    "#     axs[i].set_xticks([])\n",
    "#nmse = mean_squared_error(u_next,fp_1d_sol(final_t, Xfull))/mean_squared_error(0*fp_1d_sol(final_t, Xfull),fp_1d_sol(final_t, Xfull))\n",
    "plt.show()"
   ]
  },
  {
   "cell_type": "markdown",
   "metadata": {},
   "source": [
    "## Convergence plots"
   ]
  },
  {
   "cell_type": "code",
   "execution_count": 16,
   "metadata": {},
   "outputs": [],
   "source": [
    "def get_error(h):\n",
    "    def phi_omega(k,index):\n",
    "        return get_subs(eval_k(k,index),\n",
    "                   get_mult(get_const(h),\n",
    "                            divergence_k(get_mult(get_M(index),get_grad(get_div(k,get_M(index)),index)),index)))\n",
    "    b11 = make_block(k,phi_omega,phi_omega)(pairs_int,pairs_int)\n",
    "    b21 = make_block(k,phi_omega,phi_pomega)(pairs_bdry,pairs_int)\n",
    "    b12 = b21.T\n",
    "    b22 = make_block(k,phi_pomega,phi_pomega)(pairs_bdry,pairs_bdry)\n",
    "\n",
    "    k_pp = jnp.block([[b11,b12],\n",
    "                    [b21,b22]])\n",
    "    \n",
    "    # beta\n",
    "    z_star = jnp.concatenate([fp_2d_sol(0.1,pairs_int),jnp.zeros(pairs_bdry.shape[0])])\n",
    "\n",
    "    beta = jnp.linalg.solve(k_pp,z_star)\n",
    "    \n",
    "    def rho_star(x):\n",
    "        b1 = vmap(vmap(phi_omega(k,1),in_axes=(None,0)),in_axes=(0,None))(x,pairs_int)\n",
    "        b2 = vmap(vmap(phi_pomega(k,1),in_axes=(None,0)),in_axes=(0,None))(x,pairs_bdry)\n",
    "        return jnp.block([[b1,b2]]) @ beta\n",
    "    \n",
    "    pred = rho_star(pairs_int)\n",
    "    true = fp_2d_sol(0.1+h,pairs_int)\n",
    "\n",
    "    return mean_squared_error(pred,true)/mean_squared_error(0*pred,true)"
   ]
  },
  {
   "cell_type": "markdown",
   "metadata": {},
   "source": [
    "As $h$ gets smaller do we get better results ?"
   ]
  },
  {
   "cell_type": "code",
   "execution_count": 17,
   "metadata": {},
   "outputs": [],
   "source": [
    "h_s = jnp.flip(jnp.power(10,jnp.arange(-8,-1,1,dtype='float64')))"
   ]
  },
  {
   "cell_type": "code",
   "execution_count": 18,
   "metadata": {},
   "outputs": [
    {
     "name": "stderr",
     "output_type": "stream",
     "text": [
      "100%|██████████| 7/7 [00:14<00:00,  2.08s/it]\n"
     ]
    }
   ],
   "source": [
    "errors = []\n",
    "for h in tqdm(h_s):\n",
    "    errors.append(get_error(h))"
   ]
  },
  {
   "cell_type": "code",
   "execution_count": 19,
   "metadata": {},
   "outputs": [
    {
     "data": {
      "text/plain": [
       "[0.30544573339468284,\n",
       " 0.0006554829326562041,\n",
       " 2.0250771547637012e-06,\n",
       " 1.6935364383600667e-08,\n",
       " 1.6618381625763765e-10,\n",
       " 1.6586831217740648e-12,\n",
       " 1.6583685979928043e-14]"
      ]
     },
     "execution_count": 19,
     "metadata": {},
     "output_type": "execute_result"
    }
   ],
   "source": [
    "errors"
   ]
  },
  {
   "cell_type": "code",
   "execution_count": 20,
   "metadata": {},
   "outputs": [
    {
     "data": {
      "image/png": "[encoded data removed]",
      "text/plain": [
       "<Figure size 500x500 with 1 Axes>"
      ]
     },
     "metadata": {},
     "output_type": "display_data"
    }
   ],
   "source": [
    "plt.loglog(h_s,errors,label ='kernel method')\n",
    "plt.loglog(h_s,h_s, label='slope 1')\n",
    "plt.xlabel('h')\n",
    "plt.ylabel('nmse')\n",
    "plt.legend()\n",
    "plt.show()"
   ]
  },
  {
   "cell_type": "code",
   "execution_count": 21,
   "metadata": {},
   "outputs": [],
   "source": [
    "slope, ycut = jnp.polyfit(jnp.array(h_s),jnp.array(errors), deg=1)"
   ]
  },
  {
   "cell_type": "code",
   "execution_count": 22,
   "metadata": {},
   "outputs": [
    {
     "data": {
      "text/plain": [
       "Array(30.81599475, dtype=float64)"
      ]
     },
     "execution_count": 22,
     "metadata": {},
     "output_type": "execute_result"
    }
   ],
   "source": [
    "slope"
   ]
  },
  {
   "cell_type": "markdown",
   "metadata": {},
   "source": [
    "## Convergence plot"
   ]
  },
  {
   "cell_type": "code",
   "execution_count": 23,
   "metadata": {},
   "outputs": [
    {
     "name": "stderr",
     "output_type": "stream",
     "text": [
      "  0%|          | 0/19 [00:00<?, ?it/s]"
     ]
    },
    {
     "name": "stdout",
     "output_type": "stream",
     "text": [
      "final time: 0.14\n"
     ]
    },
    {
     "name": "stderr",
     "output_type": "stream",
     "text": [
      "100%|██████████| 4/4 [00:00<00:00, 36.93it/s]\n",
      "  5%|▌         | 1/19 [00:09<02:59,  9.95s/it]"
     ]
    },
    {
     "name": "stdout",
     "output_type": "stream",
     "text": [
      "100\n",
      "final time: 0.14\n"
     ]
    },
    {
     "name": "stderr",
     "output_type": "stream",
     "text": [
      "100%|██████████| 4/4 [00:00<00:00, 31.68it/s]\n",
      " 11%|█         | 2/19 [00:21<03:04, 10.84s/it]"
     ]
    },
    {
     "name": "stdout",
     "output_type": "stream",
     "text": [
      "200\n",
      "final time: 0.14\n"
     ]
    },
    {
     "name": "stderr",
     "output_type": "stream",
     "text": [
      "100%|██████████| 4/4 [00:00<00:00, 29.73it/s]\n",
      " 16%|█▌        | 3/19 [00:31<02:51, 10.70s/it]"
     ]
    },
    {
     "name": "stdout",
     "output_type": "stream",
     "text": [
      "300\n",
      "final time: 0.14\n"
     ]
    },
    {
     "name": "stderr",
     "output_type": "stream",
     "text": [
      "100%|██████████| 4/4 [00:00<00:00, 29.15it/s]\n",
      " 21%|██        | 4/19 [00:43<02:46, 11.10s/it]"
     ]
    },
    {
     "name": "stdout",
     "output_type": "stream",
     "text": [
      "400\n",
      "final time: 0.14\n"
     ]
    },
    {
     "name": "stderr",
     "output_type": "stream",
     "text": [
      "100%|██████████| 4/4 [00:00<00:00, 30.98it/s]\n",
      " 26%|██▋       | 5/19 [00:53<02:27, 10.50s/it]"
     ]
    },
    {
     "name": "stdout",
     "output_type": "stream",
     "text": [
      "500\n",
      "final time: 0.14\n"
     ]
    },
    {
     "name": "stderr",
     "output_type": "stream",
     "text": [
      "100%|██████████| 4/4 [00:00<00:00, 29.03it/s]\n",
      " 32%|███▏      | 6/19 [01:05<02:23, 11.05s/it]"
     ]
    },
    {
     "name": "stdout",
     "output_type": "stream",
     "text": [
      "600\n",
      "final time: 0.14\n"
     ]
    },
    {
     "name": "stderr",
     "output_type": "stream",
     "text": [
      "100%|██████████| 4/4 [00:00<00:00, 29.91it/s]\n",
      " 37%|███▋      | 7/19 [01:17<02:16, 11.40s/it]"
     ]
    },
    {
     "name": "stdout",
     "output_type": "stream",
     "text": [
      "700\n",
      "final time: 0.14\n"
     ]
    },
    {
     "name": "stderr",
     "output_type": "stream",
     "text": [
      "100%|██████████| 4/4 [00:00<00:00, 28.47it/s]\n",
      " 42%|████▏     | 8/19 [01:29<02:08, 11.71s/it]"
     ]
    },
    {
     "name": "stdout",
     "output_type": "stream",
     "text": [
      "800\n",
      "final time: 0.14\n"
     ]
    },
    {
     "name": "stderr",
     "output_type": "stream",
     "text": [
      "100%|██████████| 4/4 [00:00<00:00, 27.75it/s]\n",
      " 47%|████▋     | 9/19 [01:41<01:58, 11.88s/it]"
     ]
    },
    {
     "name": "stdout",
     "output_type": "stream",
     "text": [
      "900\n",
      "final time: 0.14\n"
     ]
    },
    {
     "name": "stderr",
     "output_type": "stream",
     "text": [
      "100%|██████████| 4/4 [00:00<00:00, 27.23it/s]"
     ]
    },
    {
     "name": "stdout",
     "output_type": "stream",
     "text": [
      "1000\n"
     ]
    },
    {
     "name": "stderr",
     "output_type": "stream",
     "text": [
      "\n",
      " 53%|█████▎    | 10/19 [01:54<01:48, 12.08s/it]"
     ]
    },
    {
     "name": "stdout",
     "output_type": "stream",
     "text": [
      "final time: 0.14\n"
     ]
    },
    {
     "name": "stderr",
     "output_type": "stream",
     "text": [
      "100%|██████████| 4/4 [00:00<00:00, 27.43it/s]"
     ]
    },
    {
     "name": "stdout",
     "output_type": "stream",
     "text": [
      "1100\n"
     ]
    },
    {
     "name": "stderr",
     "output_type": "stream",
     "text": [
      "\n",
      " 58%|█████▊    | 11/19 [02:06<01:36, 12.08s/it]"
     ]
    },
    {
     "name": "stdout",
     "output_type": "stream",
     "text": [
      "final time: 0.14\n"
     ]
    },
    {
     "name": "stderr",
     "output_type": "stream",
     "text": [
      "100%|██████████| 4/4 [00:00<00:00, 27.74it/s]"
     ]
    },
    {
     "name": "stdout",
     "output_type": "stream",
     "text": [
      "1200\n"
     ]
    },
    {
     "name": "stderr",
     "output_type": "stream",
     "text": [
      "\n",
      " 63%|██████▎   | 12/19 [02:19<01:26, 12.35s/it]"
     ]
    },
    {
     "name": "stdout",
     "output_type": "stream",
     "text": [
      "final time: 0.14\n"
     ]
    },
    {
     "name": "stderr",
     "output_type": "stream",
     "text": [
      "100%|██████████| 4/4 [00:00<00:00, 28.04it/s]"
     ]
    },
    {
     "name": "stdout",
     "output_type": "stream",
     "text": [
      "1300\n"
     ]
    },
    {
     "name": "stderr",
     "output_type": "stream",
     "text": [
      "\n",
      " 68%|██████▊   | 13/19 [02:33<01:16, 12.72s/it]"
     ]
    },
    {
     "name": "stdout",
     "output_type": "stream",
     "text": [
      "final time: 0.14\n"
     ]
    },
    {
     "name": "stderr",
     "output_type": "stream",
     "text": [
      "100%|██████████| 4/4 [00:00<00:00, 27.88it/s]"
     ]
    },
    {
     "name": "stdout",
     "output_type": "stream",
     "text": [
      "1400\n"
     ]
    },
    {
     "name": "stderr",
     "output_type": "stream",
     "text": [
      "\n",
      " 74%|███████▎  | 14/19 [02:46<01:04, 12.89s/it]"
     ]
    },
    {
     "name": "stdout",
     "output_type": "stream",
     "text": [
      "final time: 0.14\n"
     ]
    },
    {
     "name": "stderr",
     "output_type": "stream",
     "text": [
      "100%|██████████| 4/4 [00:00<00:00, 28.20it/s]"
     ]
    },
    {
     "name": "stdout",
     "output_type": "stream",
     "text": [
      "1500\n"
     ]
    },
    {
     "name": "stderr",
     "output_type": "stream",
     "text": [
      "\n",
      " 79%|███████▉  | 15/19 [03:00<00:53, 13.31s/it]"
     ]
    },
    {
     "name": "stdout",
     "output_type": "stream",
     "text": [
      "final time: 0.14\n"
     ]
    },
    {
     "name": "stderr",
     "output_type": "stream",
     "text": [
      "100%|██████████| 4/4 [00:00<00:00, 25.13it/s]"
     ]
    },
    {
     "name": "stdout",
     "output_type": "stream",
     "text": [
      "1600\n"
     ]
    },
    {
     "name": "stderr",
     "output_type": "stream",
     "text": [
      "\n",
      " 84%|████████▍ | 16/19 [03:15<00:40, 13.66s/it]"
     ]
    },
    {
     "name": "stdout",
     "output_type": "stream",
     "text": [
      "final time: 0.14\n"
     ]
    },
    {
     "name": "stderr",
     "output_type": "stream",
     "text": [
      "100%|██████████| 4/4 [00:00<00:00, 25.32it/s]"
     ]
    },
    {
     "name": "stdout",
     "output_type": "stream",
     "text": [
      "1700\n"
     ]
    },
    {
     "name": "stderr",
     "output_type": "stream",
     "text": [
      "\n",
      " 89%|████████▉ | 17/19 [03:29<00:27, 13.77s/it]"
     ]
    },
    {
     "name": "stdout",
     "output_type": "stream",
     "text": [
      "final time: 0.14\n"
     ]
    },
    {
     "name": "stderr",
     "output_type": "stream",
     "text": [
      "100%|██████████| 4/4 [00:00<00:00, 23.40it/s]"
     ]
    },
    {
     "name": "stdout",
     "output_type": "stream",
     "text": [
      "1800\n"
     ]
    },
    {
     "name": "stderr",
     "output_type": "stream",
     "text": [
      "\n",
      " 95%|█████████▍| 18/19 [03:43<00:13, 13.86s/it]"
     ]
    },
    {
     "name": "stdout",
     "output_type": "stream",
     "text": [
      "final time: 0.14\n"
     ]
    },
    {
     "name": "stderr",
     "output_type": "stream",
     "text": [
      "100%|██████████| 4/4 [00:00<00:00, 20.04it/s]\n",
      "100%|██████████| 19/19 [03:58<00:00, 12.54s/it]"
     ]
    },
    {
     "name": "stdout",
     "output_type": "stream",
     "text": [
      "1900\n"
     ]
    },
    {
     "name": "stderr",
     "output_type": "stream",
     "text": [
      "\n"
     ]
    }
   ],
   "source": [
    "norms = []\n",
    "for n in tqdm(jnp.arange(100,2000,100)):\n",
    "    # \\Omega\n",
    "    M_int = int(jnp.sqrt(n))\n",
    "    x_1 = jnp.linspace(-3,3,M_int)[1:]\n",
    "    x_2 = x_1\n",
    "    X_1, X_2 = jnp.meshgrid(x_1, x_2)\n",
    "    pairs_int = jnp.vstack([X_1.ravel(),X_2.ravel()]).T\n",
    "    M_int = pairs_int.shape[0]\n",
    "\n",
    "    # \\partial\\Omega\n",
    "    M_bdry = int(n)\n",
    "    bottom = jnp.vstack((jnp.linspace(-3,3,M_bdry//4), jnp.tile(-3,M_bdry//4))).T\n",
    "    top = jnp.vstack((jnp.linspace(-3,3,M_bdry//4), jnp.tile(3,M_bdry//4))).T\n",
    "    left = jnp.vstack((jnp.tile(-3,M_bdry//4),jnp.linspace(-3,3,M_bdry//4))).T[1:-1]\n",
    "    right = jnp.vstack((jnp.tile(3,M_bdry//4),jnp.linspace(-3,3,M_bdry//4))).T[1:-1]\n",
    "    pairs_bdry = jnp.vstack((left,bottom,right,top))\n",
    "    M_bdry = pairs_bdry.shape[0]\n",
    "\n",
    "    h = 1e-2\n",
    "    def phi_omega(k,index):\n",
    "        return get_subs(eval_k(k,index),\n",
    "                   get_mult(get_const(h),\n",
    "                            divergence_k(get_mult(get_M(index),get_grad(get_div(k,get_M(index)),index)),index)))\n",
    "    \n",
    "    b11 = make_block(k,phi_omega,phi_omega)(pairs_int,pairs_int)\n",
    "    b21 = make_block(k,phi_omega,phi_pomega)(pairs_bdry,pairs_int)\n",
    "    b12 = b21.T\n",
    "    b22 = make_block(k,phi_pomega,phi_pomega)(pairs_bdry,pairs_bdry)\n",
    "\n",
    "    k_pp = jnp.block([[b11,b12],[b21,b22]])\n",
    "\n",
    "    # Build K(X,phi)\n",
    "    b1 = vmap(vmap(phi_omega(k,1),in_axes=(None,0)),in_axes=(0,None))(pairs_int,pairs_int)\n",
    "    b2 = vmap(vmap(phi_pomega(k,1),in_axes=(None,0)),in_axes=(0,None))(pairs_int,pairs_bdry)\n",
    "    k_p = jnp.block([[b1,b2]])\n",
    "\n",
    "    # beta\n",
    "    T = 0.14\n",
    "    previous = fp_2d_sol(0.1,pairs_int)\n",
    "    steps = int((T-0.1)//h)\n",
    "    print('final time:', 0.1 + steps*h)\n",
    "    for _ in tqdm(range(steps)):\n",
    "        z_star = jnp.concatenate([previous,jnp.zeros(pairs_bdry.shape[0])])\n",
    "        beta = jnp.linalg.solve(k_pp,z_star)\n",
    "        pred = k_p @ beta\n",
    "        #update\n",
    "        previous = pred.copy()\n",
    "    \n",
    "    true = fp_2d_sol(T,pairs_int)\n",
    "    print(n)\n",
    "    norms.append(mean_squared_error(pred,true)/mean_squared_error(0*pred,true))"
   ]
  },
  {
   "cell_type": "code",
   "execution_count": 26,
   "metadata": {},
   "outputs": [
    {
     "data": {
      "image/png": "[encoded data removed]",
      "text/plain": [
       "<Figure size 500x500 with 1 Axes>"
      ]
     },
     "metadata": {},
     "output_type": "display_data"
    }
   ],
   "source": [
    "Ns = [n for n in jnp.arange(100,2000,100)]\n",
    "plt.plot(Ns,norms)\n",
    "plt.xlabel('number of collocation points')\n",
    "plt.ylabel('normalized error')\n",
    "plt.title('Error plot at t = 0.14')\n",
    "plt.show()"
   ]
  },
  {
   "cell_type": "markdown",
   "metadata": {},
   "source": [
    "- The kernel matrix is ill-conditioned, and every iteration of the time-stepping when we solve for the linear system\n",
    "$$\n",
    "\\beta = K(\\phi,\\phi)^{-1} z\n",
    "$$\n",
    "will lead to very different results.\n",
    "- Experiments show convergence of the method but since we have such an ill-conditioned matrix, we might want to switched to the method of lines approach now.\n"
   ]
  },
  {
   "cell_type": "code",
   "execution_count": null,
   "metadata": {},
   "outputs": [],
   "source": []
  }
 ],
 "metadata": {
  "kernelspec": {
   "display_name": "myjaxenv",
   "language": "python",
   "name": "python3"
  },
  "language_info": {
   "codemirror_mode": {
    "name": "ipython",
    "version": 3
   },
   "file_extension": ".py",
   "mimetype": "text/x-python",
   "name": "python",
   "nbconvert_exporter": "python",
   "pygments_lexer": "ipython3",
   "version": "3.12.4"
  }
 },
 "nbformat": 4,
 "nbformat_minor": 2
}
