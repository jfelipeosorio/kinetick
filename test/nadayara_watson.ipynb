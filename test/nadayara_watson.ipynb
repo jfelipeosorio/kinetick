{
 "cells": [
  {
   "cell_type": "code",
   "execution_count": 44,
   "metadata": {},
   "outputs": [],
   "source": [
    "import jax.numpy as jnp\n",
    "from jax import vmap\n",
    "from functools import partial\n",
    "import itertools\n",
    "import matplotlib.pyplot as plt"
   ]
  },
  {
   "cell_type": "code",
   "execution_count": 45,
   "metadata": {},
   "outputs": [],
   "source": [
    "# True solution\n",
    "def fp_sol(x,t):\n",
    "    K = 2*(1-jnp.exp(-2*t))\n",
    "    return 1/(K*jnp.pi)*jnp.exp(-(jnp.sum(x**2))/K)\n",
    "\n",
    "fp_sol = vmap(fp_sol,in_axes=(0,None)) # vmap'ed"
   ]
  },
  {
   "cell_type": "code",
   "execution_count": 46,
   "metadata": {},
   "outputs": [],
   "source": [
    "# Data\n",
    "x_train = jnp.linspace(-1,1,50)\n",
    "y_train = fp_sol(x_train.reshape(-1,1),0.1)\n",
    "\n",
    "x_test = jnp.linspace(-4,4,100)\n",
    "y_test = fp_sol(x_test.reshape(-1,1),0.1)"
   ]
  },
  {
   "cell_type": "code",
   "execution_count": 52,
   "metadata": {},
   "outputs": [],
   "source": [
    "\n",
    "\n",
    "def gaussian_kernel(x, x_train, bandwidth):\n",
    "    return jnp.exp(-0.5 * ((x - x_train) / bandwidth) ** 2)\n",
    "\n",
    "def nadaraya_watson_predict(x_query, x_train, y_train, bandwidth):\n",
    "    def predict_one(xq):\n",
    "        weights = gaussian_kernel(xq, x_train, bandwidth)\n",
    "        weighted_sum = jnp.sum(weights * y_train)\n",
    "        normalizer = jnp.sum(weights)\n",
    "        return weighted_sum / normalizer\n",
    "    return vmap(predict_one)(x_query)\n",
    "\n",
    "def mean_squared_error(y_true, y_pred):\n",
    "    return jnp.mean((y_true - y_pred) ** 2)\n",
    "\n",
    "def k_fold_split(x, y, k):\n",
    "    n = len(x)\n",
    "    idx = jnp.arange(n)\n",
    "    folds = jnp.array_split(idx, k)\n",
    "    for i in range(k):\n",
    "        val_idx = folds[i]\n",
    "        train_idx = jnp.concatenate([folds[j] for j in range(k) if j != i])\n",
    "        yield x[train_idx], y[train_idx], x[val_idx], y[val_idx]\n",
    "\n",
    "def cross_validate_bandwidth(x, y, bandwidths, k=5):\n",
    "    def cv_loss(bw):\n",
    "        def fold_loss(x_train, y_train, x_val, y_val):\n",
    "            y_pred = nadaraya_watson_predict(x_val, x_train, y_train, bw)\n",
    "            return mean_squared_error(y_val, y_pred)\n",
    "        \n",
    "        losses = []\n",
    "        for x_train, y_train, x_val, y_val in k_fold_split(x, y, k):\n",
    "            loss = fold_loss(x_train, y_train, x_val, y_val)\n",
    "            losses.append(loss)\n",
    "        return jnp.mean(jnp.array(losses))\n",
    "    \n",
    "    losses = jnp.array([cv_loss(bw) for bw in bandwidths])\n",
    "    best_idx = jnp.argmin(losses)\n",
    "    return bandwidths[best_idx], losses[best_idx]"
   ]
  },
  {
   "cell_type": "code",
   "execution_count": 48,
   "metadata": {},
   "outputs": [],
   "source": [
    "bandwidths = jnp.linspace(0.01, 0.2, 40)\n",
    "best_bw, best_loss = cross_validate_bandwidth(x_train, y_train, bandwidths, k=3)"
   ]
  },
  {
   "cell_type": "code",
   "execution_count": 49,
   "metadata": {},
   "outputs": [
    {
     "data": {
      "text/plain": [
       "Array(0.01, dtype=float32)"
      ]
     },
     "execution_count": 49,
     "metadata": {},
     "output_type": "execute_result"
    }
   ],
   "source": [
    "best_bw"
   ]
  },
  {
   "cell_type": "code",
   "execution_count": 50,
   "metadata": {},
   "outputs": [],
   "source": [
    "y_pred = nadaraya_watson_predict(x_test,x_train,y_train,bandwidth=best_bw)"
   ]
  },
  {
   "cell_type": "code",
   "execution_count": 51,
   "metadata": {},
   "outputs": [
    {
     "data": {
      "image/png": "[encoded data removed]",
      "text/plain": [
       "<Figure size 640x480 with 1 Axes>"
      ]
     },
     "metadata": {},
     "output_type": "display_data"
    }
   ],
   "source": [
    "plt.scatter(x_train, y_train,\n",
    "            c = 'red',\n",
    "            label = 'traininig points')\n",
    "plt.plot(x_test,y_pred,\n",
    "         c = 'black',\n",
    "         label = 'pred')\n",
    "plt.legend()\n",
    "plt.show()"
   ]
  },
  {
   "cell_type": "markdown",
   "metadata": {},
   "source": [
    "# Estimator"
   ]
  },
  {
   "cell_type": "markdown",
   "metadata": {},
   "source": [
    "Given data $(X,y)$. The NW estimator is given by:\n",
    "\n",
    "$$\n",
    "\\hat u(x) = \\frac{1}{\\sum_{i=1}^N K(x,x_i)} K(x,X)^\\top y\n",
    "$$"
   ]
  },
  {
   "cell_type": "markdown",
   "metadata": {},
   "source": [
    "# Does it interpolate the data?"
   ]
  },
  {
   "cell_type": "markdown",
   "metadata": {},
   "source": [
    "$$\n",
    "\\hat u(x_i) = \\frac{1}{\\sum_{j=1}^N K(x_i,x_j)} K(x_i,X)^\\top y \\neq y_i\n",
    "$$\n",
    "No."
   ]
  },
  {
   "cell_type": "markdown",
   "metadata": {},
   "source": [
    "## Bounded linear functional of this ?"
   ]
  },
  {
   "cell_type": "markdown",
   "metadata": {},
   "source": [
    "$$\n",
    "\\partial_x(\\hat u)(x) = \\partial_x \\left(\\frac{1}{\\sum_{j=1}^N K(x_i,x_j)} K(x_i,X)^\\top y \\neq y_i\\right)\n",
    "$$"
   ]
  },
  {
   "cell_type": "code",
   "execution_count": null,
   "metadata": {},
   "outputs": [],
   "source": []
  },
  {
   "cell_type": "code",
   "execution_count": null,
   "metadata": {},
   "outputs": [],
   "source": []
  },
  {
   "cell_type": "code",
   "execution_count": null,
   "metadata": {},
   "outputs": [],
   "source": []
  }
 ],
 "metadata": {
  "kernelspec": {
   "display_name": "keqlenv",
   "language": "python",
   "name": "python3"
  },
  "language_info": {
   "codemirror_mode": {
    "name": "ipython",
    "version": 3
   },
   "file_extension": ".py",
   "mimetype": "text/x-python",
   "name": "python",
   "nbconvert_exporter": "python",
   "pygments_lexer": "ipython3",
   "version": "3.11.3"
  }
 },
 "nbformat": 4,
 "nbformat_minor": 2
}
