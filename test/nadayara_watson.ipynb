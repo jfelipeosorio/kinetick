{
 "cells": [
  {
   "cell_type": "code",
   "execution_count": 4,
   "metadata": {},
   "outputs": [],
   "source": [
    "# Import packages\n",
    "import sys\n",
    "sys.path.append('/home/juanfelipe/Desktop/research/kinetick/source')\n",
    "import jax.numpy as np\n",
    "from jax import grad, jit\n",
    "from jax.scipy.optimize import minimize\n",
    "\n",
    "import numpy as np\n",
    "import matplotlib.pyplot as plt \n",
    "from tqdm import tqdm\n",
    "#from sklearn.preprocessing import MinMaxScaler\n",
    "from sklearn.kernel_ridge import KernelRidge\n",
    "from parameter_learning import *\n",
    "from plotlib import *\n",
    "from models import * \n",
    "from interpolation import *\n",
    "from kernels import *\n",
    "from integrate import trap, trap2d\n",
    "from sklearn.metrics import mean_squared_error\n",
    "from jax import clear_caches\n",
    "import jax.numpy as jnp\n",
    "from jax import grad, jit\n",
    "from jax.config import config; \n",
    "from numpy.linalg import norm\n",
    "config.update(\"jax_enable_x64\", True)\n",
    "\n",
    "from functools import partial # for jit to make codes faster\n",
    "clear_caches()"
   ]
  },
  {
   "cell_type": "code",
   "execution_count": 5,
   "metadata": {},
   "outputs": [],
   "source": [
    "# True solution\n",
    "def fp_sol(x,t):\n",
    "    K = 2*(1-jnp.exp(-2*t))\n",
    "    return 1/(K*jnp.pi)*jnp.exp(-(jnp.sum(x**2))/K)\n",
    "\n",
    "fp_sol = vmap(fp_sol,in_axes=(0,None)) # vmap'ed"
   ]
  },
  {
   "cell_type": "code",
   "execution_count": 6,
   "metadata": {},
   "outputs": [],
   "source": [
    "k = get_gaussianRBF(0.25)"
   ]
  },
  {
   "cell_type": "code",
   "execution_count": 7,
   "metadata": {},
   "outputs": [],
   "source": [
    "# a in [-a,a]^2\n",
    "a = 1\n",
    "# \\Omega\n",
    "# n = 51\n",
    "n = int(jnp.sqrt(500))\n",
    "full_grid = jnp.linspace(-a,a,n)\n",
    "interior_grid = full_grid[1:-1]\n",
    "X,Y = jnp.meshgrid(*([interior_grid]*2))\n",
    "interior_points = jnp.vstack([X.flatten(),Y.flatten()]).T\n",
    "n_interior = len(interior_points)\n",
    "\n",
    "# \\partial\\Omega\n",
    "bottom = jnp.vstack([full_grid,-a*jnp.ones(n)]).T\n",
    "top = jnp.vstack([full_grid,a*jnp.ones(n)]).T\n",
    "\n",
    "left = jnp.vstack([-a*jnp.ones(n-2),interior_grid]).T\n",
    "right = jnp.vstack([a*jnp.ones(n-2),interior_grid]).T\n",
    "\n",
    "hor_points = jnp.vstack([bottom,top])\n",
    "vert_points = jnp.vstack([left,right])\n",
    "\n",
    "n_boundary = len(hor_points) + len(vert_points)"
   ]
  },
  {
   "cell_type": "code",
   "execution_count": null,
   "metadata": {},
   "outputs": [],
   "source": []
  },
  {
   "cell_type": "code",
   "execution_count": null,
   "metadata": {},
   "outputs": [],
   "source": [
    "def M(x):\n",
    "    return jnp.exp(-0.5*(jnp.sum(x**2)))\n",
    "\n",
    "# Elliptic operator\n",
    "def P(k,index):\n",
    "    def k_over_M(*args):\n",
    "            return k(*args)/M(args[index])\n",
    "\n",
    "    def Mgrad(*args):\n",
    "         return M(args[index]) * jax.grad(k_over_M,argnums = index)(*args)\n",
    "    def Pk(*args):\n",
    "        return jnp.trace(jax.jacfwd(Mgrad)(*args))\n",
    "    return Pk\n",
    "# I - h*P  operator\n",
    "h = 1e-2\n",
    "def IminP(k,index):\n",
    "    def op(*args):\n",
    "        return k(*args) - h * P(k,index)(*args)\n",
    "    return op\n",
    "# Boundary operator: top and bottom\n",
    "def BC_hor(k,index):\n",
    "    def kM(*args):\n",
    "        return k(*args)/M(args[index])\n",
    "    def neumann_op_k(*args):\n",
    "        return jnp.dot(jax.grad(kM,argnums=index)(*args),jnp.array([0,1.]))\n",
    "    return neumann_op_k\n",
    "# Boundary operator: left and right\n",
    "def BC_vert(k,index):\n",
    "    def kM(*args):\n",
    "        return k(*args)/M(args[index])\n",
    "    def neumann_op_k(*args):\n",
    "        return jnp.dot(jax.grad(kM,argnums=index)(*args),jnp.array([1.,0]))\n",
    "    return neumann_op_k\n",
    "      "
   ]
  }
 ],
 "metadata": {
  "kernelspec": {
   "display_name": "keqlenv",
   "language": "python",
   "name": "python3"
  },
  "language_info": {
   "codemirror_mode": {
    "name": "ipython",
    "version": 3
   },
   "file_extension": ".py",
   "mimetype": "text/x-python",
   "name": "python",
   "nbconvert_exporter": "python",
   "pygments_lexer": "ipython3",
   "version": "3.11.3"
  }
 },
 "nbformat": 4,
 "nbformat_minor": 2
}
